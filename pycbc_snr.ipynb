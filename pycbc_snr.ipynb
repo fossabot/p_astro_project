{
 "cells": [
  {
   "cell_type": "code",
   "execution_count": 5,
   "metadata": {},
   "outputs": [],
   "source": [
    "import pycbc\n",
    "import pandas as pd\n",
    "from pycbc.psd import interpolate, inverse_spectrum_truncation\n",
    "from pycbc.waveform import get_fd_waveform, get_td_waveform\n",
    "from pycbc.filter import matched_filter\n",
    "from pycbc.frame import read_frame\n",
    "\n",
    "import astropy\n",
    "import astropy.units as u\n",
    "from astropy.coordinates import Distance\n",
    "\n",
    "import numpy as np"
   ]
  },
  {
   "cell_type": "markdown",
   "metadata": {},
   "source": [
    "### Choice of python module for generating SNRs\n",
    "Assuming I'm going to have mass, spins, redshift, then I can use either:\n",
    "* pycbc\n",
    "* gwcosmo\n",
    "\n",
    "I've used gwcosmo before so I know what to do. BUT it would be useful to get to know how to use pycbc.\n",
    "\n",
    "If using pycbc, then I need to identify the function that generates the SNRs from these parameters, or otherwise how to go about it.\n",
    "\n",
    "What I could do is generate a waveform https://pycbc.org/pycbc/latest/html/waveform.html , make some assumptions on localisation and orientation, and basically recreate the gwcosmo method using pycbc.\n",
    "\n",
    "There's some PyCBC tutorials here:\n",
    "\n",
    "https://github.com/gwastro/PyCBC-Tutorials/tree/master/tutorial\n",
    "\n",
    "and on the PyCBC site here is an example for getting SNRs:\n",
    "\n",
    "https://pycbc.org/pycbc/latest/html/gw150914.html#calculate-the-signal-to-noise\n",
    "\n",
    "also:\n",
    "\n",
    "https://colab.research.google.com/github/gwastro/pycbc-tutorials/blob/master/tutorial/4_ChisqSignificance.ipynb\n",
    "\n"
   ]
  },
  {
   "cell_type": "markdown",
   "metadata": {},
   "source": []
  },
  {
   "cell_type": "code",
   "execution_count": 6,
   "metadata": {},
   "outputs": [
    {
     "name": "stdout",
     "output_type": "stream",
     "text": [
      "        mass_1  mass_ratio       a_1       a_2  cos_tilt_1  cos_tilt_2  \\\n",
      "0    22.056523    0.767754  0.751024  0.142014    0.286826   -0.515417   \n",
      "1     5.805150    0.993436  0.099410  0.091699    0.829104    0.882716   \n",
      "2     7.263957    0.900571  0.125792  0.065968    0.622391    0.478437   \n",
      "3     7.257986    0.948814  0.621568  0.153819   -0.847138    0.650109   \n",
      "4     5.902655    0.996058  0.127403  0.156745    0.943029   -0.263742   \n",
      "..         ...         ...       ...       ...         ...         ...   \n",
      "994  30.658075    0.491933  0.234713  0.243600   -0.975409   -0.847887   \n",
      "995   6.558153    0.938410  0.049162  0.087783    0.640301    0.844103   \n",
      "996   5.708825    0.999993  0.101983  0.244539   -0.535588   -0.898019   \n",
      "997  11.026279    0.975759  0.233074  0.122636    0.628326   -0.360758   \n",
      "998   5.908234    0.998376  0.046291  0.602827   -0.431980    0.345362   \n",
      "\n",
      "     redshift   chi_eff    tilt_1    tilt_2  sin_tilt_1  sin_tilt_2     chi_p  \\\n",
      "0    2.070143  0.090067  1.279885  2.112290    0.957983    0.856940  0.719468   \n",
      "1    0.825910  0.081685  0.593293  0.489184    0.559095    0.469906  0.055580   \n",
      "2    1.509814  0.056149  0.899003  1.071922    0.782707    0.878122  0.098458   \n",
      "3    1.689336 -0.221506  2.581372  0.863069    0.531373    0.759841  0.330285   \n",
      "4    0.602257  0.039562  0.339176  1.837696    0.332710    0.964593  0.150514   \n",
      "..        ...       ...       ...       ...         ...         ...       ...   \n",
      "994  1.612085 -0.221556  2.919364  2.582784    0.220404    0.530176  0.057639   \n",
      "995  1.632896  0.052111  0.875906  0.565906    0.768124    0.536180  0.043770   \n",
      "996  1.983104 -0.137110  2.136000  2.686042    0.844480    0.439957  0.107586   \n",
      "997  1.627025  0.052272  0.891397  1.939876    0.777950    0.932660  0.181320   \n",
      "998  1.928299  0.094006  2.017483  1.218172    0.901883    0.938470  0.564685   \n",
      "\n",
      "       spin1z    spin2z    spin1x    spin2x  \n",
      "0    0.215413 -0.073196  0.719468  0.121697  \n",
      "1    0.082421  0.080944  0.055580  0.043090  \n",
      "2    0.078292  0.031562  0.098458  0.057928  \n",
      "3   -0.526553  0.099999  0.330285  0.116878  \n",
      "4    0.120144 -0.041340  0.042388  0.151195  \n",
      "..        ...       ...       ...       ...  \n",
      "994 -0.228941 -0.206545  0.051732  0.129151  \n",
      "995  0.031478  0.074098  0.037762  0.047068  \n",
      "996 -0.054621 -0.219600  0.086123  0.107586  \n",
      "997  0.146446 -0.044242  0.181320  0.114377  \n",
      "998 -0.019997  0.208193  0.041749  0.565735  \n",
      "\n",
      "[999 rows x 17 columns]\n"
     ]
    }
   ],
   "source": [
    "# import the samples\n",
    "samples = pd.read_csv('params_for_SNR.csv', index_col=0)\n",
    "print(samples)"
   ]
  },
  {
   "cell_type": "markdown",
   "metadata": {},
   "source": [
    "For the psd strain info, see:\n",
    "\n",
    "https://pycbc.org/pycbc/latest/html/pycbc_condition_strain.html?highlight=gwf\n",
    "\n",
    "\n",
    "from CB for comparing rates https://gw-universe.org/population_model.html\n",
    "\n",
    "### To be addressed\n",
    "* All events at one location or uniformly distributed over the sky?\n",
    "* Set time to cover an observing run?\n",
    "* The below is for one detector, I will need to combine multiple detectors\n",
    "* Check if my sampled masses are detector frame or not\n",
    "* I need to assume an H0, 70?\n",
    "    * also the distance conversion, co-moving, look-back, luminosity?\n",
    "    * https://users.astro.ufl.edu/~guzman/ast6415/spring_16/projects/project01.html \n",
    "    * default cosmology is\n",
    "* PyCBC appears to accept spin1z...and not chi_eff so need to perform a conversion\n",
    "    * there must be the ability to feed the chi_eff and chi_p ???\n",
    "    * which angle is tilt, to x,y,z?\n",
    "    * I have an a_1 and a_2 and a theta_1 and theta_2\n",
    "    * page 22 of https://arxiv.org/pdf/2010.14533.pdf , chi1 here is a_1 in other works https://arxiv.org/pdf/2001.06051.pdf\n",
    "    * a1*cos_tilt1 = spin1z, that aligned with orbital angular momentum **check** \n",
    "        * confirmed\n",
    "    * so then the rest of the spin should be in the orbital plane\n",
    "        * does it matter between x and y? If not then I can just assign all of the rest of the spin to x OR y\n",
    "        * I **need to** check the PyCBC code to see what it does with spinx and spiny and I can then determine if I can do the above\n",
    "\n",
    "From the papers, for **spin**:\n",
    "\n",
    "\\begin{align}\n",
    "\\chi_{eff} &=  \\frac{S_{1z} \\times M_{1} + S_{2z} \\times M_{2}}{M_{1} + M_{2}} \\space \\text{from PyCBC code} \\\\\n",
    "&= \\frac{M_{1} \\vec{a_{1}} + M_{2} \\vec{a_{2}}}{M_{1} + M{2}} \\hat{L}_{N} \\space \\text{from paper} \\\\\n",
    "&= \\frac{M_{1} a_{1}\\cos{t_{1}} + M_{2} a_{2}\\cos{t_{2}}}{M_{1} + M{2}} \\space \\text{for t tilt angle between spin and L}\\\\\n",
    "&= \\frac{\\chi_{1}\\cos{\\theta_{1} + q\\chi_{2}\\cos{\\theta_2}}}{1+q} \\space \\text{from other paper chi is dimensionless spin}\\\\\n",
    "&= \\frac{M_{1} \\chi_{1}\\cos{\\theta_{1}} + M_{2} \\chi_{2}\\cos{\\theta_{2}}}{M_{1} + M{2}}\\\\\n",
    "\\end{align}\n",
    "\n",
    "so $S_{1z} = a_{1} \\times \\cos{\\theta_{1}}$\n",
    "\n",
    "so then surely $a_{1} \\times \\sin{\\theta{1}}$ is the dimensionless spin in the x, y plane. As the objects orbit this will oscillate between x and y, so I can say that all of it is initially in x or y.\n",
    "\n",
    "For $\\chi_{p}$ https://journals.aps.org/prd/pdf/10.1103/PhysRevD.91.024043\n",
    "\n",
    "$\\chi_{p} = \\text{max}(a_{1}\\sin{\\theta_{1}}, \\frac{4q + 3}{4+3q}qa_{2}\\sin{\\theta_2})$\n",
    "\n",
    "what is the factor in front of the second term telling me?\n"
   ]
  },
  {
   "cell_type": "code",
   "execution_count": 7,
   "metadata": {},
   "outputs": [],
   "source": [
    "# convert our redshifts into luminosity distances\n",
    "# samples['dl'] = (samples['redshift']* astropy.cosmology.units.redshift).to(u.Mpc, astropy.cosmoloy.units.redshift_distance(None, kind=\"luminosity\")) \n",
    "d = Distance(unit=u.Mpc, z = samples['redshift'], cosmology = None).value\n",
    "dl = np.asarray(d)\n",
    "samples = samples.assign(dl = dl)\n",
    "# print(samples)"
   ]
  },
  {
   "cell_type": "code",
   "execution_count": 8,
   "metadata": {},
   "outputs": [
    {
     "name": "stdout",
     "output_type": "stream",
     "text": [
      "        mass_1  mass_ratio       a_1       a_2  cos_tilt_1  cos_tilt_2  \\\n",
      "0    22.056523    0.767754  0.751024  0.142014    0.286826   -0.515417   \n",
      "1     5.805150    0.993436  0.099410  0.091699    0.829104    0.882716   \n",
      "2     7.263957    0.900571  0.125792  0.065968    0.622391    0.478437   \n",
      "3     7.257986    0.948814  0.621568  0.153819   -0.847138    0.650109   \n",
      "4     5.902655    0.996058  0.127403  0.156745    0.943029   -0.263742   \n",
      "..         ...         ...       ...       ...         ...         ...   \n",
      "994  30.658075    0.491933  0.234713  0.243600   -0.975409   -0.847887   \n",
      "995   6.558153    0.938410  0.049162  0.087783    0.640301    0.844103   \n",
      "996   5.708825    0.999993  0.101983  0.244539   -0.535588   -0.898019   \n",
      "997  11.026279    0.975759  0.233074  0.122636    0.628326   -0.360758   \n",
      "998   5.908234    0.998376  0.046291  0.602827   -0.431980    0.345362   \n",
      "\n",
      "     redshift   chi_eff    tilt_1    tilt_2  sin_tilt_1  sin_tilt_2     chi_p  \\\n",
      "0    2.070143  0.090067  1.279885  2.112290    0.957983    0.856940  0.719468   \n",
      "1    0.825910  0.081685  0.593293  0.489184    0.559095    0.469906  0.055580   \n",
      "2    1.509814  0.056149  0.899003  1.071922    0.782707    0.878122  0.098458   \n",
      "3    1.689336 -0.221506  2.581372  0.863069    0.531373    0.759841  0.330285   \n",
      "4    0.602257  0.039562  0.339176  1.837696    0.332710    0.964593  0.150514   \n",
      "..        ...       ...       ...       ...         ...         ...       ...   \n",
      "994  1.612085 -0.221556  2.919364  2.582784    0.220404    0.530176  0.057639   \n",
      "995  1.632896  0.052111  0.875906  0.565906    0.768124    0.536180  0.043770   \n",
      "996  1.983104 -0.137110  2.136000  2.686042    0.844480    0.439957  0.107586   \n",
      "997  1.627025  0.052272  0.891397  1.939876    0.777950    0.932660  0.181320   \n",
      "998  1.928299  0.094006  2.017483  1.218172    0.901883    0.938470  0.564685   \n",
      "\n",
      "       spin1z    spin2z    spin1x    spin2x            dl  \n",
      "0    0.215413 -0.073196  0.719468  0.121697  16608.258420  \n",
      "1    0.082421  0.080944  0.055580  0.043090   5367.915557  \n",
      "2    0.078292  0.031562  0.098458  0.057928  11283.128765  \n",
      "3   -0.526553  0.099999  0.330285  0.116878  12952.753342  \n",
      "4    0.120144 -0.041340  0.042388  0.151195   3652.439210  \n",
      "..        ...       ...       ...       ...           ...  \n",
      "994 -0.228941 -0.206545  0.051732  0.129151  12229.594677  \n",
      "995  0.031478  0.074098  0.037762  0.047068  12423.725785  \n",
      "996 -0.054621 -0.219600  0.086123  0.107586  15760.529169  \n",
      "997  0.146446 -0.044242  0.181320  0.114377  12368.904969  \n",
      "998 -0.019997  0.208193  0.041749  0.565735  15230.268107  \n",
      "\n",
      "[999 rows x 18 columns]\n"
     ]
    }
   ],
   "source": [
    "print(samples)"
   ]
  },
  {
   "cell_type": "code",
   "execution_count": 9,
   "metadata": {},
   "outputs": [
    {
     "name": "stdout",
     "output_type": "stream",
     "text": [
      "fp=-0.3854854760351692, fc=0.7059872046425248\n"
     ]
    },
    {
     "ename": "KeyError",
     "evalue": "'mass_2'",
     "output_type": "error",
     "traceback": [
      "\u001b[0;31m---------------------------------------------------------------------------\u001b[0m",
      "\u001b[0;31mKeyError\u001b[0m                                  Traceback (most recent call last)",
      "\u001b[0;32m/data/wiay/johnny/phd1/phd1/lib/python3.7/site-packages/pandas/core/indexes/base.py\u001b[0m in \u001b[0;36mget_loc\u001b[0;34m(self, key, method, tolerance)\u001b[0m\n\u001b[1;32m   3360\u001b[0m             \u001b[0;32mtry\u001b[0m\u001b[0;34m:\u001b[0m\u001b[0;34m\u001b[0m\u001b[0;34m\u001b[0m\u001b[0m\n\u001b[0;32m-> 3361\u001b[0;31m                 \u001b[0;32mreturn\u001b[0m \u001b[0mself\u001b[0m\u001b[0;34m.\u001b[0m\u001b[0m_engine\u001b[0m\u001b[0;34m.\u001b[0m\u001b[0mget_loc\u001b[0m\u001b[0;34m(\u001b[0m\u001b[0mcasted_key\u001b[0m\u001b[0;34m)\u001b[0m\u001b[0;34m\u001b[0m\u001b[0;34m\u001b[0m\u001b[0m\n\u001b[0m\u001b[1;32m   3362\u001b[0m             \u001b[0;32mexcept\u001b[0m \u001b[0mKeyError\u001b[0m \u001b[0;32mas\u001b[0m \u001b[0merr\u001b[0m\u001b[0;34m:\u001b[0m\u001b[0;34m\u001b[0m\u001b[0;34m\u001b[0m\u001b[0m\n",
      "\u001b[0;32m/data/wiay/johnny/phd1/phd1/lib/python3.7/site-packages/pandas/_libs/index.pyx\u001b[0m in \u001b[0;36mpandas._libs.index.IndexEngine.get_loc\u001b[0;34m()\u001b[0m\n",
      "\u001b[0;32m/data/wiay/johnny/phd1/phd1/lib/python3.7/site-packages/pandas/_libs/index.pyx\u001b[0m in \u001b[0;36mpandas._libs.index.IndexEngine.get_loc\u001b[0;34m()\u001b[0m\n",
      "\u001b[0;32mpandas/_libs/hashtable_class_helper.pxi\u001b[0m in \u001b[0;36mpandas._libs.hashtable.PyObjectHashTable.get_item\u001b[0;34m()\u001b[0m\n",
      "\u001b[0;32mpandas/_libs/hashtable_class_helper.pxi\u001b[0m in \u001b[0;36mpandas._libs.hashtable.PyObjectHashTable.get_item\u001b[0;34m()\u001b[0m\n",
      "\u001b[0;31mKeyError\u001b[0m: 'mass_2'",
      "\nThe above exception was the direct cause of the following exception:\n",
      "\u001b[0;31mKeyError\u001b[0m                                  Traceback (most recent call last)",
      "\u001b[0;32m/tmp/ipykernel_2620933/62763906.py\u001b[0m in \u001b[0;36m<module>\u001b[0;34m\u001b[0m\n\u001b[1;32m     21\u001b[0m \u001b[0;34m\u001b[0m\u001b[0m\n\u001b[1;32m     22\u001b[0m \u001b[0;31m## Generate a waveform\u001b[0m\u001b[0;34m\u001b[0m\u001b[0;34m\u001b[0m\u001b[0;34m\u001b[0m\u001b[0m\n\u001b[0;32m---> 23\u001b[0;31m hp, hc = get_td_waveform(approximant=\"IMRPhenomPv2\", mass1=samples['mass_1'][0], mass2=samples['mass_2'][0], spin1x=samples['spin1x'], \n\u001b[0m\u001b[1;32m     24\u001b[0m                          \u001b[0mspin2x\u001b[0m \u001b[0;34m=\u001b[0m \u001b[0msamples\u001b[0m\u001b[0;34m[\u001b[0m\u001b[0;34m'spin2x'\u001b[0m\u001b[0;34m]\u001b[0m\u001b[0;34m,\u001b[0m \u001b[0mspin1z\u001b[0m\u001b[0;34m=\u001b[0m\u001b[0msamples\u001b[0m\u001b[0;34m[\u001b[0m\u001b[0;34m'spin1z'\u001b[0m\u001b[0;34m]\u001b[0m\u001b[0;34m,\u001b[0m \u001b[0mspin2z\u001b[0m\u001b[0;34m=\u001b[0m\u001b[0msamples\u001b[0m\u001b[0;34m[\u001b[0m\u001b[0;34m'spin2z'\u001b[0m\u001b[0;34m]\u001b[0m\u001b[0;34m,\u001b[0m\u001b[0;34m\u001b[0m\u001b[0;34m\u001b[0m\u001b[0m\n\u001b[1;32m     25\u001b[0m                          \u001b[0mf_lower\u001b[0m\u001b[0;34m=\u001b[0m\u001b[0;36m30\u001b[0m\u001b[0;34m,\u001b[0m \u001b[0mdelta_t\u001b[0m\u001b[0;34m=\u001b[0m\u001b[0;36m1.0\u001b[0m\u001b[0;34m/\u001b[0m\u001b[0;36m4096\u001b[0m\u001b[0;34m,\u001b[0m \u001b[0minclination\u001b[0m\u001b[0;34m=\u001b[0m\u001b[0minc\u001b[0m\u001b[0;34m,\u001b[0m\u001b[0;34m\u001b[0m\u001b[0;34m\u001b[0m\u001b[0m\n",
      "\u001b[0;32m/data/wiay/johnny/phd1/phd1/lib/python3.7/site-packages/pandas/core/frame.py\u001b[0m in \u001b[0;36m__getitem__\u001b[0;34m(self, key)\u001b[0m\n\u001b[1;32m   3456\u001b[0m             \u001b[0;32mif\u001b[0m \u001b[0mself\u001b[0m\u001b[0;34m.\u001b[0m\u001b[0mcolumns\u001b[0m\u001b[0;34m.\u001b[0m\u001b[0mnlevels\u001b[0m \u001b[0;34m>\u001b[0m \u001b[0;36m1\u001b[0m\u001b[0;34m:\u001b[0m\u001b[0;34m\u001b[0m\u001b[0;34m\u001b[0m\u001b[0m\n\u001b[1;32m   3457\u001b[0m                 \u001b[0;32mreturn\u001b[0m \u001b[0mself\u001b[0m\u001b[0;34m.\u001b[0m\u001b[0m_getitem_multilevel\u001b[0m\u001b[0;34m(\u001b[0m\u001b[0mkey\u001b[0m\u001b[0;34m)\u001b[0m\u001b[0;34m\u001b[0m\u001b[0;34m\u001b[0m\u001b[0m\n\u001b[0;32m-> 3458\u001b[0;31m             \u001b[0mindexer\u001b[0m \u001b[0;34m=\u001b[0m \u001b[0mself\u001b[0m\u001b[0;34m.\u001b[0m\u001b[0mcolumns\u001b[0m\u001b[0;34m.\u001b[0m\u001b[0mget_loc\u001b[0m\u001b[0;34m(\u001b[0m\u001b[0mkey\u001b[0m\u001b[0;34m)\u001b[0m\u001b[0;34m\u001b[0m\u001b[0;34m\u001b[0m\u001b[0m\n\u001b[0m\u001b[1;32m   3459\u001b[0m             \u001b[0;32mif\u001b[0m \u001b[0mis_integer\u001b[0m\u001b[0;34m(\u001b[0m\u001b[0mindexer\u001b[0m\u001b[0;34m)\u001b[0m\u001b[0;34m:\u001b[0m\u001b[0;34m\u001b[0m\u001b[0;34m\u001b[0m\u001b[0m\n\u001b[1;32m   3460\u001b[0m                 \u001b[0mindexer\u001b[0m \u001b[0;34m=\u001b[0m \u001b[0;34m[\u001b[0m\u001b[0mindexer\u001b[0m\u001b[0;34m]\u001b[0m\u001b[0;34m\u001b[0m\u001b[0;34m\u001b[0m\u001b[0m\n",
      "\u001b[0;32m/data/wiay/johnny/phd1/phd1/lib/python3.7/site-packages/pandas/core/indexes/base.py\u001b[0m in \u001b[0;36mget_loc\u001b[0;34m(self, key, method, tolerance)\u001b[0m\n\u001b[1;32m   3361\u001b[0m                 \u001b[0;32mreturn\u001b[0m \u001b[0mself\u001b[0m\u001b[0;34m.\u001b[0m\u001b[0m_engine\u001b[0m\u001b[0;34m.\u001b[0m\u001b[0mget_loc\u001b[0m\u001b[0;34m(\u001b[0m\u001b[0mcasted_key\u001b[0m\u001b[0;34m)\u001b[0m\u001b[0;34m\u001b[0m\u001b[0;34m\u001b[0m\u001b[0m\n\u001b[1;32m   3362\u001b[0m             \u001b[0;32mexcept\u001b[0m \u001b[0mKeyError\u001b[0m \u001b[0;32mas\u001b[0m \u001b[0merr\u001b[0m\u001b[0;34m:\u001b[0m\u001b[0;34m\u001b[0m\u001b[0;34m\u001b[0m\u001b[0m\n\u001b[0;32m-> 3363\u001b[0;31m                 \u001b[0;32mraise\u001b[0m \u001b[0mKeyError\u001b[0m\u001b[0;34m(\u001b[0m\u001b[0mkey\u001b[0m\u001b[0;34m)\u001b[0m \u001b[0;32mfrom\u001b[0m \u001b[0merr\u001b[0m\u001b[0;34m\u001b[0m\u001b[0;34m\u001b[0m\u001b[0m\n\u001b[0m\u001b[1;32m   3364\u001b[0m \u001b[0;34m\u001b[0m\u001b[0m\n\u001b[1;32m   3365\u001b[0m         \u001b[0;32mif\u001b[0m \u001b[0mis_scalar\u001b[0m\u001b[0;34m(\u001b[0m\u001b[0mkey\u001b[0m\u001b[0;34m)\u001b[0m \u001b[0;32mand\u001b[0m \u001b[0misna\u001b[0m\u001b[0;34m(\u001b[0m\u001b[0mkey\u001b[0m\u001b[0;34m)\u001b[0m \u001b[0;32mand\u001b[0m \u001b[0;32mnot\u001b[0m \u001b[0mself\u001b[0m\u001b[0;34m.\u001b[0m\u001b[0mhasnans\u001b[0m\u001b[0;34m:\u001b[0m\u001b[0;34m\u001b[0m\u001b[0;34m\u001b[0m\u001b[0m\n",
      "\u001b[0;31mKeyError\u001b[0m: 'mass_2'"
     ]
    }
   ],
   "source": [
    "from pycbc.detector import Detector\n",
    "from pycbc.waveform import get_td_waveform\n",
    "\n",
    "# Time, orientation and location of the source in the sky\n",
    "ra = 1.7\n",
    "dec = 1.7\n",
    "pol = 0.2\n",
    "inc = 0\n",
    "time = 1000000000\n",
    "\n",
    "# We can calcualate the antenna pattern for Hanford at\n",
    "# the specific sky location\n",
    "d = Detector(\"H1\")\n",
    "\n",
    "# We get back the fp and fc antenna pattern weights.\n",
    "fp, fc = d.antenna_pattern(ra, dec, pol, time)\n",
    "print(\"fp={}, fc={}\".format(fp, fc))\n",
    "\n",
    "# These factors allow us to project a signal into what the detector would\n",
    "# observe\n",
    "\n",
    "## Generate a waveform\n",
    "hp, hc = get_td_waveform(approximant=\"IMRPhenomPv2\", mass1=samples['mass_1'][0], mass2=samples['mass_2'][0], spin1x=samples['spin1x'], \n",
    "                         spin2x = samples['spin2x'], spin1z=samples['spin1z'], spin2z=samples['spin2z'],\n",
    "                         f_lower=30, delta_t=1.0/4096, inclination=inc,\n",
    "                         distance=samples['dl'][0])\n",
    "\n",
    "# ## Apply the factors to get the detector frame strain\n",
    "# ht = fp * hp + fc * hc\n",
    "\n",
    "\n",
    "# The projection process can also take into account the rotation of the\n",
    "# earth using the project wave function.\n",
    "hp.start_time = hc.start_time = time\n",
    "ht = d.project_wave(hp, hc, ra, dec, pol)"
   ]
  },
  {
   "cell_type": "code",
   "execution_count": 10,
   "metadata": {},
   "outputs": [
    {
     "name": "stderr",
     "output_type": "stream",
     "text": [
      "XLAL Error - XLALFrStreamFileOpen (LALFrStream.c:128): No files in stream file cache\n",
      "XLAL Error - XLALFrStreamFileOpen (LALFrStream.c:128): Invalid argument\n",
      "XLAL Error - XLALFrStreamCacheOpen (LALFrStream.c:233): Internal function call failed: Invalid argument\n"
     ]
    },
    {
     "ename": "RuntimeError",
     "evalue": "Internal function call failed: Invalid argument",
     "output_type": "error",
     "traceback": [
      "\u001b[0;31m---------------------------------------------------------------------------\u001b[0m",
      "\u001b[0;31mRuntimeError\u001b[0m                              Traceback (most recent call last)",
      "\u001b[0;32m/tmp/ipykernel_1551969/1620385487.py\u001b[0m in \u001b[0;36m<module>\u001b[0;34m\u001b[0m\n\u001b[1;32m      1\u001b[0m \u001b[0mifos\u001b[0m \u001b[0;34m=\u001b[0m \u001b[0;34m[\u001b[0m\u001b[0;34m'H1'\u001b[0m\u001b[0;34m,\u001b[0m \u001b[0;34m'L1'\u001b[0m\u001b[0;34m,\u001b[0m \u001b[0;34m'V1'\u001b[0m\u001b[0;34m]\u001b[0m\u001b[0;34m\u001b[0m\u001b[0;34m\u001b[0m\u001b[0m\n\u001b[0;32m----> 2\u001b[0;31m \u001b[0mh1\u001b[0m \u001b[0;34m=\u001b[0m \u001b[0mread_frame\u001b[0m\u001b[0;34m(\u001b[0m\u001b[0;34m'H-H1_LOSC_4_V2-1126259446-32.gwf'\u001b[0m\u001b[0;34m,\u001b[0m \u001b[0;34m'H1:LOSC-STRAIN'\u001b[0m\u001b[0;34m)\u001b[0m\u001b[0;34m\u001b[0m\u001b[0;34m\u001b[0m\u001b[0m\n\u001b[0m\u001b[1;32m      3\u001b[0m \u001b[0mh1\u001b[0m \u001b[0;34m=\u001b[0m \u001b[0mhighpass_fir\u001b[0m\u001b[0;34m(\u001b[0m\u001b[0mh1\u001b[0m\u001b[0;34m,\u001b[0m \u001b[0;36m15\u001b[0m\u001b[0;34m,\u001b[0m \u001b[0;36m8\u001b[0m\u001b[0;34m)\u001b[0m\u001b[0;34m\u001b[0m\u001b[0;34m\u001b[0m\u001b[0m\n\u001b[1;32m      4\u001b[0m \u001b[0;31m# Calculate the noise spectrum\u001b[0m\u001b[0;34m\u001b[0m\u001b[0;34m\u001b[0m\u001b[0;34m\u001b[0m\u001b[0m\n\u001b[1;32m      5\u001b[0m \u001b[0mpsd\u001b[0m \u001b[0;34m=\u001b[0m \u001b[0minterpolate\u001b[0m\u001b[0;34m(\u001b[0m\u001b[0mwelch\u001b[0m\u001b[0;34m(\u001b[0m\u001b[0mh1\u001b[0m\u001b[0;34m)\u001b[0m\u001b[0;34m,\u001b[0m \u001b[0;36m1.0\u001b[0m \u001b[0;34m/\u001b[0m \u001b[0mh1\u001b[0m\u001b[0;34m.\u001b[0m\u001b[0mduration\u001b[0m\u001b[0;34m)\u001b[0m\u001b[0;34m\u001b[0m\u001b[0;34m\u001b[0m\u001b[0m\n",
      "\u001b[0;32m/data/wiay/johnny/phd1/phd1/lib/python3.7/site-packages/pycbc/frame/frame.py\u001b[0m in \u001b[0;36mread_frame\u001b[0;34m(location, channels, start_time, end_time, duration, check_integrity, sieve)\u001b[0m\n\u001b[1;32m    201\u001b[0m                        None, None, None)\n\u001b[1;32m    202\u001b[0m \u001b[0;34m\u001b[0m\u001b[0m\n\u001b[0;32m--> 203\u001b[0;31m     \u001b[0mstream\u001b[0m \u001b[0;34m=\u001b[0m \u001b[0mlalframe\u001b[0m\u001b[0;34m.\u001b[0m\u001b[0mFrStreamCacheOpen\u001b[0m\u001b[0;34m(\u001b[0m\u001b[0mcum_cache\u001b[0m\u001b[0;34m)\u001b[0m\u001b[0;34m\u001b[0m\u001b[0;34m\u001b[0m\u001b[0m\n\u001b[0m\u001b[1;32m    204\u001b[0m     \u001b[0mstream\u001b[0m\u001b[0;34m.\u001b[0m\u001b[0mmode\u001b[0m \u001b[0;34m=\u001b[0m \u001b[0mlalframe\u001b[0m\u001b[0;34m.\u001b[0m\u001b[0mFR_STREAM_VERBOSE_MODE\u001b[0m\u001b[0;34m\u001b[0m\u001b[0;34m\u001b[0m\u001b[0m\n\u001b[1;32m    205\u001b[0m \u001b[0;34m\u001b[0m\u001b[0m\n",
      "\u001b[0;31mRuntimeError\u001b[0m: Internal function call failed: Invalid argument"
     ]
    }
   ],
   "source": [
    "\n",
    "ifos = ['H1', 'L1', 'V1']\n",
    "h1 = read_frame('H-H1_LOSC_4_V2-1126259446-32.gwf', 'H1:LOSC-STRAIN')\n",
    "h1 = highpass_fir(h1, 15, 8)\n",
    "# Calculate the noise spectrum\n",
    "psd = interpolate(welch(h1), 1.0 / h1.duration)\n",
    "\n",
    "psd = data.psd[\"C01:IMRPhenomXPHM\"]\n",
    "\n",
    "# Generate a template to filter with\n",
    "hp, hc = get_fd_waveform(approximant=\"IMRPhenomD\", mass1=40, mass2=32,\n",
    "                         f_lower=20, delta_f=1.0/h1.duration)\n",
    "# with IMRPhenomXP can include other variables\n",
    "hp.resize(len(h1) // 2 + 1)\n",
    "\n",
    "\n",
    "# Calculate the complex (two-phase SNR)\n",
    "snr = matched_filter(hp, h1, psd=psd, low_frequency_cutoff=20.0)\n",
    "\n",
    "# Remove regions corrupted by filter wraparound\n",
    "snr = snr[len(snr) // 4: len(snr) * 3 // 4]\n",
    "\n",
    "pp.plot(snr.sample_times, abs(snr))\n",
    "pp.ylabel('signal-to-noise')\n",
    "pp.xlabel('GPS Time (s)')\n",
    "pp.show()"
   ]
  },
  {
   "cell_type": "code",
   "execution_count": 4,
   "metadata": {},
   "outputs": [
    {
     "data": {
      "text/plain": [
       "(30.0, 500.0)"
      ]
     },
     "execution_count": 4,
     "metadata": {},
     "output_type": "execute_result"
    },
    {
     "data": {
      "image/png": "[encoded data removed]",
      "text/plain": [
       "<Figure size 432x288 with 1 Axes>"
      ]
     },
     "metadata": {
      "needs_background": "light"
     },
     "output_type": "display_data"
    }
   ],
   "source": [
    "import lal\n",
    "import lalsimulation\n",
    "import matplotlib.pyplot as plt\n",
    "\n",
    "def get_psd():\n",
    "    fs = 1024              # Sampling frequency \n",
    "    f_low = 30             # Minimum frequency\n",
    "    T_obs = 1              # Observation length in seconds\n",
    "    N = T_obs * fs         # the total number of time samples\n",
    "    dt = 1. / fs           # the sampling time (sec)\n",
    "    df = 1. / T_obs        # the frequency resolution\n",
    "    psd = lal.CreateREAL8FrequencySeries(None, lal.LIGOTimeGPS(0), 0.0, df, lal.HertzUnit, int((N / 2) + 1))\n",
    "    lalsimulation.SimNoisePSDaLIGODesignSensitivityP1200087(psd, f_low)\n",
    "    psd = psd.data.data\n",
    "    return psd\n",
    "# this is for H, and L. check how to get for virgo too\n",
    "\n",
    "df = 1       #set sampling frequency \n",
    "f_min = 30    #10 Hz minimum frequency\n",
    "psd = get_psd()\n",
    "plt.plot(psd)\n",
    "plt.ylabel(r'$S_{n}(f)$', fontsize=15)\n",
    "plt.xlabel(r'$f \\,\\, [Hz]$', fontsize=15)\n",
    "plt.title('Sampling Frq = '+str(1024)+ '; f_low = '+str(f_min))\n",
    "plt.ylim([10**(-47), 8*10**(-47)])\n",
    "plt.xlim([30, 500])"
   ]
  },
  {
   "cell_type": "code",
   "execution_count": 28,
   "metadata": {},
   "outputs": [
    {
     "ename": "ValueError",
     "evalue": "x and y must have same first dimension, but have shapes (1091,) and (1024,)",
     "output_type": "error",
     "traceback": [
      "\u001b[0;31m---------------------------------------------------------------------------\u001b[0m",
      "\u001b[0;31mValueError\u001b[0m                                Traceback (most recent call last)",
      "\u001b[0;32m/tmp/ipykernel_534884/3972683921.py\u001b[0m in \u001b[0;36m<module>\u001b[0;34m\u001b[0m\n\u001b[1;32m     50\u001b[0m \u001b[0mtimes\u001b[0m\u001b[0;34m=\u001b[0m\u001b[0mtimes\u001b[0m\u001b[0;34m[\u001b[0m\u001b[0;34m-\u001b[0m\u001b[0;36m1024\u001b[0m\u001b[0;34m:\u001b[0m\u001b[0;34m]\u001b[0m\u001b[0;34m\u001b[0m\u001b[0;34m\u001b[0m\u001b[0m\n\u001b[1;32m     51\u001b[0m \u001b[0;34m\u001b[0m\u001b[0m\n\u001b[0;32m---> 52\u001b[0;31m \u001b[0mpylab\u001b[0m\u001b[0;34m.\u001b[0m\u001b[0mplot\u001b[0m\u001b[0;34m(\u001b[0m\u001b[0mht\u001b[0m\u001b[0;34m.\u001b[0m\u001b[0msample_times\u001b[0m\u001b[0;34m,\u001b[0m \u001b[0mh\u001b[0m\u001b[0;34m,\u001b[0m \u001b[0mlabel\u001b[0m\u001b[0;34m=\u001b[0m\u001b[0mapproximant\u001b[0m\u001b[0;34m)\u001b[0m\u001b[0;34m\u001b[0m\u001b[0;34m\u001b[0m\u001b[0m\n\u001b[0m\u001b[1;32m     53\u001b[0m \u001b[0mpylab\u001b[0m\u001b[0;34m.\u001b[0m\u001b[0mylabel\u001b[0m\u001b[0;34m(\u001b[0m\u001b[0;34m'Strain'\u001b[0m\u001b[0;34m)\u001b[0m\u001b[0;34m\u001b[0m\u001b[0;34m\u001b[0m\u001b[0m\n\u001b[1;32m     54\u001b[0m \u001b[0mpylab\u001b[0m\u001b[0;34m.\u001b[0m\u001b[0mxlabel\u001b[0m\u001b[0;34m(\u001b[0m\u001b[0;34m'Time (s)'\u001b[0m\u001b[0;34m)\u001b[0m\u001b[0;34m\u001b[0m\u001b[0;34m\u001b[0m\u001b[0m\n",
      "\u001b[0;32m/data/wiay/johnny/phd1/phd1/lib/python3.7/site-packages/matplotlib/pyplot.py\u001b[0m in \u001b[0;36mplot\u001b[0;34m(scalex, scaley, data, *args, **kwargs)\u001b[0m\n\u001b[1;32m   3019\u001b[0m     return gca().plot(\n\u001b[1;32m   3020\u001b[0m         \u001b[0;34m*\u001b[0m\u001b[0margs\u001b[0m\u001b[0;34m,\u001b[0m \u001b[0mscalex\u001b[0m\u001b[0;34m=\u001b[0m\u001b[0mscalex\u001b[0m\u001b[0;34m,\u001b[0m \u001b[0mscaley\u001b[0m\u001b[0;34m=\u001b[0m\u001b[0mscaley\u001b[0m\u001b[0;34m,\u001b[0m\u001b[0;34m\u001b[0m\u001b[0;34m\u001b[0m\u001b[0m\n\u001b[0;32m-> 3021\u001b[0;31m         **({\"data\": data} if data is not None else {}), **kwargs)\n\u001b[0m\u001b[1;32m   3022\u001b[0m \u001b[0;34m\u001b[0m\u001b[0m\n\u001b[1;32m   3023\u001b[0m \u001b[0;34m\u001b[0m\u001b[0m\n",
      "\u001b[0;32m/data/wiay/johnny/phd1/phd1/lib/python3.7/site-packages/matplotlib/axes/_axes.py\u001b[0m in \u001b[0;36mplot\u001b[0;34m(self, scalex, scaley, data, *args, **kwargs)\u001b[0m\n\u001b[1;32m   1603\u001b[0m         \"\"\"\n\u001b[1;32m   1604\u001b[0m         \u001b[0mkwargs\u001b[0m \u001b[0;34m=\u001b[0m \u001b[0mcbook\u001b[0m\u001b[0;34m.\u001b[0m\u001b[0mnormalize_kwargs\u001b[0m\u001b[0;34m(\u001b[0m\u001b[0mkwargs\u001b[0m\u001b[0;34m,\u001b[0m \u001b[0mmlines\u001b[0m\u001b[0;34m.\u001b[0m\u001b[0mLine2D\u001b[0m\u001b[0;34m)\u001b[0m\u001b[0;34m\u001b[0m\u001b[0;34m\u001b[0m\u001b[0m\n\u001b[0;32m-> 1605\u001b[0;31m         \u001b[0mlines\u001b[0m \u001b[0;34m=\u001b[0m \u001b[0;34m[\u001b[0m\u001b[0;34m*\u001b[0m\u001b[0mself\u001b[0m\u001b[0;34m.\u001b[0m\u001b[0m_get_lines\u001b[0m\u001b[0;34m(\u001b[0m\u001b[0;34m*\u001b[0m\u001b[0margs\u001b[0m\u001b[0;34m,\u001b[0m \u001b[0mdata\u001b[0m\u001b[0;34m=\u001b[0m\u001b[0mdata\u001b[0m\u001b[0;34m,\u001b[0m \u001b[0;34m**\u001b[0m\u001b[0mkwargs\u001b[0m\u001b[0;34m)\u001b[0m\u001b[0;34m]\u001b[0m\u001b[0;34m\u001b[0m\u001b[0;34m\u001b[0m\u001b[0m\n\u001b[0m\u001b[1;32m   1606\u001b[0m         \u001b[0;32mfor\u001b[0m \u001b[0mline\u001b[0m \u001b[0;32min\u001b[0m \u001b[0mlines\u001b[0m\u001b[0;34m:\u001b[0m\u001b[0;34m\u001b[0m\u001b[0;34m\u001b[0m\u001b[0m\n\u001b[1;32m   1607\u001b[0m             \u001b[0mself\u001b[0m\u001b[0;34m.\u001b[0m\u001b[0madd_line\u001b[0m\u001b[0;34m(\u001b[0m\u001b[0mline\u001b[0m\u001b[0;34m)\u001b[0m\u001b[0;34m\u001b[0m\u001b[0;34m\u001b[0m\u001b[0m\n",
      "\u001b[0;32m/data/wiay/johnny/phd1/phd1/lib/python3.7/site-packages/matplotlib/axes/_base.py\u001b[0m in \u001b[0;36m__call__\u001b[0;34m(self, data, *args, **kwargs)\u001b[0m\n\u001b[1;32m    313\u001b[0m                 \u001b[0mthis\u001b[0m \u001b[0;34m+=\u001b[0m \u001b[0margs\u001b[0m\u001b[0;34m[\u001b[0m\u001b[0;36m0\u001b[0m\u001b[0;34m]\u001b[0m\u001b[0;34m,\u001b[0m\u001b[0;34m\u001b[0m\u001b[0;34m\u001b[0m\u001b[0m\n\u001b[1;32m    314\u001b[0m                 \u001b[0margs\u001b[0m \u001b[0;34m=\u001b[0m \u001b[0margs\u001b[0m\u001b[0;34m[\u001b[0m\u001b[0;36m1\u001b[0m\u001b[0;34m:\u001b[0m\u001b[0;34m]\u001b[0m\u001b[0;34m\u001b[0m\u001b[0;34m\u001b[0m\u001b[0m\n\u001b[0;32m--> 315\u001b[0;31m             \u001b[0;32myield\u001b[0m \u001b[0;32mfrom\u001b[0m \u001b[0mself\u001b[0m\u001b[0;34m.\u001b[0m\u001b[0m_plot_args\u001b[0m\u001b[0;34m(\u001b[0m\u001b[0mthis\u001b[0m\u001b[0;34m,\u001b[0m \u001b[0mkwargs\u001b[0m\u001b[0;34m)\u001b[0m\u001b[0;34m\u001b[0m\u001b[0;34m\u001b[0m\u001b[0m\n\u001b[0m\u001b[1;32m    316\u001b[0m \u001b[0;34m\u001b[0m\u001b[0m\n\u001b[1;32m    317\u001b[0m     \u001b[0;32mdef\u001b[0m \u001b[0mget_next_color\u001b[0m\u001b[0;34m(\u001b[0m\u001b[0mself\u001b[0m\u001b[0;34m)\u001b[0m\u001b[0;34m:\u001b[0m\u001b[0;34m\u001b[0m\u001b[0;34m\u001b[0m\u001b[0m\n",
      "\u001b[0;32m/data/wiay/johnny/phd1/phd1/lib/python3.7/site-packages/matplotlib/axes/_base.py\u001b[0m in \u001b[0;36m_plot_args\u001b[0;34m(self, tup, kwargs, return_kwargs)\u001b[0m\n\u001b[1;32m    499\u001b[0m \u001b[0;34m\u001b[0m\u001b[0m\n\u001b[1;32m    500\u001b[0m         \u001b[0;32mif\u001b[0m \u001b[0mx\u001b[0m\u001b[0;34m.\u001b[0m\u001b[0mshape\u001b[0m\u001b[0;34m[\u001b[0m\u001b[0;36m0\u001b[0m\u001b[0;34m]\u001b[0m \u001b[0;34m!=\u001b[0m \u001b[0my\u001b[0m\u001b[0;34m.\u001b[0m\u001b[0mshape\u001b[0m\u001b[0;34m[\u001b[0m\u001b[0;36m0\u001b[0m\u001b[0;34m]\u001b[0m\u001b[0;34m:\u001b[0m\u001b[0;34m\u001b[0m\u001b[0;34m\u001b[0m\u001b[0m\n\u001b[0;32m--> 501\u001b[0;31m             raise ValueError(f\"x and y must have same first dimension, but \"\n\u001b[0m\u001b[1;32m    502\u001b[0m                              f\"have shapes {x.shape} and {y.shape}\")\n\u001b[1;32m    503\u001b[0m         \u001b[0;32mif\u001b[0m \u001b[0mx\u001b[0m\u001b[0;34m.\u001b[0m\u001b[0mndim\u001b[0m \u001b[0;34m>\u001b[0m \u001b[0;36m2\u001b[0m \u001b[0;32mor\u001b[0m \u001b[0my\u001b[0m\u001b[0;34m.\u001b[0m\u001b[0mndim\u001b[0m \u001b[0;34m>\u001b[0m \u001b[0;36m2\u001b[0m\u001b[0;34m:\u001b[0m\u001b[0;34m\u001b[0m\u001b[0;34m\u001b[0m\u001b[0m\n",
      "\u001b[0;31mValueError\u001b[0m: x and y must have same first dimension, but have shapes (1091,) and (1024,)"
     ]
    },
    {
     "data": {
      "image/png": "[encoded data removed]",
      "text/plain": [
       "<Figure size 432x288 with 1 Axes>"
      ]
     },
     "metadata": {
      "needs_background": "light"
     },
     "output_type": "display_data"
    }
   ],
   "source": [
    "import pylab\n",
    "from pycbc.waveform import get_td_waveform\n",
    "import numpy as np\n",
    "from pycbc.detector import Detector\n",
    "\n",
    "\n",
    "def h_pluscross(approximant, mass1, mass2, spin1z, spin2z, distance, delta_t=1.0/2048, f_lower=30):\n",
    "        hp, hc = get_td_waveform(approximant=approximant,\n",
    "                                 mass1=mass1,\n",
    "                                 mass2=mass2,\n",
    "                                 spin1z=spin1z,\n",
    "                                 spin2z=spin2z,\n",
    "                                 distance=distance,\n",
    "                                 delta_t=1.0/1024,\n",
    "                                 f_lower=30)\n",
    "        return hp, hc\n",
    "    \n",
    "def antenna(RA,dec,phi):\n",
    "    Fp = 0.5*(1+(np.cos(dec))**2)*np.cos(2*RA)*np.cos(2*phi) + np.cos(dec)*np.sin(2*RA)*np.sin(2*phi)\n",
    "    Fc = 0.5*(1+(np.cos(dec))**2)*np.cos(2*RA)*np.sin(2*phi) + np.cos(dec)*np.sin(2*RA)*np.cos(2*phi)\n",
    "    \n",
    "    return Fp, Fc\n",
    "\n",
    "\n",
    "def h_t(hp, hc, Fp, Fc, inc):\n",
    "    \n",
    "    ht = hp*Fp*(1+(np.cos(inc))**2) + hc*Fc*(2*np.cos(inc))\n",
    "    \n",
    "    return ht\n",
    "\n",
    "approximant =  'IMRPhenomD'\n",
    "\n",
    "hp, hc = h_pluscross(approximant, 150, 50, 0.9, 0.5, 5500)\n",
    "\n",
    "d = Detector(\"H1\")\n",
    "ra = 1.7\n",
    "dec = 1.7\n",
    "pol = 0.2\n",
    "inc = 0\n",
    "time = 522806711\n",
    "\n",
    "hp.start_time = hc.start_time = time\n",
    "ht = d.project_wave(hp, hc, ra, dec, pol)\n",
    "\n",
    "# Fp, Fc = antenna(np.pi, np.pi, 0 )\n",
    "# h = h_t(hp, hc, Fp, Fc, 0.2)\n",
    "\n",
    "times = np.array(ht.sample_times)\n",
    "h = np.array(ht)[-1024:]\n",
    "times=times[-1024:]\n",
    "\n",
    "pylab.plot(ht.sample_times, h, label=approximant)\n",
    "pylab.ylabel('Strain')\n",
    "pylab.xlabel('Time (s)')\n",
    "pylab.legend()\n",
    "pylab.show()"
   ]
  },
  {
   "cell_type": "code",
   "execution_count": 26,
   "metadata": {},
   "outputs": [
    {
     "name": "stdout",
     "output_type": "stream",
     "text": [
      "(3.661235552268775e-30-6.9992565876006935e-31j)\n"
     ]
    },
    {
     "data": {
      "text/plain": [
       "12.667065217414459"
      ]
     },
     "execution_count": 26,
     "metadata": {},
     "output_type": "execute_result"
    }
   ],
   "source": [
    "from scipy import signal\n",
    "def get_snr(data, T_obs, fs, psd, fmin):\n",
    "\n",
    "    N = int(T_obs * fs)\n",
    "    df = 1.0 / T_obs\n",
    "    dt = 1.0 / fs\n",
    "    fidx = int(fmin / df)\n",
    "    win = signal.tukey(N, alpha=(1.0 / 8.0))\n",
    "    idx = np.argwhere(psd > 0.0)\n",
    "    invpsd = np.zeros(psd.size)\n",
    "    invpsd[idx] = 1.0 / psd[idx]\n",
    "    xf = np.fft.rfft(data*win)*dt\n",
    "    print(xf[500])\n",
    "    SNRsq = 4.0 * np.sum((np.abs(xf[fidx:]) **2 ) * invpsd[fidx:]) * df\n",
    "    return np.sqrt(SNRsq)\n",
    "\n",
    "\n",
    "\n",
    "get_snr(h, 1, 1024, psd, 30)"
   ]
  },
  {
   "cell_type": "code",
   "execution_count": 11,
   "metadata": {},
   "outputs": [
    {
     "ename": "SyntaxError",
     "evalue": "invalid syntax (781267114.py, line 2)",
     "output_type": "error",
     "traceback": [
      "\u001b[0;36m  File \u001b[0;32m\"/tmp/ipykernel_1551969/781267114.py\"\u001b[0;36m, line \u001b[0;32m2\u001b[0m\n\u001b[0;31m    --fake-strain aLIGOAdVO4T1800545 \\\u001b[0m\n\u001b[0m                                   ^\u001b[0m\n\u001b[0;31mSyntaxError\u001b[0m\u001b[0;31m:\u001b[0m invalid syntax\n"
     ]
    }
   ],
   "source": [
    "# pycbc_condition_strain \\\n",
    "#     --fake-strain aLIGOAdVO4T1800545 \\\n",
    "#     --fake-strain-seed 1234 \\\n",
    "#     --fake-strain-flow 10 \\\n",
    "#     --sample-rate 16384 \\\n",
    "#     --gps-start-time 1242442818 \\\n",
    "#     --gps-end-time 1242442882 \\\n",
    "#     --channel-name V1:SIMULATED_STRAIN \\\n",
    "#     --injection-file injections.hdf \\\n",
    "#     --output-strain-file V1-SIMULATED_STRAIN-1242442818-64.gwf"
   ]
  },
  {
   "cell_type": "code",
   "execution_count": 13,
   "metadata": {},
   "outputs": [
    {
     "ename": "NameError",
     "evalue": "name 'pycbc_condition_strain' is not defined",
     "output_type": "error",
     "traceback": [
      "\u001b[0;31m---------------------------------------------------------------------------\u001b[0m",
      "\u001b[0;31mNameError\u001b[0m                                 Traceback (most recent call last)",
      "\u001b[0;32m/tmp/ipykernel_1551969/3832922399.py\u001b[0m in \u001b[0;36m<module>\u001b[0;34m\u001b[0m\n\u001b[0;32m----> 1\u001b[0;31m \u001b[0mhelp\u001b[0m\u001b[0;34m(\u001b[0m\u001b[0mpycbc_condition_strain\u001b[0m\u001b[0;34m)\u001b[0m\u001b[0;34m\u001b[0m\u001b[0;34m\u001b[0m\u001b[0m\n\u001b[0m",
      "\u001b[0;31mNameError\u001b[0m: name 'pycbc_condition_strain' is not defined"
     ]
    }
   ],
   "source": [
    "help(pycbc_condition_strain)"
   ]
  },
  {
   "cell_type": "code",
   "execution_count": null,
   "metadata": {},
   "outputs": [],
   "source": [
    "# For each observatory use this template to calculate the SNR time series\n",
    "snr = {}\n",
    "for ifo in ifos:\n",
    "\n",
    "    hp.resize(len(ts) / 2 + 1)\n",
    "    snr[ifo] = matched_filter(hp, data[ifo], psd=psd[ifo], low_frequency_cutoff=25)\n",
    "    snr[ifo] = snr[ifo].crop(5, 4)"
   ]
  },
  {
   "cell_type": "code",
   "execution_count": null,
   "metadata": {},
   "outputs": [],
   "source": [
    "%matplotlib inline\n",
    "import pylab\n",
    "from pycbc.filter import highpass_fir\n",
    "from pycbc.filter import matched_filter\n",
    "from pycbc.psd import interpolate, welch\n",
    "from pycbc.catalog import Merger\n",
    "\n",
    "for ifo in ['L1', 'H1']:\n",
    "    # Read in the data into a TimeSeries\n",
    "    ts = highpass_fir(Merger(\"GW151012\").strain(ifo), 15, 16)\n",
    "\n",
    "    # Estimate the noise spectrum\n",
    "    psd = interpolate(welch(ts), 1.0 / ts.duration)\n",
    "    \n",
    "    # Calculate the signal-to-noise\n",
    "    hp.resize(len(ts) / 2 + 1)\n",
    "    snr = matched_filter(hp, ts, psd=psd, low_frequency_cutoff=30.0)\n",
    "\n",
    "    # Choose the +-100ms around the event.\n",
    "    i = int((time - snr.start_time) / snr.delta_t)\n",
    "    snr = snr[int(i - snr.sample_rate * .1):int(i + snr.sample_rate * .1)]\n",
    "    \n",
    "    pylab.plot(snr.sample_times, abs(snr))"
   ]
  }
 ],
 "metadata": {
  "interpreter": {
   "hash": "05af7feea5480bf24e6d403440487bddf600da1c41836b21e06a13439b27007a"
  },
  "kernelspec": {
   "display_name": "Python 3.7.3 64-bit ('phd1': venv)",
   "language": "python",
   "name": "python3"
  },
  "language_info": {
   "codemirror_mode": {
    "name": "ipython",
    "version": 3
   },
   "file_extension": ".py",
   "mimetype": "text/x-python",
   "name": "python",
   "nbconvert_exporter": "python",
   "pygments_lexer": "ipython3",
   "version": "3.7.3"
  },
  "orig_nbformat": 4
 },
 "nbformat": 4,
 "nbformat_minor": 2
}
