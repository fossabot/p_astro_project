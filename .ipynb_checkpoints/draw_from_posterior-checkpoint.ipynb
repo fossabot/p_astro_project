{
 "cells": [
  {
   "cell_type": "code",
   "execution_count": 1,
   "id": "9b469e5e-5e4b-441b-a37b-305e526ba436",
   "metadata": {
    "tags": []
   },
   "outputs": [
    {
     "name": "stdout",
     "output_type": "stream",
     "text": [
      "Populating the interactive namespace from numpy and matplotlib\n"
     ]
    }
   ],
   "source": [
    "# import modules\n",
    "%pylab inline\n",
    "\n",
    "import h5py\n",
    "\n",
    "import pandas as pd\n",
    "from scipy.interpolate import interp1d\n",
    "from astropy import cosmology, units\n",
    "import numpy as np\n",
    "#import deepdish as dd\n",
    "import matplotlib.pyplot as plt\n",
    "\n",
    "import bilby as bb\n",
    "from bilby.core.prior import LogUniform, PriorDict, Uniform\n",
    "from bilby.core.result import read_in_result\n",
    "from bilby.hyper.model import Model\n",
    "import gwpopulation as gwpop\n",
    "from gwpopulation.models.redshift import PowerLawRedshift\n",
    "from gwpopulation.models.mass import SinglePeakSmoothedMassDistribution\n",
    "from gwpopulation.models.mass import BaseSmoothedMassDistribution\n",
    "\n",
    "from IPython.display import display as print\n",
    "%config InlineBackend.figure_format='retina'\n",
    "plt.rcParams[\"font.family\"] = \"STIXGeneral\"\n",
    "plt.rcParams[\"mathtext.default\"] = \"it\""
   ]
  },
  {
   "cell_type": "markdown",
   "id": "4d6dbc4d-6a3f-43b4-a508-82f0f6c3311e",
   "metadata": {},
   "source": [
    "Download the data release"
   ]
  },
  {
   "cell_type": "code",
   "execution_count": 2,
   "id": "4a658baa-a550-490b-a675-176ace3acb05",
   "metadata": {},
   "outputs": [],
   "source": [
    "#!wget https://zenodo.org/record/5655785/files/GWTC-3-population-data.tar.gz\n",
    "#!tar -xvzf GWTC-3-population-data.tar.gz"
   ]
  },
  {
   "cell_type": "markdown",
   "id": "84fea964-2c2c-4faa-bcd2-e4fe4fccd8f0",
   "metadata": {},
   "source": [
    "The following reads in hyperposterior samples. It was my first goal to sample from the posterior distribution so I need to investigate if what I have here are already those \n",
    "samples.\n",
    "\n",
    "PP_result.sampler returns dynesty.\n"
   ]
  },
  {
   "cell_type": "code",
   "execution_count": 3,
   "id": "1bf703e1-0ec3-4337-aaaf-ef16e1487ceb",
   "metadata": {},
   "outputs": [],
   "source": [
    "PP_path = 'GWTC-3-population-data/analyses/PowerLawPeak/o1o2o3_mass_c_iid_mag_iid_tilt_powerlaw_redshift_result.json'\n",
    "PP_result = read_in_result(PP_path)\n",
    "#GS_path = 'GWTC-3-population-data/analyses/GaussianSpin/posteriors_gaussian_spin_samples_FAR_1_in_1_w190814.json'\n",
    "#GS_result = read_in_result(GS_path)"
   ]
  },
  {
   "cell_type": "code",
   "execution_count": 4,
   "id": "0154c6c2-39c1-43ef-a68f-128c67d654a9",
   "metadata": {},
   "outputs": [],
   "source": [
    "#dir(PP_result)\n",
    "# PP_result.meta_data"
   ]
  },
  {
   "cell_type": "code",
   "execution_count": 5,
   "id": "72848379-3fdb-4ca8-8906-11aa19097954",
   "metadata": {},
   "outputs": [
    {
     "data": {
      "text/plain": [
       "'run label: '"
      ]
     },
     "metadata": {},
     "output_type": "display_data"
    },
    {
     "data": {
      "text/plain": [
       "'o1o2o3_mass_c_iid_mag_iid_tilt_powerlaw_redshift'"
      ]
     },
     "metadata": {},
     "output_type": "display_data"
    },
    {
     "data": {
      "text/plain": [
       "'log10 BF: '"
      ]
     },
     "metadata": {},
     "output_type": "display_data"
    },
    {
     "data": {
      "text/plain": [
       "38.46431085780439"
      ]
     },
     "metadata": {},
     "output_type": "display_data"
    },
    {
     "data": {
      "text/plain": [
       "'\\n'"
      ]
     },
     "metadata": {},
     "output_type": "display_data"
    },
    {
     "data": {
      "text/plain": [
       "'hyper-priors:'"
      ]
     },
     "metadata": {},
     "output_type": "display_data"
    },
    {
     "data": {
      "text/plain": [
       "{'alpha': Uniform(minimum=-4, maximum=12, name='alpha', latex_label='$\\\\alpha$', unit=None, boundary=None),\n",
       " 'beta': Uniform(minimum=-2, maximum=7, name='beta', latex_label='$\\\\beta_{q}$', unit=None, boundary=None),\n",
       " 'mmax': Uniform(minimum=30, maximum=100, name='mmax', latex_label='$m_{\\\\max}$', unit=None, boundary=None),\n",
       " 'mmin': Uniform(minimum=2, maximum=10, name='mmin', latex_label='$m_{\\\\min}$', unit=None, boundary=None),\n",
       " 'lam': Uniform(minimum=0, maximum=1, name='lambda', latex_label='$\\\\lambda_{m}$', unit=None, boundary=None),\n",
       " 'mpp': Uniform(minimum=20, maximum=50, name='mpp', latex_label='$\\\\mu_{m}$', unit=None, boundary=None),\n",
       " 'sigpp': Uniform(minimum=1, maximum=10, name='sigpp', latex_label='$\\\\sigma_{m}$', unit=None, boundary=None),\n",
       " 'delta_m': Uniform(minimum=0, maximum=10, name='delta_m', latex_label='$\\\\delta_{m}$', unit=None, boundary='reflective'),\n",
       " 'amax': DeltaFunction(peak=1.0, name=None, latex_label=None, unit=None),\n",
       " 'mu_chi': Uniform(minimum=0, maximum=1, name='mu_chi', latex_label='$\\\\mu_{\\\\chi}$', unit=None, boundary=None),\n",
       " 'sigma_chi': Uniform(minimum=0.005, maximum=0.25, name='sigma_chi', latex_label='$\\\\sigma^{2}_{\\\\chi}$', unit=None, boundary=None),\n",
       " 'alpha_chi': Constraint(minimum=1, maximum=100000.0, name=None, latex_label=None, unit=None),\n",
       " 'alpha_chi_1': Constraint(minimum=1, maximum=100000.0, name=None, latex_label=None, unit=None),\n",
       " 'alpha_chi_2': Constraint(minimum=1, maximum=100000.0, name=None, latex_label=None, unit=None),\n",
       " 'beta_chi': Constraint(minimum=1, maximum=100000.0, name=None, latex_label=None, unit=None),\n",
       " 'beta_chi_1': Constraint(minimum=1, maximum=100000.0, name=None, latex_label=None, unit=None),\n",
       " 'beta_chi_2': Constraint(minimum=1, maximum=100000.0, name=None, latex_label=None, unit=None),\n",
       " 'xi_spin': Uniform(minimum=0, maximum=1, name='xi_spin', latex_label='$\\\\zeta$', unit=None, boundary=None),\n",
       " 'sigma_spin': Uniform(minimum=0.1, maximum=4.0, name='sigma_t', latex_label='$\\\\sigma_t$', unit=None, boundary=None),\n",
       " 'lamb': Uniform(minimum=-10, maximum=10, name='lamb', latex_label='$\\\\lambda_z$', unit=None, boundary=None)}"
      ]
     },
     "execution_count": 5,
     "metadata": {},
     "output_type": "execute_result"
    }
   ],
   "source": [
    "print(\"run label: \", PP_result.label)\n",
    "print(\"log10 BF: \", PP_result.log_10_bayes_factor) # note that this will not always be the same BF that is quoted in the text because some corrections are necessary to compare these between models\n",
    "print(\"\\n\", \"hyper-priors:\")\n",
    "PP_result.priors\n",
    "# dir(PP_result.priors)"
   ]
  },
  {
   "cell_type": "code",
   "execution_count": 6,
   "id": "dbdd9165-afec-47b5-9600-84caf6240829",
   "metadata": {},
   "outputs": [
    {
     "data": {
      "text/html": [
       "<div>\n",
       "<style scoped>\n",
       "    .dataframe tbody tr th:only-of-type {\n",
       "        vertical-align: middle;\n",
       "    }\n",
       "\n",
       "    .dataframe tbody tr th {\n",
       "        vertical-align: top;\n",
       "    }\n",
       "\n",
       "    .dataframe thead th {\n",
       "        text-align: right;\n",
       "    }\n",
       "</style>\n",
       "<table border=\"1\" class=\"dataframe\">\n",
       "  <thead>\n",
       "    <tr style=\"text-align: right;\">\n",
       "      <th></th>\n",
       "      <th>alpha</th>\n",
       "      <th>beta</th>\n",
       "      <th>mmax</th>\n",
       "      <th>mmin</th>\n",
       "      <th>lam</th>\n",
       "      <th>mpp</th>\n",
       "      <th>sigpp</th>\n",
       "      <th>delta_m</th>\n",
       "      <th>mu_chi</th>\n",
       "      <th>sigma_chi</th>\n",
       "      <th>...</th>\n",
       "      <th>lamb</th>\n",
       "      <th>amax</th>\n",
       "      <th>log_likelihood</th>\n",
       "      <th>log_prior</th>\n",
       "      <th>selection</th>\n",
       "      <th>pdet_n_effective</th>\n",
       "      <th>surveyed_hypervolume</th>\n",
       "      <th>log_10_rate</th>\n",
       "      <th>rate</th>\n",
       "      <th>min_event_n_effective</th>\n",
       "    </tr>\n",
       "  </thead>\n",
       "  <tbody>\n",
       "    <tr>\n",
       "      <th>0</th>\n",
       "      <td>2.116671</td>\n",
       "      <td>0.645405</td>\n",
       "      <td>84.257180</td>\n",
       "      <td>3.858558</td>\n",
       "      <td>0.075468</td>\n",
       "      <td>30.270897</td>\n",
       "      <td>8.346910</td>\n",
       "      <td>3.511792</td>\n",
       "      <td>0.262951</td>\n",
       "      <td>0.033104</td>\n",
       "      <td>...</td>\n",
       "      <td>-1.007767</td>\n",
       "      <td>1.0</td>\n",
       "      <td>86.740514</td>\n",
       "      <td>-20.167742</td>\n",
       "      <td>0.006983</td>\n",
       "      <td>6630.971573</td>\n",
       "      <td>300.455132</td>\n",
       "      <td>1.475926</td>\n",
       "      <td>29.917560</td>\n",
       "      <td>205.407820</td>\n",
       "    </tr>\n",
       "    <tr>\n",
       "      <th>1</th>\n",
       "      <td>2.357356</td>\n",
       "      <td>0.504086</td>\n",
       "      <td>78.325899</td>\n",
       "      <td>5.301450</td>\n",
       "      <td>0.123904</td>\n",
       "      <td>38.688342</td>\n",
       "      <td>4.317169</td>\n",
       "      <td>2.576325</td>\n",
       "      <td>0.247116</td>\n",
       "      <td>0.028849</td>\n",
       "      <td>...</td>\n",
       "      <td>-2.460752</td>\n",
       "      <td>1.0</td>\n",
       "      <td>88.476899</td>\n",
       "      <td>-20.167742</td>\n",
       "      <td>0.016273</td>\n",
       "      <td>3772.629171</td>\n",
       "      <td>107.519753</td>\n",
       "      <td>1.521225</td>\n",
       "      <td>33.206611</td>\n",
       "      <td>84.680631</td>\n",
       "    </tr>\n",
       "    <tr>\n",
       "      <th>2</th>\n",
       "      <td>2.763145</td>\n",
       "      <td>-1.038759</td>\n",
       "      <td>92.335648</td>\n",
       "      <td>4.512187</td>\n",
       "      <td>0.136947</td>\n",
       "      <td>26.322204</td>\n",
       "      <td>9.283129</td>\n",
       "      <td>3.411572</td>\n",
       "      <td>0.201743</td>\n",
       "      <td>0.024835</td>\n",
       "      <td>...</td>\n",
       "      <td>4.922529</td>\n",
       "      <td>1.0</td>\n",
       "      <td>89.160301</td>\n",
       "      <td>-20.167742</td>\n",
       "      <td>0.000089</td>\n",
       "      <td>4852.535111</td>\n",
       "      <td>69321.160923</td>\n",
       "      <td>1.075940</td>\n",
       "      <td>11.910773</td>\n",
       "      <td>107.429424</td>\n",
       "    </tr>\n",
       "    <tr>\n",
       "      <th>3</th>\n",
       "      <td>2.975530</td>\n",
       "      <td>1.204292</td>\n",
       "      <td>81.253295</td>\n",
       "      <td>5.193624</td>\n",
       "      <td>0.095203</td>\n",
       "      <td>40.661528</td>\n",
       "      <td>6.232922</td>\n",
       "      <td>4.752846</td>\n",
       "      <td>0.223713</td>\n",
       "      <td>0.024432</td>\n",
       "      <td>...</td>\n",
       "      <td>-1.466976</td>\n",
       "      <td>1.0</td>\n",
       "      <td>89.577067</td>\n",
       "      <td>-20.167742</td>\n",
       "      <td>0.010964</td>\n",
       "      <td>4340.422763</td>\n",
       "      <td>213.598090</td>\n",
       "      <td>1.485615</td>\n",
       "      <td>30.592485</td>\n",
       "      <td>89.268950</td>\n",
       "    </tr>\n",
       "    <tr>\n",
       "      <th>4</th>\n",
       "      <td>2.336330</td>\n",
       "      <td>0.888358</td>\n",
       "      <td>83.282458</td>\n",
       "      <td>3.218458</td>\n",
       "      <td>0.150673</td>\n",
       "      <td>27.806907</td>\n",
       "      <td>6.098497</td>\n",
       "      <td>5.846578</td>\n",
       "      <td>0.240640</td>\n",
       "      <td>0.019683</td>\n",
       "      <td>...</td>\n",
       "      <td>1.572624</td>\n",
       "      <td>1.0</td>\n",
       "      <td>89.923126</td>\n",
       "      <td>-20.167742</td>\n",
       "      <td>0.001794</td>\n",
       "      <td>5813.075241</td>\n",
       "      <td>2629.581289</td>\n",
       "      <td>1.171681</td>\n",
       "      <td>14.848441</td>\n",
       "      <td>80.848769</td>\n",
       "    </tr>\n",
       "    <tr>\n",
       "      <th>...</th>\n",
       "      <td>...</td>\n",
       "      <td>...</td>\n",
       "      <td>...</td>\n",
       "      <td>...</td>\n",
       "      <td>...</td>\n",
       "      <td>...</td>\n",
       "      <td>...</td>\n",
       "      <td>...</td>\n",
       "      <td>...</td>\n",
       "      <td>...</td>\n",
       "      <td>...</td>\n",
       "      <td>...</td>\n",
       "      <td>...</td>\n",
       "      <td>...</td>\n",
       "      <td>...</td>\n",
       "      <td>...</td>\n",
       "      <td>...</td>\n",
       "      <td>...</td>\n",
       "      <td>...</td>\n",
       "      <td>...</td>\n",
       "      <td>...</td>\n",
       "    </tr>\n",
       "    <tr>\n",
       "      <th>11464</th>\n",
       "      <td>3.417291</td>\n",
       "      <td>0.301697</td>\n",
       "      <td>85.168951</td>\n",
       "      <td>4.798439</td>\n",
       "      <td>0.035291</td>\n",
       "      <td>33.889739</td>\n",
       "      <td>2.350728</td>\n",
       "      <td>5.505413</td>\n",
       "      <td>0.230583</td>\n",
       "      <td>0.020566</td>\n",
       "      <td>...</td>\n",
       "      <td>3.264948</td>\n",
       "      <td>1.0</td>\n",
       "      <td>108.115543</td>\n",
       "      <td>-20.167742</td>\n",
       "      <td>0.000339</td>\n",
       "      <td>2972.807715</td>\n",
       "      <td>13097.278496</td>\n",
       "      <td>1.214318</td>\n",
       "      <td>16.380142</td>\n",
       "      <td>71.881363</td>\n",
       "    </tr>\n",
       "    <tr>\n",
       "      <th>11465</th>\n",
       "      <td>3.328885</td>\n",
       "      <td>1.642387</td>\n",
       "      <td>79.491399</td>\n",
       "      <td>4.931802</td>\n",
       "      <td>0.034236</td>\n",
       "      <td>34.720684</td>\n",
       "      <td>2.136944</td>\n",
       "      <td>5.327197</td>\n",
       "      <td>0.254585</td>\n",
       "      <td>0.032604</td>\n",
       "      <td>...</td>\n",
       "      <td>2.109967</td>\n",
       "      <td>1.0</td>\n",
       "      <td>108.120336</td>\n",
       "      <td>-20.167742</td>\n",
       "      <td>0.000872</td>\n",
       "      <td>3152.917529</td>\n",
       "      <td>4322.664396</td>\n",
       "      <td>1.369043</td>\n",
       "      <td>23.390707</td>\n",
       "      <td>72.814645</td>\n",
       "    </tr>\n",
       "    <tr>\n",
       "      <th>11466</th>\n",
       "      <td>3.328885</td>\n",
       "      <td>1.642387</td>\n",
       "      <td>79.491399</td>\n",
       "      <td>4.931802</td>\n",
       "      <td>0.034236</td>\n",
       "      <td>34.720684</td>\n",
       "      <td>2.136944</td>\n",
       "      <td>5.327197</td>\n",
       "      <td>0.254585</td>\n",
       "      <td>0.032604</td>\n",
       "      <td>...</td>\n",
       "      <td>2.109967</td>\n",
       "      <td>1.0</td>\n",
       "      <td>108.120336</td>\n",
       "      <td>-20.167742</td>\n",
       "      <td>0.000872</td>\n",
       "      <td>3152.917529</td>\n",
       "      <td>4322.664396</td>\n",
       "      <td>1.288162</td>\n",
       "      <td>19.416100</td>\n",
       "      <td>72.814645</td>\n",
       "    </tr>\n",
       "    <tr>\n",
       "      <th>11467</th>\n",
       "      <td>3.548725</td>\n",
       "      <td>0.760204</td>\n",
       "      <td>83.140164</td>\n",
       "      <td>4.815572</td>\n",
       "      <td>0.019037</td>\n",
       "      <td>34.467261</td>\n",
       "      <td>1.866748</td>\n",
       "      <td>5.453627</td>\n",
       "      <td>0.235676</td>\n",
       "      <td>0.024758</td>\n",
       "      <td>...</td>\n",
       "      <td>3.431551</td>\n",
       "      <td>1.0</td>\n",
       "      <td>108.206956</td>\n",
       "      <td>-20.167742</td>\n",
       "      <td>0.000256</td>\n",
       "      <td>3214.364467</td>\n",
       "      <td>15429.210409</td>\n",
       "      <td>1.259669</td>\n",
       "      <td>18.183135</td>\n",
       "      <td>76.580270</td>\n",
       "    </tr>\n",
       "    <tr>\n",
       "      <th>11468</th>\n",
       "      <td>3.548725</td>\n",
       "      <td>0.760204</td>\n",
       "      <td>83.140164</td>\n",
       "      <td>4.815572</td>\n",
       "      <td>0.019037</td>\n",
       "      <td>34.467261</td>\n",
       "      <td>1.866748</td>\n",
       "      <td>5.453627</td>\n",
       "      <td>0.235676</td>\n",
       "      <td>0.024758</td>\n",
       "      <td>...</td>\n",
       "      <td>3.431551</td>\n",
       "      <td>1.0</td>\n",
       "      <td>108.206956</td>\n",
       "      <td>-20.167742</td>\n",
       "      <td>0.000256</td>\n",
       "      <td>3214.364467</td>\n",
       "      <td>15429.210409</td>\n",
       "      <td>1.184209</td>\n",
       "      <td>15.283016</td>\n",
       "      <td>76.580270</td>\n",
       "    </tr>\n",
       "  </tbody>\n",
       "</table>\n",
       "<p>11469 rows × 22 columns</p>\n",
       "</div>"
      ],
      "text/plain": [
       "          alpha      beta       mmax      mmin       lam        mpp     sigpp  \\\n",
       "0      2.116671  0.645405  84.257180  3.858558  0.075468  30.270897  8.346910   \n",
       "1      2.357356  0.504086  78.325899  5.301450  0.123904  38.688342  4.317169   \n",
       "2      2.763145 -1.038759  92.335648  4.512187  0.136947  26.322204  9.283129   \n",
       "3      2.975530  1.204292  81.253295  5.193624  0.095203  40.661528  6.232922   \n",
       "4      2.336330  0.888358  83.282458  3.218458  0.150673  27.806907  6.098497   \n",
       "...         ...       ...        ...       ...       ...        ...       ...   \n",
       "11464  3.417291  0.301697  85.168951  4.798439  0.035291  33.889739  2.350728   \n",
       "11465  3.328885  1.642387  79.491399  4.931802  0.034236  34.720684  2.136944   \n",
       "11466  3.328885  1.642387  79.491399  4.931802  0.034236  34.720684  2.136944   \n",
       "11467  3.548725  0.760204  83.140164  4.815572  0.019037  34.467261  1.866748   \n",
       "11468  3.548725  0.760204  83.140164  4.815572  0.019037  34.467261  1.866748   \n",
       "\n",
       "        delta_m    mu_chi  sigma_chi  ...      lamb  amax  log_likelihood  \\\n",
       "0      3.511792  0.262951   0.033104  ... -1.007767   1.0       86.740514   \n",
       "1      2.576325  0.247116   0.028849  ... -2.460752   1.0       88.476899   \n",
       "2      3.411572  0.201743   0.024835  ...  4.922529   1.0       89.160301   \n",
       "3      4.752846  0.223713   0.024432  ... -1.466976   1.0       89.577067   \n",
       "4      5.846578  0.240640   0.019683  ...  1.572624   1.0       89.923126   \n",
       "...         ...       ...        ...  ...       ...   ...             ...   \n",
       "11464  5.505413  0.230583   0.020566  ...  3.264948   1.0      108.115543   \n",
       "11465  5.327197  0.254585   0.032604  ...  2.109967   1.0      108.120336   \n",
       "11466  5.327197  0.254585   0.032604  ...  2.109967   1.0      108.120336   \n",
       "11467  5.453627  0.235676   0.024758  ...  3.431551   1.0      108.206956   \n",
       "11468  5.453627  0.235676   0.024758  ...  3.431551   1.0      108.206956   \n",
       "\n",
       "       log_prior  selection  pdet_n_effective  surveyed_hypervolume  \\\n",
       "0     -20.167742   0.006983       6630.971573            300.455132   \n",
       "1     -20.167742   0.016273       3772.629171            107.519753   \n",
       "2     -20.167742   0.000089       4852.535111          69321.160923   \n",
       "3     -20.167742   0.010964       4340.422763            213.598090   \n",
       "4     -20.167742   0.001794       5813.075241           2629.581289   \n",
       "...          ...        ...               ...                   ...   \n",
       "11464 -20.167742   0.000339       2972.807715          13097.278496   \n",
       "11465 -20.167742   0.000872       3152.917529           4322.664396   \n",
       "11466 -20.167742   0.000872       3152.917529           4322.664396   \n",
       "11467 -20.167742   0.000256       3214.364467          15429.210409   \n",
       "11468 -20.167742   0.000256       3214.364467          15429.210409   \n",
       "\n",
       "       log_10_rate       rate  min_event_n_effective  \n",
       "0         1.475926  29.917560             205.407820  \n",
       "1         1.521225  33.206611              84.680631  \n",
       "2         1.075940  11.910773             107.429424  \n",
       "3         1.485615  30.592485              89.268950  \n",
       "4         1.171681  14.848441              80.848769  \n",
       "...            ...        ...                    ...  \n",
       "11464     1.214318  16.380142              71.881363  \n",
       "11465     1.369043  23.390707              72.814645  \n",
       "11466     1.288162  19.416100              72.814645  \n",
       "11467     1.259669  18.183135              76.580270  \n",
       "11468     1.184209  15.283016              76.580270  \n",
       "\n",
       "[11469 rows x 22 columns]"
      ]
     },
     "execution_count": 6,
     "metadata": {},
     "output_type": "execute_result"
    }
   ],
   "source": [
    "# copy a pandas dataframe of the posterior\n",
    "PP_hyperposterior_samples = PP_result.posterior.copy() # making a copy is best practice here so you don't accidentally modify things in-place\n",
    "PP_hyperposterior_samples"
   ]
  },
  {
   "cell_type": "markdown",
   "id": "6ab76504-cdaa-4f90-83b3-06594f2a7d2d",
   "metadata": {},
   "source": [
    "Let's see what PyCBC needs in order to produce an SNR."
   ]
  },
  {
   "cell_type": "code",
   "execution_count": 7,
   "id": "de821b72-14f5-4f15-9414-1a6474994a0e",
   "metadata": {},
   "outputs": [
    {
     "data": {
      "text/plain": [
       "(array([ 407., 2424., 3020., 2577., 1753.,  872.,  275.,  113.,   24.,\n",
       "           4.]),\n",
       " array([0.01423957, 0.01950818, 0.02477678, 0.03004539, 0.03531399,\n",
       "        0.0405826 , 0.0458512 , 0.05111981, 0.05638842, 0.06165702,\n",
       "        0.06692563]),\n",
       " <BarContainer object of 10 artists>)"
      ]
     },
     "execution_count": 7,
     "metadata": {},
     "output_type": "execute_result"
    },
    {
     "data": {
      "image/png": "[encoded data removed]",
      "text/plain": [
       "<Figure size 432x288 with 1 Axes>"
      ]
     },
     "metadata": {
      "image/png": {
       "height": 247,
       "width": 376
      },
      "needs_background": "light"
     },
     "output_type": "display_data"
    }
   ],
   "source": [
    "plt.hist(PP_hyperposterior_samples['sigma_chi'])"
   ]
  },
  {
   "cell_type": "code",
   "execution_count": 8,
   "id": "0691a13c-381c-4231-9901-8c1f634173aa",
   "metadata": {},
   "outputs": [],
   "source": [
    "#!wget https://git.ligo.org/publications/O3/o3b-astro-dist/-/blob/master/analyses/shanika/macro_data/PowerLawPeakObsOneTwoThree.json\n",
    "\n",
    "# this wget didn't download the json properly last time, instead it only took the parameters on that site, missing all the other info"
   ]
  },
  {
   "cell_type": "markdown",
   "id": "7ed3c11a-6dee-406a-af36-8f98379e6d29",
   "metadata": {},
   "source": [
    "## Draw Samples\n",
    "\n",
    "In `GWPopulation` there exist Mass, Redshift and Spin models. https://colmtalbot.github.io/gwpopulation/_autosummary/gwpopulation.models.mass.html\n",
    "\n",
    "I want to sample from each of these in order to get the posterior parameters I require for generating SNRs.\n",
    "\n",
    "Shanika Galaudage uses an if statement to determine what model is being used given what hyperparameters exist. https://git.ligo.org/shanika.galaudage/o3a-population/-/blob/master/scripts/generate_ppd_samples.py \n",
    "\n",
    "#### Mass Models\n",
    "https://github.com/ColmTalbot/gwpopulation/blob/master/gwpopulation/models/mass.py \n",
    "\n",
    "The mass model from which the hyperposterior samples are drawn from is SinglePeakSmoothedMassDistribution. It is important to also then use this model from GWPopulations to ensure consistency. \n",
    "* Info at https://colmtalbot.github.io/gwpopulation/_autosummary/gwpopulation.models.mass.SinglePeakSmoothedMassDistribution.html#gwpopulation.models.mass.SinglePeakSmoothedMassDistribution\n",
    "* This is a class so is set up slightly differently to what I did originally, I need to have a look at how it receives the parameters\n",
    "\n",
    "#### Spin Models\n",
    "There are 2 spin models investigated in the populations paper (https://arxiv.org/pdf/2111.03634.pdf):\n",
    "1. First, we use the Default spin model to directly measure the distribution of BBH component spin magnitudes and tilts. We model component spin magnitudes as being independently and identically drawn from a Beta distribution\n",
    "    * not clear yet on the corresponding model in GWPopulation\n",
    "2. Gaussian spin model : Our second approach is to instead seek to measure the distribution of effective spin parameters χeff and χp. In this case, we phenomenologically model the joint χeff –χp distribution as a bivariate Gaussian. \n",
    "    * spin.gaussian_chi_eff, A Gaussian in chi effective distribution, no precession spin in this model\n",
    "    * spin.gaussian_chi_p, A Gaussian distribution in precessing effective spin (chi p), no chi_eff in this model\n",
    "    * there is a class GaussianChiEffChiP, A covariant Gaussian in effective aligned and precessing spins.\n",
    "        * start with the simpler gaussian_chi_eff and add complexity later\n",
    "The meta_data gives:\n",
    "\n",
    "'models': ['SinglePeakSmoothedMassDistribution',\n",
    "  'iid_spin_magnitude',\n",
    "  'iid_spin_orientation',\n",
    "  'gwpopulation.models.redshift.PowerLawRedshift']\n",
    "  \n",
    "In the hyperparameters there is alpha_chi_1 and alpha_chi_2 suggesting that iid_spin_magnitude model has two independent beta distributions so corresponds to independent_spin_magnitude_beta .\n",
    "* alpha_chi_1 etc are listed in the priors, not in the hyperposterior samples\n",
    "* the hyperposterior samples only have mu_chi and sigma_chi\n",
    "    * I am therefore choosing the model to be gaussian_chi_eff\n",
    "\n",
    "There is only xi_spin and sigma spin so the orientation model is iid_spin_orientation_gaussian_isotropic .\n",
    "\n",
    "There is a conversion tool within `GWPopulation` to convert to the necessary parameters for the beta spin distribution.\n",
    "\n",
    "#### Redshift Models\n",
    "Population paper parameterizes the merger rate with comoving volume as a power law $R(z) \\propto (1+z)^k$"
   ]
  },
  {
   "cell_type": "code",
   "execution_count": 9,
   "id": "2baf8022-c099-4ce8-b8fe-a6b664227054",
   "metadata": {},
   "outputs": [
    {
     "data": {
      "text/plain": [
       "{'alpha': 3.57019160764509,\n",
       " 'beta': 2.7360551427308417,\n",
       " 'mmax': 97.06582276755198,\n",
       " 'mmin': 4.08445445244568,\n",
       " 'lam': 0.02836868036254555,\n",
       " 'mpp': 33.059593920460536,\n",
       " 'sigpp': 3.6074238144547386,\n",
       " 'delta_m': 6.092601636510225,\n",
       " 'mu_chi': 0.31393583277404674,\n",
       " 'sigma_chi': 0.05113855514561131,\n",
       " 'xi_spin': 0.2600441055124647,\n",
       " 'sigma_spin': 1.4085974624950688,\n",
       " 'lamb': 0.5804781297165746,\n",
       " 'amax': 1.0,\n",
       " 'log_likelihood': 98.44138713391408,\n",
       " 'log_prior': -20.16774239936692,\n",
       " 'selection': 0.0020697503568924175,\n",
       " 'pdet_n_effective': 3671.431535741202,\n",
       " 'surveyed_hypervolume': 1090.2729868037668,\n",
       " 'log_10_rate': 1.4662497704512096,\n",
       " 'rate': 29.258345933744813,\n",
       " 'min_event_n_effective': 131.04392536962314}"
      ]
     },
     "metadata": {},
     "output_type": "display_data"
    }
   ],
   "source": [
    "# select a sample from the PowerlawPeak\n",
    "# these hyperposterior samples include vlaues for all the models used\n",
    "PP_params = PP_hyperposterior_samples.iloc[random.randint(0, len(PP_hyperposterior_samples))].to_dict()\n",
    "\n",
    "# # read in spin hyperposterior samples and select one as the values to feed to the spin model\n",
    "# GS_path = 'GWTC-3-population-data/analyses/GaussianSpin/posteriors_gaussian_spin_samples_FAR_1_in_1_w190814.json'\n",
    "# GS_samples = pd.read_json(GS_path)\n",
    "\n",
    "# GS_params = GS_samples.iloc[random.randint(0, len(GS_samples))].to_dict()\n",
    "print(PP_params)"
   ]
  },
  {
   "cell_type": "code",
   "execution_count": 10,
   "id": "a5e956de-df2a-442f-803e-a8ae702d16d4",
   "metadata": {},
   "outputs": [],
   "source": [
    "PP_params = gwpop.conversions.convert_to_beta_parameters(PP_params, remove=False)[0]"
   ]
  },
  {
   "cell_type": "code",
   "execution_count": 11,
   "id": "5c0c0e93-4287-4bcd-86d1-13572a2a2b56",
   "metadata": {},
   "outputs": [
    {
     "data": {
      "text/plain": [
       "{'alpha': 3.57019160764509,\n",
       " 'beta': 2.7360551427308417,\n",
       " 'mmax': 97.06582276755198,\n",
       " 'mmin': 4.08445445244568,\n",
       " 'lam': 0.02836868036254555,\n",
       " 'mpp': 33.059593920460536,\n",
       " 'sigpp': 3.6074238144547386,\n",
       " 'delta_m': 6.092601636510225,\n",
       " 'mu_chi': 0.31393583277404674,\n",
       " 'sigma_chi': 0.05113855514561131,\n",
       " 'xi_spin': 0.2600441055124647,\n",
       " 'sigma_spin': 1.4085974624950688,\n",
       " 'lamb': 0.5804781297165746,\n",
       " 'amax': 1.0,\n",
       " 'log_likelihood': 98.44138713391408,\n",
       " 'log_prior': -20.16774239936692,\n",
       " 'selection': 0.0020697503568924175,\n",
       " 'pdet_n_effective': 3671.431535741202,\n",
       " 'surveyed_hypervolume': 1090.2729868037668,\n",
       " 'log_10_rate': 1.4662497704512096,\n",
       " 'rate': 29.258345933744813,\n",
       " 'min_event_n_effective': 131.04392536962314,\n",
       " 'alpha_chi': 1.0082669342787036,\n",
       " 'beta_chi': 2.2034305816413635}"
      ]
     },
     "metadata": {},
     "output_type": "display_data"
    }
   ],
   "source": [
    "print(PP_params)"
   ]
  },
  {
   "cell_type": "code",
   "execution_count": 12,
   "id": "9a3d70aa-ab7b-4bdc-8ae6-cd818478f04e",
   "metadata": {},
   "outputs": [],
   "source": [
    "PP_params['z_max'] = 2.3"
   ]
  },
  {
   "cell_type": "code",
   "execution_count": 13,
   "id": "b47e3d4e-5ca3-4d1d-8586-d9f49fa84969",
   "metadata": {},
   "outputs": [
    {
     "data": {
      "text/plain": [
       "[<function gwpopulation.models.spin.iid_spin_magnitude_beta(dataset, amax=1, alpha_chi=1, beta_chi=1)>]"
      ]
     },
     "execution_count": 13,
     "metadata": {},
     "output_type": "execute_result"
    }
   ],
   "source": [
    "# choose a model from within GWPopulations, this should really be the same underlying model as that at model_path, CHANGE\n",
    "mass_model = Model([gwpop.models.mass.SinglePeakSmoothedMassDistribution(mmin = PP_params['mmin'], \n",
    "                                                                         mmax = PP_params['mmax'])])\n",
    "spin_mag_model = Model([gwpop.models.spin.iid_spin_magnitude_beta])\n",
    "spin_ori_model = Model([gwpop.models.spin.iid_spin_orientation_gaussian_isotropic])\n",
    "z_model = Model([gwpop.models.redshift.PowerLawRedshift(z_max = PP_params['z_max'])])\n",
    "\n",
    "spin_mag_model.models"
   ]
  },
  {
   "cell_type": "markdown",
   "id": "15595106-5192-48e9-b9f7-28fe4b5e97be",
   "metadata": {},
   "source": [
    "So the model takes a dataset(mass, spins etc) and the hyperparameters(alpha, beta...) as model.parameters and can output a probability."
   ]
  },
  {
   "cell_type": "markdown",
   "id": "c8fd8bf6-aeae-4bb8-a805-ecfe4be0ec8b",
   "metadata": {},
   "source": [
    "It looks like there are some differences in the naming of the hyperparameters in the dict. I will rename those that I think are the same. \n",
    "**BE WARNED** however that I am ASSUMING these to be the same parameter. I.e. the `model.prob` wants the key mu_chi_eff, which I here assume to be mu_chi since the PowerLawPeakObsOneTwoThree.json doesn't include a spin precession posterior.\n",
    "\n",
    "I don't expect this to be an issue at this stage as I am fairly arbitrarily using the PowerLawPeakObsOneTwoThree.json median values as the `model.parameters`, so even this choice is a median rather than a mu.\n",
    "\n",
    "For a list of standard parameters used in PESummary: https://lscsoft.docs.ligo.org/pesummary/unstable_docs/gw/parameters.html."
   ]
  },
  {
   "cell_type": "markdown",
   "id": "03a7be73-7274-4ae9-8724-6e5495a0d8a0",
   "metadata": {},
   "source": [
    "# Next: \n",
    "* Switch to using a random hyperposterior sample\n",
    "* Choose some random chi_eff and chi_p\n",
    "    * may be reasonable to take chi_eff as U(-1,1) as in Roulet 2020\n",
    "    * chi_p will likely be uniform also, check though\n",
    "* Create probabilities as was done with mass\n",
    "    * This may require additional hyperparameters outwith PowerLawPeakObsOneTwoThree\n",
    "* produce cdf, normalise and sample from it for spins\n",
    "* do the same for redshift"
   ]
  },
  {
   "cell_type": "markdown",
   "id": "a013a512-559e-44a8-8c56-2645467780bd",
   "metadata": {},
   "source": [
    "Issue:\n",
    "\n",
    "* Previously the bilby.hyper.model was taking a function from within GWPopulation which worked fine. \n",
    "* Now SinglePeakSmoothedMassDistribution is a class, within this class it has self.mmin etc defined. \n",
    "* I am defining the input Model.parameters also which includes mmin etc.\n",
    "* So the Model.prob gets multiple values for mmin etc\n",
    "* I need to feed Model.prob only one value for each of these arguements\n",
    "\n",
    "Options to try:\n",
    "* Don't define Model.parameters, instead set these when initialising the class\n",
    "* Delete the duplicate parameters after ensuring they are the same\n",
    "\n",
    "Solution was just to set the mmin and mmax when initialising the class to be the same as those in PP_params."
   ]
  },
  {
   "cell_type": "code",
   "execution_count": 14,
   "id": "88440960-9f25-4bd8-bd9d-6473658ea62e",
   "metadata": {},
   "outputs": [
    {
     "name": "stderr",
     "output_type": "stream",
     "text": [
      "/data/wiay/johnny/phd1/phd1/lib/python3.7/site-packages/gwpopulation/models/mass.py:554: RuntimeWarning: overflow encountered in exp\n",
      "  window[smoothing_region] = 1 / (xp.exp(exponent) + 1)\n",
      "/data/wiay/johnny/phd1/phd1/lib/python3.7/site-packages/gwpopulation/models/mass.py:552: RuntimeWarning: divide by zero encountered in true_divide\n",
      "  delta_m / shifted_mass + delta_m / (shifted_mass - delta_m)\n",
      "/data/wiay/johnny/phd1/phd1/lib/python3.7/site-packages/gwpopulation/utils.py:76: RuntimeWarning: divide by zero encountered in true_divide\n",
      "  norm = (1 + alpha) / (high ** (1 + alpha) - low ** (1 + alpha))\n",
      "/data/wiay/johnny/phd1/phd1/lib/python3.7/site-packages/gwpopulation/utils.py:79: RuntimeWarning: invalid value encountered in multiply\n",
      "  prob *= (xx <= high) & (xx >= low)\n",
      "/data/wiay/johnny/phd1/phd1/lib/python3.7/site-packages/gwpopulation/models/mass.py:503: RuntimeWarning: invalid value encountered in multiply\n",
      "  self.m1s_grid * self.qs_grid, mmin=mmin, mmax=self.m1s_grid, delta_m=delta_m\n",
      "/data/wiay/johnny/phd1/phd1/lib/python3.7/site-packages/pandas/core/arraylike.py:364: RuntimeWarning: divide by zero encountered in log\n",
      "  result = getattr(ufunc, method)(*inputs, **kwargs)\n"
     ]
    }
   ],
   "source": [
    "# the model has a few attributes found with dir(model), these are: models', 'parameters', 'prob'\n",
    "# set the model.parameters to be the medians of the model_path as defined above\n",
    "#PP_params.pop('mmin')\n",
    "mass_model.parameters = spin_mag_model.parameters = spin_ori_model.parameters = z_model.parameters = PP_params\n",
    "\n",
    "\n",
    "# the model is defined over ranges of these parameters, let's fill the parameter space of mass_vals and mass_ratio\n",
    "mass_1 = np.linspace(PP_params['mmin'],PP_params['mmax'],1000)\n",
    "mass_ratio = np.ones(1000)\n",
    "#chi_eff = np.linspace(-1,1,1000)\n",
    "a_1 = np.linspace(0,1,1000)\n",
    "a_2 = np.linspace(0,1,1000)\n",
    "cos_tilt_1 = np.linspace(-1,1,1000)\n",
    "cos_tilt_2 = np.ones(1000)\n",
    "redshift = np.linspace(0,2.3,1000)\n",
    "\n",
    "# different models take different keys, for instance mass.double_power_law_peak_primary_mass takes mass, mass.power_law_primary_mass_ratio takes a dataset of mass_1 and mass_ratio\n",
    "input_df = pd.DataFrame(mass_1, columns = ['mass_1'])\n",
    "input_df = input_df.assign(mass_ratio = mass_ratio,\n",
    "                          a_1 = a_1,\n",
    "                          a_2 = a_2,\n",
    "                          cos_tilt_1 = cos_tilt_1,\n",
    "                          cos_tilt_2 = cos_tilt_2,\n",
    "                          redshift = redshift)\n",
    "\n",
    "# we can now find the probability of each of these sets of parameters occurring\n",
    "mass_probs = mass_model.prob(input_df)\n",
    "spin_mag_probs = spin_mag_model.prob(input_df)\n",
    "spin_ori_probs = spin_ori_model.prob(input_df)\n",
    "z_probs = z_model.prob(input_df)"
   ]
  },
  {
   "cell_type": "markdown",
   "id": "aa7ea635-081c-46a0-b9e8-02f83b1d69ee",
   "metadata": {},
   "source": [
    "This model is a class and may take the parameters slightly differently as inputs, https://colmtalbot.github.io/gwpopulation/_modules/gwpopulation/models/mass.html#SinglePeakSmoothedMassDistribution"
   ]
  },
  {
   "cell_type": "code",
   "execution_count": 15,
   "id": "5154255b-7511-4b9c-9c27-cb1463386ce0",
   "metadata": {},
   "outputs": [
    {
     "data": {
      "image/png": "[encoded data removed]",
      "text/plain": [
       "<Figure size 864x504 with 4 Axes>"
      ]
     },
     "metadata": {
      "image/png": {
       "height": 494,
       "width": 855
      },
      "needs_background": "light"
     },
     "output_type": "display_data"
    }
   ],
   "source": [
    "# lets have a look at this distribution\n",
    "\n",
    "fig = plt.figure(figsize=(12,7))\n",
    "\n",
    "fig.add_subplot(2,2,1, xlabel='Mass 1', ylabel='Probability')\n",
    "plt.loglog(mass_1, mass_probs, marker='x')\n",
    "\n",
    "fig.add_subplot(2,2,2, xlabel='a_1', ylabel='Probability')\n",
    "plt.scatter(a_1, spin_mag_probs, marker='x')\n",
    "\n",
    "fig.add_subplot(2,2,3, xlabel='cos_tilt_1', ylabel='Probability')\n",
    "plt.scatter(cos_tilt_1, spin_ori_probs, marker='x')\n",
    "\n",
    "fig.add_subplot(2,2,4, xlabel='Redshift', ylabel='Probability')\n",
    "plt.scatter(redshift, z_probs, marker='x')\n",
    "\n",
    "fig.tight_layout()\n",
    "plt.show()\n",
    "\n",
    "# it looks like a powerlaw with a peak\n",
    "# peak of chi_eff is at the location of mu_chi_eff"
   ]
  },
  {
   "cell_type": "code",
   "execution_count": 16,
   "id": "211a4b82-74c4-4aeb-9c13-718811928784",
   "metadata": {},
   "outputs": [],
   "source": [
    "#print(chi_eff_vals)"
   ]
  },
  {
   "cell_type": "code",
   "execution_count": 17,
   "id": "89499b92-c9d5-42f8-9d02-4e6302074d56",
   "metadata": {},
   "outputs": [
    {
     "data": {
      "image/png": "[encoded data removed]",
      "text/plain": [
       "<Figure size 864x504 with 4 Axes>"
      ]
     },
     "metadata": {
      "image/png": {
       "height": 494,
       "width": 855
      },
      "needs_background": "light"
     },
     "output_type": "display_data"
    }
   ],
   "source": [
    "# now we can generate a cdf for the distribution and normalise it\n",
    "#mass_probs = mass_probs[1:]\n",
    "\n",
    "PP_mass_cdf = np.cumsum(mass_probs).to_numpy()\n",
    "PP_mass_cdf = (PP_mass_cdf - PP_mass_cdf[0])\n",
    "PP_mass_cdf /= PP_mass_cdf[-1]\n",
    "\n",
    "PP_mag_cdf = np.cumsum(spin_mag_probs).to_numpy()\n",
    "PP_mag_cdf = (PP_mag_cdf - PP_mag_cdf[0])\n",
    "PP_mag_cdf /= PP_mag_cdf[-1]\n",
    "\n",
    "PP_ori_cdf = np.cumsum(spin_ori_probs).to_numpy()\n",
    "PP_ori_cdf = (PP_ori_cdf - PP_ori_cdf[0])\n",
    "PP_ori_cdf /= PP_ori_cdf[-1]\n",
    "\n",
    "PP_z_cdf = np.cumsum(z_probs).to_numpy()\n",
    "PP_z_cdf = (PP_z_cdf - PP_z_cdf[0])\n",
    "PP_z_cdf /= PP_z_cdf[-1]\n",
    "\n",
    "fig = plt.figure(figsize=(12,7))\n",
    "\n",
    "fig.add_subplot(2,2,1, xlabel='Mass 1', ylabel='CDF')\n",
    "plt.semilogx(mass_1, PP_mass_cdf)\n",
    "\n",
    "fig.add_subplot(2,2,2, xlabel='a_1', ylabel='CDF')\n",
    "plt.plot(a_1, PP_mag_cdf, marker='x')\n",
    "\n",
    "fig.add_subplot(2,2,3, xlabel='cos_tilt_1', ylabel='CDF')\n",
    "plt.plot(cos_tilt_1, PP_ori_cdf, marker='x')\n",
    "\n",
    "fig.add_subplot(2,2,4, xlabel='Redshift', ylabel='CDF')\n",
    "plt.plot(redshift, PP_z_cdf, marker='x')\n",
    "\n",
    "fig.tight_layout()\n",
    "plt.show()"
   ]
  },
  {
   "cell_type": "code",
   "execution_count": 18,
   "id": "b6a5f1c2-1b65-4542-96ed-0127a0c17809",
   "metadata": {},
   "outputs": [
    {
     "data": {
      "image/png": "[encoded data removed]",
      "text/plain": [
       "<Figure size 864x504 with 4 Axes>"
      ]
     },
     "metadata": {
      "image/png": {
       "height": 423,
       "width": 725
      },
      "needs_background": "light"
     },
     "output_type": "display_data"
    }
   ],
   "source": [
    "# generate some random number between 0 and 1\n",
    "uniform_vals = np.random.uniform(0,1,100000)\n",
    "\n",
    "# interpolate to create a function that maps from the y axis of the cdf to the corresponding x value and feed this the uniform_vals\n",
    "mass_samp = np.interp(uniform_vals, PP_mass_cdf, mass_1)\n",
    "a1_samp = np.interp(uniform_vals, PP_mag_cdf, a_1)\n",
    "cos1_samp = np.interp(uniform_vals, PP_ori_cdf, cos_tilt_1)\n",
    "z_samp = np.interp(uniform_vals, PP_z_cdf, redshift)\n",
    "\n",
    "fig = plt.figure(figsize=(12,7))\n",
    "\n",
    "fig.add_subplot(2,2,1, xlabel='Mass 1', ylabel='Count')\n",
    "plt.hist(mass_samp, bins='auto')\n",
    "plt.yscale('log')\n",
    "plt.xscale('log')\n",
    "\n",
    "fig.add_subplot(2,2,2, xlabel='Chi_eff', ylabel='Count')\n",
    "plt.hist(a1_samp, bins='auto')\n",
    "plt.yscale('log')\n",
    "\n",
    "fig.add_subplot(2,2,3, xlabel='cos_tilt_1', ylabel='Count')\n",
    "plt.hist(cos1_samp, bins='auto')\n",
    "\n",
    "fig.add_subplot(2,2,4, xlabel='redshift', ylabel='Count')\n",
    "plt.hist(z_samp, bins='auto')\n",
    "plt.yscale('log')\n",
    "\n",
    "plt.show()"
   ]
  },
  {
   "cell_type": "markdown",
   "id": "d557bd6e-17ed-4cf5-b26a-08e1f3bbd990",
   "metadata": {},
   "source": [
    "So this looks like the initial distribution, sampled.\n",
    "\n",
    "See: https://stackoverflow.com/questions/56017163/given-a-2d-numpy-array-representing-a-2d-distribution-how-to-sample-data-from-t/64614309#64614309 for a way to do this over multiple parameters rather than just mass.\n",
    "\n",
    "* I need to be careful though, are there values of certain parameters that can't co-exist?\n",
    "\n",
    "Overpolot originals"
   ]
  },
  {
   "cell_type": "markdown",
   "id": "a2a02e9d-d93f-49b5-b775-ea0f8e473dee",
   "metadata": {},
   "source": [
    "## Recap\n",
    "\n",
    "So what have I got here then?\n",
    "\n",
    "* mass_samp is a bunch of masses sampled from the SinglePeakSmoothedMassDistribution model. Similarly I have sampled chi_effs.\n",
    "\n",
    "I want:\n",
    "* Mass_1, Mass_2, Spin_1, Spin_2...\n",
    "\n",
    "So I need to:\n",
    "* also sample q, to get mass_2\n",
    "* convert chi_eff to spins???\n",
    "\n",
    "## Next\n",
    "* Go back and change q from being all 1's so be random, but within the bounds of mmin and see what this does to my distribution\n",
    "    * If it hasn't broken, then I should be able to sample q as well as Mass_1\n",
    "    * Although there seems to be a preference for equal mass ratios https://ui.adsabs.harvard.edu/abs/2020ApJ...891L..27F/abstract \n",
    "* I need to sample from all distributions at the same time to get one set of posterior parameters\n",
    "    * Gibbs Sampling..."
   ]
  },
  {
   "cell_type": "markdown",
   "id": "31cc5d50-86ee-44e8-8dd0-db0b56306c16",
   "metadata": {},
   "source": [
    "## Gibbs sampling\n",
    "https://www.youtube.com/watch?v=a_08GKWHFWo\n",
    "\n",
    "https://en.wikipedia.org/wiki/Gibbs_sampling\n",
    "\n",
    "The outputs from the model.prob are jointly conditioned on mass and mass ratio for example. So I need to sample from a higher order parameter space, sampling both mass_1 and q simultaneously.\n",
    "\n",
    "Will I need to sample from the outputs of the 4 models simultaneously?\n",
    "* Yes\n",
    "\n",
    "If the first point is arbitrarily selected, I should discard samples from the burn in period. Then I should be able to avoid these correlations if I take one posterior sample from each of many hyperposterior samples.\n",
    "* not necessary in this case as we have the distribution, we know where m1 must lie"
   ]
  },
  {
   "cell_type": "markdown",
   "id": "f8c6a2ab-4733-41a2-a533-e90c29085a62",
   "metadata": {},
   "source": [
    "### Mass Model Application\n",
    "\n",
    "The mass model produces a probability from the hyperposteriors and a value for mass_1 and mass_ratio. So this probability is $p(m_{1}, q)$:\n",
    "\n",
    "mass_model output = $p(m_{1}, q)$\n",
    "\n",
    "Gibbs sampling then requires I be able to sample from $p(m_{1} | q)$ and then $p(q | m_{1})$.\n",
    "\n",
    "* Start with an initial ($m^{0}_{1}, q^{0}$)\n",
    "* then sample $p(m^{1}_{1}) \\sim p(m^{1}_{1} | q^{0})$\n",
    "* then sample $p(q^{1}) \\sim p(q^{1} | m^{1}_{1})$\n",
    "\n",
    "If $m_{1}, q$ are independent then $p(m_{1} | q) = p(m_{1})$.\n",
    "\n",
    "In the current state of my work, I have set $q=1$ so what I actually have from the model is $p(m_{1}|q=1)$."
   ]
  },
  {
   "cell_type": "markdown",
   "id": "8b9b552c-7766-4d0f-b7dc-6ecfdf88a6df",
   "metadata": {},
   "source": [
    "The primary model for `SinglePeakSmoothedMassDistribution` is the `two_component_single`, \n",
    "\n",
    "$p(m) = (1 - \\lambda_{m}) p_{\\text{pow}} + \\lambda_{m} p_{\\text{norm}}$\n",
    "\n",
    "$p_{\\text{pow}}(m) \\propto m^{-\\alpha} : m_{\\min} \\leq m < m_{\\max}$\n",
    "\n",
    "$p_{\\text{norm}}(m) \\propto \\exp\\left(-\\frac{(m - \\mu_{m})^2}{2\\sigma^2_{m}}\\right)$\n",
    "\n",
    "This is then coded up as,\n",
    "\n",
    "    p_pow = powerlaw(mass, alpha=-alpha, high=mmax, low=mmin)\n",
    "    p_norm = truncnorm(mass, mu=mpp, sigma=sigpp, high=gaussian_mass_maximum, low=mmin)\n",
    "    prob = (1 - lam) * p_pow + lam * p_norm\n",
    "    \n",
    "for which the `powerlaw`(xx, alpha, high, low) is:\n",
    "\n",
    "$p(x) = \\frac{1 + \\alpha}{x_{\\max}^{1 + \\alpha} - x_{\\min}^{1 + \\alpha}} x^{\\alpha}$\n",
    "\n",
    "and `truncnorm` is,\n",
    "\n",
    "$p(x) =\n",
    "        \\sqrt{\\frac{2}{\\pi\\sigma^2}}\n",
    "        \\left[\\text{erf}\\left(\\frac{x_\\max - \\mu}{\\sqrt{2}}\\right) + \\text{erf}\\left(\\frac{\\mu - x_\\min}{\\sqrt{2}}\\right)\\right]^{-1}\n",
    "        \\exp\\left(-\\frac{(\\mu - x)^2}{2 \\sigma^2}\\right)$\n",
    "        \n",
    "`SinglePeakSmoothedMassDistribution` is a class object that take `BaseSmoothedMassDistribution` as it's input. Calling this class returns the probability p_m1 * p_q.\n",
    "\n",
    "p_m1 = primary_model(dataset[\"mass_1\"], kwargs)\n",
    "\n",
    "p_q = powerlaw(dataset[\"mass_ratio\"], alpha=beta, high=1, low = mmin / dataset[\"mass_1\"])\n",
    "\n"
   ]
  },
  {
   "cell_type": "markdown",
   "id": "544c467f-dc82-495f-82c4-14da2c2f91de",
   "metadata": {},
   "source": [
    "The mass ratio is conditioned on mass in that you cannot have a mass ratio so low (say 0.01) such that mass_2 will be below the minimum allowed BH mass.\n",
    "\n",
    "So p_q is calculated as a powerlaw, then the **smoothing** is applied. From wiki:\n",
    "\n",
    "---\n",
    "\n",
    "The so-called \"Planck-taper\" window is a bump function that has been widely used in the theory of partitions of unity in manifolds. It is smooth (a C ∞ function) everywhere, but is exactly zero outside of a compact region, exactly one over an interval within that region, and varies smoothly and monotonically between those limits. Its use as a window function in signal processing was first suggested in the context of gravitational-wave astronomy, inspired by the Planck distribution.\n",
    "\n",
    "---\n",
    "\n",
    "$S = (f(m - mmin, delta_m) + 1)^{-1}$\n",
    "\n",
    "$f(m') = delta_m / m' + delta_m / (m' - delta_m)$\n",
    "\n",
    "delta_m is the range of mass tapering on the lower end of the mass distribution.\n",
    "\n",
    "After this smoothing is applied, we do p_q/norm_p_q.\n",
    "\n",
    "norm_p_q is obtained by again calculating p_q as by a powerlaw, and is again smoothed but with a difference.\n",
    "* the smoothing for p_q is using the dataset m1s and qs\n",
    "* the smoothing for norm_p_q used the self.m1s and qs, which are linspaced on mmin mmax and 0,1\n",
    "\n",
    "then norms = trapz(p_q, self.qs, axis=0)\n",
    "\n",
    "---\n",
    "\n",
    "the trapezoidal rule is a technique for approximating the definite integral. \n",
    "\n",
    "---\n",
    "\n",
    "all_norms = (norms[self.n_below] * (1 - self.step) + norms[self.n_above] * self.step)"
   ]
  },
  {
   "cell_type": "markdown",
   "id": "d7b84cc8-5733-4813-af62-d162c1dc338f",
   "metadata": {},
   "source": [
    "### Questions\n",
    "If the output probability is $p(m_{1}) \\times p(q)$ then can I take my first value of q...\n",
    "\n",
    "What is p(q|m)?\n",
    "\n",
    "Go from p(q) to q via Inverse transofrm sampling, interp1d, CDF\n",
    "\n",
    "The following is a good tutorial:\n",
    "\n",
    "https://kieranrcampbell.github.io/blog/2016/05/15/gibbs-sampling-bayesian-linear-regression.html"
   ]
  },
  {
   "cell_type": "code",
   "execution_count": 19,
   "id": "79835e08-df64-4522-8bbe-21030cce4318",
   "metadata": {},
   "outputs": [
    {
     "data": {
      "text/plain": [
       "0    0.222148\n",
       "Name: mass_ratio, dtype: float64"
      ]
     },
     "metadata": {},
     "output_type": "display_data"
    },
    {
     "data": {
      "text/html": [
       "<div>\n",
       "<style scoped>\n",
       "    .dataframe tbody tr th:only-of-type {\n",
       "        vertical-align: middle;\n",
       "    }\n",
       "\n",
       "    .dataframe tbody tr th {\n",
       "        vertical-align: top;\n",
       "    }\n",
       "\n",
       "    .dataframe thead th {\n",
       "        text-align: right;\n",
       "    }\n",
       "</style>\n",
       "<table border=\"1\" class=\"dataframe\">\n",
       "  <thead>\n",
       "    <tr style=\"text-align: right;\">\n",
       "      <th></th>\n",
       "      <th>mass_1</th>\n",
       "      <th>mass_ratio</th>\n",
       "    </tr>\n",
       "  </thead>\n",
       "  <tbody>\n",
       "    <tr>\n",
       "      <th>0</th>\n",
       "      <td>16.110151</td>\n",
       "      <td>0.355671</td>\n",
       "    </tr>\n",
       "  </tbody>\n",
       "</table>\n",
       "</div>"
      ],
      "text/plain": [
       "      mass_1  mass_ratio\n",
       "0  16.110151    0.355671"
      ]
     },
     "metadata": {},
     "output_type": "display_data"
    }
   ],
   "source": [
    "# start by defining an m and a q which are within the allowed range\n",
    "mass_1_0 = np.random.uniform(PP_params['mmin'],PP_params['mmax'],1)\n",
    "q_0 = np.random.uniform(0,1,1)\n",
    "while mass_1_0 * q_0 < PP_params['mmin']:\n",
    "    q_0 = np.random.uniform(0,1,1)\n",
    "\n",
    "sample_df = pd.DataFrame(mass_1_0, columns = ['mass_1'])\n",
    "sample_df = sample_df.assign(mass_ratio = q_0)\n",
    "\n",
    "# so we first take our value of m and calculate q | m\n",
    "p_q = gwpop.utils.powerlaw(sample_df['mass_ratio'], PP_params['beta'], 1, \n",
    "                           PP_params['mmin'] / sample_df[\"mass_1\"])\n",
    "\n",
    "# \n",
    "\n",
    "print(p_q)\n",
    "print(sample_df)\n",
    "# this isn't the normalised version"
   ]
  },
  {
   "cell_type": "markdown",
   "id": "3e960113-c86b-44d4-810c-0f445607959e",
   "metadata": {},
   "source": [
    "* Take 1000 m1s, linspace\n",
    "    * All at q=1\n",
    "* Produce 1000 p_m1s\n",
    "* populate cdf\n",
    "* sample cdf with rand[0,1]\n",
    "* get an m1\n",
    "* produce 1000 q's for this m1\n",
    "* get p_qs\n",
    "* populate cdf for q\n",
    "* sample with rand[0,1]\n",
    "* get a q\n",
    "* now I have my first sampled m1, q\n",
    "* with this q, get 1000m1s..."
   ]
  },
  {
   "cell_type": "code",
   "execution_count": 33,
   "id": "03d87c91-1c46-4f2c-9e7a-aa78d742100e",
   "metadata": {},
   "outputs": [
    {
     "data": {
      "text/html": [
       "<div>\n",
       "<style scoped>\n",
       "    .dataframe tbody tr th:only-of-type {\n",
       "        vertical-align: middle;\n",
       "    }\n",
       "\n",
       "    .dataframe tbody tr th {\n",
       "        vertical-align: top;\n",
       "    }\n",
       "\n",
       "    .dataframe thead th {\n",
       "        text-align: right;\n",
       "    }\n",
       "</style>\n",
       "<table border=\"1\" class=\"dataframe\">\n",
       "  <thead>\n",
       "    <tr style=\"text-align: right;\">\n",
       "      <th></th>\n",
       "      <th>mass_1</th>\n",
       "      <th>mass_ratio</th>\n",
       "    </tr>\n",
       "  </thead>\n",
       "  <tbody>\n",
       "    <tr>\n",
       "      <th>0</th>\n",
       "      <td>4.423603</td>\n",
       "      <td>0.987672</td>\n",
       "    </tr>\n",
       "    <tr>\n",
       "      <th>1</th>\n",
       "      <td>0.000000</td>\n",
       "      <td>0.000000</td>\n",
       "    </tr>\n",
       "    <tr>\n",
       "      <th>2</th>\n",
       "      <td>0.000000</td>\n",
       "      <td>0.000000</td>\n",
       "    </tr>\n",
       "    <tr>\n",
       "      <th>3</th>\n",
       "      <td>0.000000</td>\n",
       "      <td>0.000000</td>\n",
       "    </tr>\n",
       "    <tr>\n",
       "      <th>4</th>\n",
       "      <td>0.000000</td>\n",
       "      <td>0.000000</td>\n",
       "    </tr>\n",
       "    <tr>\n",
       "      <th>...</th>\n",
       "      <td>...</td>\n",
       "      <td>...</td>\n",
       "    </tr>\n",
       "    <tr>\n",
       "      <th>995</th>\n",
       "      <td>0.000000</td>\n",
       "      <td>0.000000</td>\n",
       "    </tr>\n",
       "    <tr>\n",
       "      <th>996</th>\n",
       "      <td>0.000000</td>\n",
       "      <td>0.000000</td>\n",
       "    </tr>\n",
       "    <tr>\n",
       "      <th>997</th>\n",
       "      <td>0.000000</td>\n",
       "      <td>0.000000</td>\n",
       "    </tr>\n",
       "    <tr>\n",
       "      <th>998</th>\n",
       "      <td>0.000000</td>\n",
       "      <td>0.000000</td>\n",
       "    </tr>\n",
       "    <tr>\n",
       "      <th>999</th>\n",
       "      <td>0.000000</td>\n",
       "      <td>0.000000</td>\n",
       "    </tr>\n",
       "  </tbody>\n",
       "</table>\n",
       "<p>1000 rows × 2 columns</p>\n",
       "</div>"
      ],
      "text/plain": [
       "       mass_1  mass_ratio\n",
       "0    4.423603    0.987672\n",
       "1    0.000000    0.000000\n",
       "2    0.000000    0.000000\n",
       "3    0.000000    0.000000\n",
       "4    0.000000    0.000000\n",
       "..        ...         ...\n",
       "995  0.000000    0.000000\n",
       "996  0.000000    0.000000\n",
       "997  0.000000    0.000000\n",
       "998  0.000000    0.000000\n",
       "999  0.000000    0.000000\n",
       "\n",
       "[1000 rows x 2 columns]"
      ]
     },
     "metadata": {},
     "output_type": "display_data"
    }
   ],
   "source": [
    "base = gwpop.models.mass.SinglePeakSmoothedMassDistribution(mmin = PP_params['mmin'],\n",
    "                                                     mmax = PP_params['mmax'])\n",
    "base.parameters = PP_params\n",
    "nsamps = 1000\n",
    "m1_sample = np.zeros(nsamps)\n",
    "q_sample = np.zeros(nsamps)\n",
    "\n",
    "# first get an initial point to loop from\n",
    "m1s = np.linspace(PP_params['mmin'],PP_params['mmax'],1000)\n",
    "qs_1 = np.ones(1000)\n",
    "space_df_m = pd.DataFrame(m1s, columns = ['mass_1'])\n",
    "space_df_m = space_df_m.assign(mass_ratio = qs_1)\n",
    "p_m1s = base.p_m1(space_df_m, alpha = PP_params['alpha'], \n",
    "          mmin = PP_params['mmin'], \n",
    "          mmax = PP_params['mmax'], \n",
    "          lam = PP_params['lam'], \n",
    "          mpp = PP_params['mpp'], \n",
    "          sigpp = PP_params['sigpp'])\n",
    "\n",
    "m1s_cdf = np.cumsum(p_m1s).to_numpy()\n",
    "m1s_cdf = (m1s_cdf - m1s_cdf[0])\n",
    "m1s_cdf /= m1s_cdf[-1]\n",
    "\n",
    "m1_sample[0] = np.interp(np.random.random(), m1s_cdf, m1s)\n",
    "\n",
    "q_min = PP_params['mmin']/m1_sample[0]\n",
    "qs = np.linspace(q_min,1,1000)\n",
    "m1s_new = np.full(1000, m1_sample[0])\n",
    "\n",
    "space_df_q = pd.DataFrame(m1s_new, columns = ['mass_1'])\n",
    "space_df_q = space_df_q.assign(mass_ratio = qs)\n",
    "\n",
    "p_qs = base.p_q(space_df_q, PP_params['beta'], PP_params['mmin'], PP_params['delta_m'])\n",
    "\n",
    "qs_cdf = np.cumsum(p_qs)\n",
    "qs_cdf = (qs_cdf - qs_cdf[0])\n",
    "qs_cdf /= qs_cdf[-1]\n",
    "\n",
    "q_sample[0] = np.interp(np.random.random(), qs_cdf, qs)\n",
    "\n",
    "samples = pd.DataFrame(m1_sample, columns = ['mass_1'])\n",
    "samples = samples.assign(mass_ratio = q_sample)\n",
    "\n",
    "print(samples)\n",
    "    "
   ]
  },
  {
   "cell_type": "markdown",
   "id": "d4b8bc5c-de35-4607-b7ae-d01803323ded",
   "metadata": {},
   "source": [
    "This looks like it's close to working. It does produce the odd q = nan so maybe something not quite right about the limits.\n",
    "\n",
    "Next I need to work this into a loop. Start with the samples data frame and set the first row to something like 30, 1. Then take 1000 1's and the full range of M1s. Do the sampling as about and update row 2 of the samples df with the new M1. Take 1000 of this new M1 and get conditioned qs...\n",
    "\n",
    "What is quicker, updating the df in each loop of i, or building an array of M1s and qs and creating a df of them at the end?"
   ]
  },
  {
   "cell_type": "markdown",
   "id": "c5f34ff4-8d66-4635-9494-ff29838dbd7c",
   "metadata": {},
   "source": [
    "When the mass ratio is high, say >0.7, then p_q > 1. This base.p_q should be the normalised version.\n",
    "\n",
    "Why is this?\n",
    "\n",
    "I could go and just use an equivalent distributiuon in scipy BUT I'd like to understand what's going on here"
   ]
  },
  {
   "cell_type": "code",
   "execution_count": null,
   "id": "437fcdaf-7c3d-43cf-948f-cfa88d83881d",
   "metadata": {},
   "outputs": [],
   "source": [
    "# Christian's code\n",
    "# generate q values in logspace\n",
    "q_values = cp.logspace(np.log10(1e-8),np.log10(5e-4),200)\n",
    "# initiate empty q_samples \n",
    "q_samples = cp.zeros(nsamp)\n",
    "# define the boundaries\n",
    "mu_min = 0.5\n",
    "mu_max = 100\n",
    "\n",
    "for i in range(nsamp):\n",
    "print(i)\n",
    "# for each mass sample [i] we define qmax as the lesser of the maximum mass over the current sample mass, or 1^-4\n",
    "# this is specific to CCBs EMRI work, I can have any mass ratio allowed by the mass limits\n",
    "qmax = min(mu_max/mass_samples[i],1e-4)\n",
    "# the minimum mass ratio is the minimum mass over the current mass sample, otherwise m2 will be lower than mmin\n",
    "qmin = mu_min/mass_samples[i]\n",
    "# generate qvals in the allowed range\n",
    "qvals = cp.logspace(np.log10(qmin),np.log10(qmax),20)\n",
    "# use the qvals to populate the qpdf\n",
    "qpdf = powerlaw(qvals, -2, qmax, qmin)\n",
    "# turn the qpdf into a cdf\n",
    "qcdf = cp.cumsum(qpdf)\n",
    "# normalise the cdf\n",
    "qcdf = (qcdf - qcdf[0])/(qcdf[-1] - qcdf[0])\n",
    "# generate the sampled q from the cdf using a random number between 0 and 1\n",
    "q_samples[i] = cp.interp(cp.random.random(),qcdf,qvals)"
   ]
  },
  {
   "cell_type": "markdown",
   "id": "ffc1cc8e-4664-44b5-8c7f-7151feb65a57",
   "metadata": {},
   "source": [
    "### Multi-model Application\n",
    "\n",
    "* I will need to combine the probability outputs of the models to get $p(m_{1}, q, a1, a2, \\cos(\\theta_1), \\cos(\\theta_2), z)$\n",
    "* I will need to construct something like $p(m_{1}|q, \\chi_{eff}, \\cos(\\theta_1), \\cos(\\theta_2), z)$ for each parameter conditional on the others\n",
    "\n",
    "Simple if independent\n",
    "\n",
    "trace plots will show if burn in"
   ]
  },
  {
   "cell_type": "code",
   "execution_count": null,
   "id": "65630a20-8873-4685-a971-a73c94fa9175",
   "metadata": {},
   "outputs": [],
   "source": [
    "# this is the stack overflow suggestion:\n",
    "# Create a flat copy of the array\n",
    "flat = array.flatten()\n",
    "\n",
    "# Then, sample an index from the 1D array with the\n",
    "# probability distribution from the original array\n",
    "sample_index = np.random.choice(a=flat.size, p=flat)\n",
    "\n",
    "# Take this index and adjust it so it matches the original array\n",
    "adjusted_index = np.unravel_index(sample_index, array.shape)\n",
    "print(adjusted_index)"
   ]
  },
  {
   "cell_type": "markdown",
   "id": "d091a9b3-2c57-44f9-b8a3-8901da18ab9a",
   "metadata": {},
   "source": [
    "# The below is a tentative attempt to recreate the samples PP_hyperposterior_samples found at the beginning."
   ]
  },
  {
   "cell_type": "code",
   "execution_count": 105,
   "id": "31be101c-f9a2-4d0b-a0de-427a1d8ad051",
   "metadata": {},
   "outputs": [
    {
     "ename": "AttributeError",
     "evalue": "module 'bilby' has no attribute 'model'",
     "output_type": "error",
     "traceback": [
      "\u001b[0;31m---------------------------------------------------------------------------\u001b[0m",
      "\u001b[0;31mAttributeError\u001b[0m                            Traceback (most recent call last)",
      "\u001b[0;32m/tmp/ipykernel_2034201/1898799816.py\u001b[0m in \u001b[0;36m<module>\u001b[0;34m\u001b[0m\n\u001b[0;32m----> 1\u001b[0;31m \u001b[0mbb\u001b[0m\u001b[0;34m.\u001b[0m\u001b[0mmodel\u001b[0m\u001b[0;34m[\u001b[0m\u001b[0;34m\"default\"\u001b[0m\u001b[0;34m]\u001b[0m\u001b[0;34m\u001b[0m\u001b[0;34m\u001b[0m\u001b[0m\n\u001b[0m",
      "\u001b[0;31mAttributeError\u001b[0m: module 'bilby' has no attribute 'model'"
     ]
    }
   ],
   "source": [
    "bb.model[\"default\"]"
   ]
  },
  {
   "cell_type": "code",
   "execution_count": null,
   "id": "e31b14da-b00f-4976-abb8-a514e6040fd2",
   "metadata": {},
   "outputs": [
    {
     "data": {
      "text/plain": [
       "{'alpha': Uniform(minimum=-4, maximum=12, name='alpha', latex_label='$\\\\alpha$', unit=None, boundary=None),\n",
       " 'beta': Uniform(minimum=-2, maximum=7, name='beta', latex_label='$\\\\beta_{q}$', unit=None, boundary=None),\n",
       " 'mmax': Uniform(minimum=30, maximum=100, name='mmax', latex_label='$m_{\\\\max}$', unit=None, boundary=None),\n",
       " 'mmin': Uniform(minimum=2, maximum=10, name='mmin', latex_label='$m_{\\\\min}$', unit=None, boundary=None),\n",
       " 'lam': Uniform(minimum=0, maximum=1, name='lambda', latex_label='$\\\\lambda_{m}$', unit=None, boundary=None),\n",
       " 'mpp': Uniform(minimum=20, maximum=50, name='mpp', latex_label='$\\\\mu_{m}$', unit=None, boundary=None),\n",
       " 'sigpp': Uniform(minimum=1, maximum=10, name='sigpp', latex_label='$\\\\sigma_{m}$', unit=None, boundary=None),\n",
       " 'delta_m': Uniform(minimum=0, maximum=10, name='delta_m', latex_label='$\\\\delta_{m}$', unit=None, boundary='reflective'),\n",
       " 'amax': DeltaFunction(peak=1.0, name=None, latex_label=None, unit=None),\n",
       " 'mu_chi': Uniform(minimum=0, maximum=1, name='mu_chi', latex_label='$\\\\mu_{\\\\chi}$', unit=None, boundary=None),\n",
       " 'sigma_chi': Uniform(minimum=0.005, maximum=0.25, name='sigma_chi', latex_label='$\\\\sigma^{2}_{\\\\chi}$', unit=None, boundary=None),\n",
       " 'alpha_chi': Constraint(minimum=1, maximum=100000.0, name=None, latex_label=None, unit=None),\n",
       " 'alpha_chi_1': Constraint(minimum=1, maximum=100000.0, name=None, latex_label=None, unit=None),\n",
       " 'alpha_chi_2': Constraint(minimum=1, maximum=100000.0, name=None, latex_label=None, unit=None),\n",
       " 'beta_chi': Constraint(minimum=1, maximum=100000.0, name=None, latex_label=None, unit=None),\n",
       " 'beta_chi_1': Constraint(minimum=1, maximum=100000.0, name=None, latex_label=None, unit=None),\n",
       " 'beta_chi_2': Constraint(minimum=1, maximum=100000.0, name=None, latex_label=None, unit=None),\n",
       " 'xi_spin': Uniform(minimum=0, maximum=1, name='xi_spin', latex_label='$\\\\zeta$', unit=None, boundary=None),\n",
       " 'sigma_spin': Uniform(minimum=0.1, maximum=4.0, name='sigma_t', latex_label='$\\\\sigma_t$', unit=None, boundary=None),\n",
       " 'lamb': Uniform(minimum=-10, maximum=10, name='lamb', latex_label='$\\\\lambda_z$', unit=None, boundary=None)}"
      ]
     },
     "execution_count": 14,
     "metadata": {},
     "output_type": "execute_result"
    }
   ],
   "source": [
    "PP_result.priors"
   ]
  },
  {
   "cell_type": "code",
   "execution_count": null,
   "id": "f5ca306f-a988-4b28-b53a-01c70c8da51e",
   "metadata": {},
   "outputs": [
    {
     "data": {
      "text/plain": [
       "Uniform(minimum=-4, maximum=12, name='alpha', latex_label='$\\\\alpha$', unit=None, boundary=None)"
      ]
     },
     "execution_count": 15,
     "metadata": {},
     "output_type": "execute_result"
    }
   ],
   "source": [
    "fast_priors = PriorDict(PP_result.priors)\n",
    "\n",
    "fast_priors['alpha']"
   ]
  },
  {
   "cell_type": "markdown",
   "id": "2a2f0a87-b9a0-439b-8090-fb7538ce9217",
   "metadata": {},
   "source": [
    "Need to get some posteriors from the latest data release. So first download the GWTC-3 events then use the below to form the posteriors.\n",
    "\n",
    "Hyper-posteriors vs posteriors:\n",
    "* To calculate SNRs I will need posterior samples\n",
    "* I have hyper-posterior samples\n",
    "\n",
    "Is there a way to draw posterior samples from a population model, which is defined by hyper-parameters?\n",
    "\n",
    "The O3bPEDataReleaseNotebook draws posterior samples from GW events. It states the following:\n",
    "\n",
    "---\n",
    "\n",
    "The `data.labels` list contains the labels for the different analysis configurations used for this event. For GW200224_222234 these are:\n",
    "- C01:IMRPhenomXPHM: Samples produced using the [`IMRPhenomXPHM` waveform](https://arxiv.org/abs/2004.06503), a phenomenological waveform including precession and higher modes\n",
    "- C01:SEOBNRv4PHM: Samples produced using the [`SEOBNRv4PHM` waveform](https://arxiv.org/abs/2004.09442), an effective one-body waveform including precession and higher modes\n",
    "- C01:Mixed: A mixed set of samples created by combining both waveforms into one set\n",
    "\n",
    "`C01` refers to the data quality level that the parameter estimation runs were performed on. `C01` is data that has gone through a detailed process of cleaning and conditioning.\n",
    "\n",
    "When choosing a set of samples to use the choice of waveform should be considered carefully. `SEOB` waveforms such as `SEOBNRv4PHM` are quite slow to generate. As such `GW200224_222234` only has 5978 samples for this waveform. The `Phenom` model is faster to generate so the `IMRPhenomXPHM` has 88200 samples. However, `Phenom` models are generated in the frequency domain and may demonstrate some waveform systematics in the frequency domain. If waveform systematics are not relevant for your work it may be best to rely upon the larger number of `IMRPhenomXPHM` samples. This will be the case for the vast majority of events in the GWTC-3 Catalog.\n",
    "\n",
    "---\n",
    "\n",
    "So there are of the order 1000s of samples from one event. This doesn't sound like what I'm looking for, I want samples drawn from the entire population. \n",
    "* So does that mean I get a few samples for every detected event? That wouldn't seem right, it should be possible to draw samples from the population model."
   ]
  },
  {
   "cell_type": "code",
   "execution_count": null,
   "id": "8a35c0b1-e76f-4e01-8e8d-0b72a7c6cb16",
   "metadata": {},
   "outputs": [],
   "source": [
    "#!wget https://dcc.ligo.org/public/0157/P1800370/002/GWTC-1_sample_release.tar.gz\n",
    "#!tar -xvzf GWTC-1_sample_release.tar.gz"
   ]
  },
  {
   "cell_type": "code",
   "execution_count": null,
   "id": "a11e53dc-dba8-4597-be4a-3547828f254a",
   "metadata": {},
   "outputs": [],
   "source": [
    "# from gwosc.datasets import find_datasets\n",
    "# events = find_datasets(type='event', match=\"GW\")\n",
    "# print(\"Some available events are:\")\n",
    "# print(events)"
   ]
  },
  {
   "cell_type": "markdown",
   "id": "593f7b19-27f0-4ac0-b765-7df69438cd9a",
   "metadata": {},
   "source": [
    "The below "
   ]
  },
  {
   "cell_type": "code",
   "execution_count": null,
   "id": "faa7f164-b291-40c8-8ebb-0894c6be4087",
   "metadata": {},
   "outputs": [
    {
     "ename": "FileNotFoundError",
     "evalue": "[Errno 2] Unable to open file (unable to open file: name = './GWTC-1_sample_release/GW150914_GWTC-1.hdf5', errno = 2, error message = 'No such file or directory', flags = 0, o_flags = 0)",
     "output_type": "error",
     "traceback": [
      "\u001b[0;31m---------------------------------------------------------------------------\u001b[0m",
      "\u001b[0;31mFileNotFoundError\u001b[0m                         Traceback (most recent call last)",
      "\u001b[0;32m/tmp/ipykernel_903130/2276011467.py\u001b[0m in \u001b[0;36m<module>\u001b[0;34m\u001b[0m\n\u001b[1;32m     23\u001b[0m     \u001b[0m_prior\u001b[0m \u001b[0;34m=\u001b[0m \u001b[0mpd\u001b[0m\u001b[0;34m.\u001b[0m\u001b[0mDataFrame\u001b[0m\u001b[0;34m(\u001b[0m\u001b[0;34m)\u001b[0m\u001b[0;34m\u001b[0m\u001b[0;34m\u001b[0m\u001b[0m\n\u001b[1;32m     24\u001b[0m     \u001b[0;31m# use the parameter_translator dictionary link to loop through the parameters\u001b[0m\u001b[0;34m\u001b[0m\u001b[0;34m\u001b[0m\u001b[0;34m\u001b[0m\u001b[0m\n\u001b[0;32m---> 25\u001b[0;31m     \u001b[0;32mwith\u001b[0m \u001b[0mh5py\u001b[0m\u001b[0;34m.\u001b[0m\u001b[0mFile\u001b[0m\u001b[0;34m(\u001b[0m\u001b[0mfile_str\u001b[0m\u001b[0;34m.\u001b[0m\u001b[0mformat\u001b[0m\u001b[0;34m(\u001b[0m\u001b[0mevent\u001b[0m\u001b[0;34m)\u001b[0m\u001b[0;34m)\u001b[0m \u001b[0;32mas\u001b[0m \u001b[0mff\u001b[0m\u001b[0;34m:\u001b[0m\u001b[0;34m\u001b[0m\u001b[0;34m\u001b[0m\u001b[0m\n\u001b[0m\u001b[1;32m     26\u001b[0m         \u001b[0;32mfor\u001b[0m \u001b[0mmy_key\u001b[0m\u001b[0;34m,\u001b[0m \u001b[0mgwtc_key\u001b[0m \u001b[0;32min\u001b[0m \u001b[0mparameter_translator\u001b[0m\u001b[0;34m.\u001b[0m\u001b[0mitems\u001b[0m\u001b[0;34m(\u001b[0m\u001b[0;34m)\u001b[0m\u001b[0;34m:\u001b[0m\u001b[0;34m\u001b[0m\u001b[0;34m\u001b[0m\u001b[0m\n\u001b[1;32m     27\u001b[0m             \u001b[0;31m# fill the dummy dataframe with the data from the h5py file via the parameter_translator dictionary\u001b[0m\u001b[0;34m\u001b[0m\u001b[0;34m\u001b[0m\u001b[0;34m\u001b[0m\u001b[0m\n",
      "\u001b[0;32m/data/wiay/johnny/phd1/phd1/lib/python3.7/site-packages/h5py/_hl/files.py\u001b[0m in \u001b[0;36m__init__\u001b[0;34m(self, name, mode, driver, libver, userblock_size, swmr, rdcc_nslots, rdcc_nbytes, rdcc_w0, track_order, fs_strategy, fs_persist, fs_threshold, fs_page_size, page_buf_size, min_meta_keep, min_raw_keep, locking, **kwds)\u001b[0m\n\u001b[1;32m    505\u001b[0m                                  \u001b[0mfs_persist\u001b[0m\u001b[0;34m=\u001b[0m\u001b[0mfs_persist\u001b[0m\u001b[0;34m,\u001b[0m \u001b[0mfs_threshold\u001b[0m\u001b[0;34m=\u001b[0m\u001b[0mfs_threshold\u001b[0m\u001b[0;34m,\u001b[0m\u001b[0;34m\u001b[0m\u001b[0;34m\u001b[0m\u001b[0m\n\u001b[1;32m    506\u001b[0m                                  fs_page_size=fs_page_size)\n\u001b[0;32m--> 507\u001b[0;31m                 \u001b[0mfid\u001b[0m \u001b[0;34m=\u001b[0m \u001b[0mmake_fid\u001b[0m\u001b[0;34m(\u001b[0m\u001b[0mname\u001b[0m\u001b[0;34m,\u001b[0m \u001b[0mmode\u001b[0m\u001b[0;34m,\u001b[0m \u001b[0muserblock_size\u001b[0m\u001b[0;34m,\u001b[0m \u001b[0mfapl\u001b[0m\u001b[0;34m,\u001b[0m \u001b[0mfcpl\u001b[0m\u001b[0;34m,\u001b[0m \u001b[0mswmr\u001b[0m\u001b[0;34m=\u001b[0m\u001b[0mswmr\u001b[0m\u001b[0;34m)\u001b[0m\u001b[0;34m\u001b[0m\u001b[0;34m\u001b[0m\u001b[0m\n\u001b[0m\u001b[1;32m    508\u001b[0m \u001b[0;34m\u001b[0m\u001b[0m\n\u001b[1;32m    509\u001b[0m             \u001b[0;32mif\u001b[0m \u001b[0misinstance\u001b[0m\u001b[0;34m(\u001b[0m\u001b[0mlibver\u001b[0m\u001b[0;34m,\u001b[0m \u001b[0mtuple\u001b[0m\u001b[0;34m)\u001b[0m\u001b[0;34m:\u001b[0m\u001b[0;34m\u001b[0m\u001b[0;34m\u001b[0m\u001b[0m\n",
      "\u001b[0;32m/data/wiay/johnny/phd1/phd1/lib/python3.7/site-packages/h5py/_hl/files.py\u001b[0m in \u001b[0;36mmake_fid\u001b[0;34m(name, mode, userblock_size, fapl, fcpl, swmr)\u001b[0m\n\u001b[1;32m    218\u001b[0m         \u001b[0;32mif\u001b[0m \u001b[0mswmr\u001b[0m \u001b[0;32mand\u001b[0m \u001b[0mswmr_support\u001b[0m\u001b[0;34m:\u001b[0m\u001b[0;34m\u001b[0m\u001b[0;34m\u001b[0m\u001b[0m\n\u001b[1;32m    219\u001b[0m             \u001b[0mflags\u001b[0m \u001b[0;34m|=\u001b[0m \u001b[0mh5f\u001b[0m\u001b[0;34m.\u001b[0m\u001b[0mACC_SWMR_READ\u001b[0m\u001b[0;34m\u001b[0m\u001b[0;34m\u001b[0m\u001b[0m\n\u001b[0;32m--> 220\u001b[0;31m         \u001b[0mfid\u001b[0m \u001b[0;34m=\u001b[0m \u001b[0mh5f\u001b[0m\u001b[0;34m.\u001b[0m\u001b[0mopen\u001b[0m\u001b[0;34m(\u001b[0m\u001b[0mname\u001b[0m\u001b[0;34m,\u001b[0m \u001b[0mflags\u001b[0m\u001b[0;34m,\u001b[0m \u001b[0mfapl\u001b[0m\u001b[0;34m=\u001b[0m\u001b[0mfapl\u001b[0m\u001b[0;34m)\u001b[0m\u001b[0;34m\u001b[0m\u001b[0;34m\u001b[0m\u001b[0m\n\u001b[0m\u001b[1;32m    221\u001b[0m     \u001b[0;32melif\u001b[0m \u001b[0mmode\u001b[0m \u001b[0;34m==\u001b[0m \u001b[0;34m'r+'\u001b[0m\u001b[0;34m:\u001b[0m\u001b[0;34m\u001b[0m\u001b[0;34m\u001b[0m\u001b[0m\n\u001b[1;32m    222\u001b[0m         \u001b[0mfid\u001b[0m \u001b[0;34m=\u001b[0m \u001b[0mh5f\u001b[0m\u001b[0;34m.\u001b[0m\u001b[0mopen\u001b[0m\u001b[0;34m(\u001b[0m\u001b[0mname\u001b[0m\u001b[0;34m,\u001b[0m \u001b[0mh5f\u001b[0m\u001b[0;34m.\u001b[0m\u001b[0mACC_RDWR\u001b[0m\u001b[0;34m,\u001b[0m \u001b[0mfapl\u001b[0m\u001b[0;34m=\u001b[0m\u001b[0mfapl\u001b[0m\u001b[0;34m)\u001b[0m\u001b[0;34m\u001b[0m\u001b[0;34m\u001b[0m\u001b[0m\n",
      "\u001b[0;32mh5py/_objects.pyx\u001b[0m in \u001b[0;36mh5py._objects.with_phil.wrapper\u001b[0;34m()\u001b[0m\n",
      "\u001b[0;32mh5py/_objects.pyx\u001b[0m in \u001b[0;36mh5py._objects.with_phil.wrapper\u001b[0;34m()\u001b[0m\n",
      "\u001b[0;32mh5py/h5f.pyx\u001b[0m in \u001b[0;36mh5py.h5f.open\u001b[0;34m()\u001b[0m\n",
      "\u001b[0;31mFileNotFoundError\u001b[0m: [Errno 2] Unable to open file (unable to open file: name = './GWTC-1_sample_release/GW150914_GWTC-1.hdf5', errno = 2, error message = 'No such file or directory', flags = 0, o_flags = 0)"
     ]
    }
   ],
   "source": [
    "# create a dictionary to refer to objects as they are called in the data release file\n",
    "parameter_translator = dict(\n",
    "    mass_1_det='m1_detector_frame_Msun',\n",
    "    mass_2_det='m2_detector_frame_Msun',\n",
    "    luminosity_distance='luminosity_distance_Mpc',\n",
    "    a_1='spin1',\n",
    "    a_2='spin2',\n",
    "    cos_tilt_1='costilt1',\n",
    "    cos_tilt_2='costilt2')\n",
    "\n",
    "# initiate a list to hold posteriors and priors\n",
    "posteriors = list()\n",
    "priors = list()\n",
    "\n",
    "file_str = './GWTC-1_sample_release/GW{}_GWTC-1.hdf5'\n",
    "# create list of events\n",
    "events = ['150914', '151012', '151226', '170104', '170608',\n",
    "          '170729', '170809', '170814', '170818', '170823']\n",
    "# loop through the events\n",
    "for event in events:\n",
    "    # create dummy dataframes\n",
    "    _posterior = pd.DataFrame()\n",
    "    _prior = pd.DataFrame()\n",
    "    # use the parameter_translator dictionary link to loop through the parameters\n",
    "    with h5py.File(file_str.format(event)) as ff:\n",
    "        for my_key, gwtc_key in parameter_translator.items():\n",
    "            # fill the dummy dataframe with the data from the h5py file via the parameter_translator dictionary\n",
    "            _posterior[my_key] = ff['IMRPhenomPv2_posterior'][gwtc_key]\n",
    "            _prior[my_key] = ff['prior'][gwtc_key]\n",
    "    # append the dummy dataframes to the lists created above\n",
    "    posteriors.append(_posterior)\n",
    "    priors.append(_prior)"
   ]
  },
  {
   "cell_type": "markdown",
   "id": "3cf4a9bb-6eb3-469a-b70e-820dcaf41f8c",
   "metadata": {},
   "source": [
    "So I need a set of posteriors and a prior for the following to generate the likelihood. What form do I expect the likelihood to take?"
   ]
  },
  {
   "cell_type": "code",
   "execution_count": null,
   "id": "0e542bef-74bb-43af-bb18-a7b7720c373c",
   "metadata": {},
   "outputs": [
    {
     "name": "stderr",
     "output_type": "stream",
     "text": [
      "14:51 bilby WARNING : Cannot import cupy, falling back to numpy.\n"
     ]
    },
    {
     "ename": "KeyError",
     "evalue": "0",
     "output_type": "error",
     "traceback": [
      "\u001b[0;31m---------------------------------------------------------------------------\u001b[0m",
      "\u001b[0;31mKeyError\u001b[0m                                  Traceback (most recent call last)",
      "\u001b[0;32m/data/wiay/johnny/phd1/phd1/lib/python3.7/site-packages/pandas/core/indexes/base.py\u001b[0m in \u001b[0;36mget_loc\u001b[0;34m(self, key, method, tolerance)\u001b[0m\n\u001b[1;32m   3360\u001b[0m             \u001b[0;32mtry\u001b[0m\u001b[0;34m:\u001b[0m\u001b[0;34m\u001b[0m\u001b[0;34m\u001b[0m\u001b[0m\n\u001b[0;32m-> 3361\u001b[0;31m                 \u001b[0;32mreturn\u001b[0m \u001b[0mself\u001b[0m\u001b[0;34m.\u001b[0m\u001b[0m_engine\u001b[0m\u001b[0;34m.\u001b[0m\u001b[0mget_loc\u001b[0m\u001b[0;34m(\u001b[0m\u001b[0mcasted_key\u001b[0m\u001b[0;34m)\u001b[0m\u001b[0;34m\u001b[0m\u001b[0;34m\u001b[0m\u001b[0m\n\u001b[0m\u001b[1;32m   3362\u001b[0m             \u001b[0;32mexcept\u001b[0m \u001b[0mKeyError\u001b[0m \u001b[0;32mas\u001b[0m \u001b[0merr\u001b[0m\u001b[0;34m:\u001b[0m\u001b[0;34m\u001b[0m\u001b[0;34m\u001b[0m\u001b[0m\n",
      "\u001b[0;32m/data/wiay/johnny/phd1/phd1/lib/python3.7/site-packages/pandas/_libs/index.pyx\u001b[0m in \u001b[0;36mpandas._libs.index.IndexEngine.get_loc\u001b[0;34m()\u001b[0m\n",
      "\u001b[0;32m/data/wiay/johnny/phd1/phd1/lib/python3.7/site-packages/pandas/_libs/index.pyx\u001b[0m in \u001b[0;36mpandas._libs.index.IndexEngine.get_loc\u001b[0;34m()\u001b[0m\n",
      "\u001b[0;32mpandas/_libs/hashtable_class_helper.pxi\u001b[0m in \u001b[0;36mpandas._libs.hashtable.PyObjectHashTable.get_item\u001b[0;34m()\u001b[0m\n",
      "\u001b[0;32mpandas/_libs/hashtable_class_helper.pxi\u001b[0m in \u001b[0;36mpandas._libs.hashtable.PyObjectHashTable.get_item\u001b[0;34m()\u001b[0m\n",
      "\u001b[0;31mKeyError\u001b[0m: 0",
      "\nThe above exception was the direct cause of the following exception:\n",
      "\u001b[0;31mKeyError\u001b[0m                                  Traceback (most recent call last)",
      "\u001b[0;32m/tmp/ipykernel_903130/4013663126.py\u001b[0m in \u001b[0;36m<module>\u001b[0;34m\u001b[0m\n\u001b[0;32m----> 1\u001b[0;31m \u001b[0mfast_likelihood\u001b[0m \u001b[0;34m=\u001b[0m \u001b[0mgwpop\u001b[0m\u001b[0;34m.\u001b[0m\u001b[0mhyperpe\u001b[0m\u001b[0;34m.\u001b[0m\u001b[0mHyperparameterLikelihood\u001b[0m\u001b[0;34m(\u001b[0m\u001b[0mposteriors\u001b[0m \u001b[0;34m=\u001b[0m \u001b[0mPP_result\u001b[0m\u001b[0;34m.\u001b[0m\u001b[0mposterior\u001b[0m\u001b[0;34m,\u001b[0m \u001b[0mhyper_prior\u001b[0m\u001b[0;34m=\u001b[0m\u001b[0mfast_priors\u001b[0m\u001b[0;34m)\u001b[0m\u001b[0;34m\u001b[0m\u001b[0;34m\u001b[0m\u001b[0m\n\u001b[0m",
      "\u001b[0;32m/data/wiay/johnny/phd1/phd1/lib/python3.7/site-packages/gwpopulation/hyperpe.py\u001b[0m in \u001b[0;36m__init__\u001b[0;34m(self, posteriors, hyper_prior, ln_evidences, max_samples, selection_function, conversion_function, cupy)\u001b[0m\n\u001b[1;32m     69\u001b[0m \u001b[0;34m\u001b[0m\u001b[0m\n\u001b[1;32m     70\u001b[0m         \u001b[0mself\u001b[0m\u001b[0;34m.\u001b[0m\u001b[0msamples_per_posterior\u001b[0m \u001b[0;34m=\u001b[0m \u001b[0mmax_samples\u001b[0m\u001b[0;34m\u001b[0m\u001b[0;34m\u001b[0m\u001b[0m\n\u001b[0;32m---> 71\u001b[0;31m         \u001b[0mself\u001b[0m\u001b[0;34m.\u001b[0m\u001b[0mdata\u001b[0m \u001b[0;34m=\u001b[0m \u001b[0mself\u001b[0m\u001b[0;34m.\u001b[0m\u001b[0mresample_posteriors\u001b[0m\u001b[0;34m(\u001b[0m\u001b[0mposteriors\u001b[0m\u001b[0;34m,\u001b[0m \u001b[0mmax_samples\u001b[0m\u001b[0;34m=\u001b[0m\u001b[0mmax_samples\u001b[0m\u001b[0;34m)\u001b[0m\u001b[0;34m\u001b[0m\u001b[0;34m\u001b[0m\u001b[0m\n\u001b[0m\u001b[1;32m     72\u001b[0m \u001b[0;34m\u001b[0m\u001b[0m\n\u001b[1;32m     73\u001b[0m         \u001b[0;32mif\u001b[0m \u001b[0misinstance\u001b[0m\u001b[0;34m(\u001b[0m\u001b[0mhyper_prior\u001b[0m\u001b[0;34m,\u001b[0m \u001b[0mtypes\u001b[0m\u001b[0;34m.\u001b[0m\u001b[0mFunctionType\u001b[0m\u001b[0;34m)\u001b[0m\u001b[0;34m:\u001b[0m\u001b[0;34m\u001b[0m\u001b[0;34m\u001b[0m\u001b[0m\n",
      "\u001b[0;32m/data/wiay/johnny/phd1/phd1/lib/python3.7/site-packages/gwpopulation/hyperpe.py\u001b[0m in \u001b[0;36mresample_posteriors\u001b[0;34m(self, posteriors, max_samples)\u001b[0m\n\u001b[1;32m    211\u001b[0m         \u001b[0;32mfor\u001b[0m \u001b[0mposterior\u001b[0m \u001b[0;32min\u001b[0m \u001b[0mposteriors\u001b[0m\u001b[0;34m:\u001b[0m\u001b[0;34m\u001b[0m\u001b[0;34m\u001b[0m\u001b[0m\n\u001b[1;32m    212\u001b[0m             \u001b[0mmax_samples\u001b[0m \u001b[0;34m=\u001b[0m \u001b[0mmin\u001b[0m\u001b[0;34m(\u001b[0m\u001b[0mlen\u001b[0m\u001b[0;34m(\u001b[0m\u001b[0mposterior\u001b[0m\u001b[0;34m)\u001b[0m\u001b[0;34m,\u001b[0m \u001b[0mmax_samples\u001b[0m\u001b[0;34m)\u001b[0m\u001b[0;34m\u001b[0m\u001b[0;34m\u001b[0m\u001b[0m\n\u001b[0;32m--> 213\u001b[0;31m         \u001b[0mdata\u001b[0m \u001b[0;34m=\u001b[0m \u001b[0;34m{\u001b[0m\u001b[0mkey\u001b[0m\u001b[0;34m:\u001b[0m \u001b[0;34m[\u001b[0m\u001b[0;34m]\u001b[0m \u001b[0;32mfor\u001b[0m \u001b[0mkey\u001b[0m \u001b[0;32min\u001b[0m \u001b[0mposteriors\u001b[0m\u001b[0;34m[\u001b[0m\u001b[0;36m0\u001b[0m\u001b[0;34m]\u001b[0m\u001b[0;34m}\u001b[0m\u001b[0;34m\u001b[0m\u001b[0;34m\u001b[0m\u001b[0m\n\u001b[0m\u001b[1;32m    214\u001b[0m         \u001b[0mlogger\u001b[0m\u001b[0;34m.\u001b[0m\u001b[0mdebug\u001b[0m\u001b[0;34m(\u001b[0m\u001b[0;34mf\"Downsampling to {max_samples} samples per posterior.\"\u001b[0m\u001b[0;34m)\u001b[0m\u001b[0;34m\u001b[0m\u001b[0;34m\u001b[0m\u001b[0m\n\u001b[1;32m    215\u001b[0m         \u001b[0mself\u001b[0m\u001b[0;34m.\u001b[0m\u001b[0msamples_per_posterior\u001b[0m \u001b[0;34m=\u001b[0m \u001b[0mmax_samples\u001b[0m\u001b[0;34m\u001b[0m\u001b[0;34m\u001b[0m\u001b[0m\n",
      "\u001b[0;32m/data/wiay/johnny/phd1/phd1/lib/python3.7/site-packages/pandas/core/frame.py\u001b[0m in \u001b[0;36m__getitem__\u001b[0;34m(self, key)\u001b[0m\n\u001b[1;32m   3456\u001b[0m             \u001b[0;32mif\u001b[0m \u001b[0mself\u001b[0m\u001b[0;34m.\u001b[0m\u001b[0mcolumns\u001b[0m\u001b[0;34m.\u001b[0m\u001b[0mnlevels\u001b[0m \u001b[0;34m>\u001b[0m \u001b[0;36m1\u001b[0m\u001b[0;34m:\u001b[0m\u001b[0;34m\u001b[0m\u001b[0;34m\u001b[0m\u001b[0m\n\u001b[1;32m   3457\u001b[0m                 \u001b[0;32mreturn\u001b[0m \u001b[0mself\u001b[0m\u001b[0;34m.\u001b[0m\u001b[0m_getitem_multilevel\u001b[0m\u001b[0;34m(\u001b[0m\u001b[0mkey\u001b[0m\u001b[0;34m)\u001b[0m\u001b[0;34m\u001b[0m\u001b[0;34m\u001b[0m\u001b[0m\n\u001b[0;32m-> 3458\u001b[0;31m             \u001b[0mindexer\u001b[0m \u001b[0;34m=\u001b[0m \u001b[0mself\u001b[0m\u001b[0;34m.\u001b[0m\u001b[0mcolumns\u001b[0m\u001b[0;34m.\u001b[0m\u001b[0mget_loc\u001b[0m\u001b[0;34m(\u001b[0m\u001b[0mkey\u001b[0m\u001b[0;34m)\u001b[0m\u001b[0;34m\u001b[0m\u001b[0;34m\u001b[0m\u001b[0m\n\u001b[0m\u001b[1;32m   3459\u001b[0m             \u001b[0;32mif\u001b[0m \u001b[0mis_integer\u001b[0m\u001b[0;34m(\u001b[0m\u001b[0mindexer\u001b[0m\u001b[0;34m)\u001b[0m\u001b[0;34m:\u001b[0m\u001b[0;34m\u001b[0m\u001b[0;34m\u001b[0m\u001b[0m\n\u001b[1;32m   3460\u001b[0m                 \u001b[0mindexer\u001b[0m \u001b[0;34m=\u001b[0m \u001b[0;34m[\u001b[0m\u001b[0mindexer\u001b[0m\u001b[0;34m]\u001b[0m\u001b[0;34m\u001b[0m\u001b[0;34m\u001b[0m\u001b[0m\n",
      "\u001b[0;32m/data/wiay/johnny/phd1/phd1/lib/python3.7/site-packages/pandas/core/indexes/base.py\u001b[0m in \u001b[0;36mget_loc\u001b[0;34m(self, key, method, tolerance)\u001b[0m\n\u001b[1;32m   3361\u001b[0m                 \u001b[0;32mreturn\u001b[0m \u001b[0mself\u001b[0m\u001b[0;34m.\u001b[0m\u001b[0m_engine\u001b[0m\u001b[0;34m.\u001b[0m\u001b[0mget_loc\u001b[0m\u001b[0;34m(\u001b[0m\u001b[0mcasted_key\u001b[0m\u001b[0;34m)\u001b[0m\u001b[0;34m\u001b[0m\u001b[0;34m\u001b[0m\u001b[0m\n\u001b[1;32m   3362\u001b[0m             \u001b[0;32mexcept\u001b[0m \u001b[0mKeyError\u001b[0m \u001b[0;32mas\u001b[0m \u001b[0merr\u001b[0m\u001b[0;34m:\u001b[0m\u001b[0;34m\u001b[0m\u001b[0;34m\u001b[0m\u001b[0m\n\u001b[0;32m-> 3363\u001b[0;31m                 \u001b[0;32mraise\u001b[0m \u001b[0mKeyError\u001b[0m\u001b[0;34m(\u001b[0m\u001b[0mkey\u001b[0m\u001b[0;34m)\u001b[0m \u001b[0;32mfrom\u001b[0m \u001b[0merr\u001b[0m\u001b[0;34m\u001b[0m\u001b[0;34m\u001b[0m\u001b[0m\n\u001b[0m\u001b[1;32m   3364\u001b[0m \u001b[0;34m\u001b[0m\u001b[0m\n\u001b[1;32m   3365\u001b[0m         \u001b[0;32mif\u001b[0m \u001b[0mis_scalar\u001b[0m\u001b[0;34m(\u001b[0m\u001b[0mkey\u001b[0m\u001b[0;34m)\u001b[0m \u001b[0;32mand\u001b[0m \u001b[0misna\u001b[0m\u001b[0;34m(\u001b[0m\u001b[0mkey\u001b[0m\u001b[0;34m)\u001b[0m \u001b[0;32mand\u001b[0m \u001b[0;32mnot\u001b[0m \u001b[0mself\u001b[0m\u001b[0;34m.\u001b[0m\u001b[0mhasnans\u001b[0m\u001b[0;34m:\u001b[0m\u001b[0;34m\u001b[0m\u001b[0;34m\u001b[0m\u001b[0m\n",
      "\u001b[0;31mKeyError\u001b[0m: 0"
     ]
    }
   ],
   "source": [
    "fast_likelihood = gwpop.hyperpe.HyperparameterLikelihood(posteriors = PP_result.posterior, hyper_prior=fast_priors)"
   ]
  },
  {
   "cell_type": "code",
   "execution_count": null,
   "id": "55e4bd08-8a1a-4ae4-aba2-92db2bc4e5db",
   "metadata": {},
   "outputs": [
    {
     "name": "stderr",
     "output_type": "stream",
     "text": [
      "14:51 bilby INFO    : Running for label 'label', output will be saved to 'outdir'\n"
     ]
    },
    {
     "ename": "TypeError",
     "evalue": "'property' object is not iterable",
     "output_type": "error",
     "traceback": [
      "\u001b[0;31m---------------------------------------------------------------------------\u001b[0m",
      "\u001b[0;31mTypeError\u001b[0m                                 Traceback (most recent call last)",
      "\u001b[0;32m/tmp/ipykernel_903130/303452878.py\u001b[0m in \u001b[0;36m<module>\u001b[0;34m\u001b[0m\n\u001b[0;32m----> 1\u001b[0;31m \u001b[0mbb\u001b[0m\u001b[0;34m.\u001b[0m\u001b[0mrun_sampler\u001b[0m\u001b[0;34m(\u001b[0m\u001b[0mbb\u001b[0m\u001b[0;34m.\u001b[0m\u001b[0mcore\u001b[0m\u001b[0;34m.\u001b[0m\u001b[0mlikelihood\u001b[0m\u001b[0;34m.\u001b[0m\u001b[0mGaussianLikelihood\u001b[0m\u001b[0;34m,\u001b[0m \u001b[0mPP_result\u001b[0m\u001b[0;34m.\u001b[0m\u001b[0mpriors\u001b[0m\u001b[0;34m,\u001b[0m \u001b[0msampler\u001b[0m\u001b[0;34m=\u001b[0m\u001b[0;34m'dynesty'\u001b[0m\u001b[0;34m,\u001b[0m \u001b[0mnlive\u001b[0m\u001b[0;34m=\u001b[0m\u001b[0;36m250\u001b[0m\u001b[0;34m)\u001b[0m\u001b[0;34m\u001b[0m\u001b[0;34m\u001b[0m\u001b[0m\n\u001b[0m",
      "\u001b[0;32m/data/wiay/johnny/phd1/phd1/lib/python3.7/site-packages/bilby/core/sampler/__init__.py\u001b[0m in \u001b[0;36mrun_sampler\u001b[0;34m(likelihood, priors, label, outdir, sampler, use_ratio, injection_parameters, conversion_function, plot, default_priors_file, clean, meta_data, save, gzip, result_class, npool, **kwargs)\u001b[0m\n\u001b[1;32m    160\u001b[0m         \u001b[0mpriors\u001b[0m \u001b[0;34m=\u001b[0m \u001b[0mdict\u001b[0m\u001b[0;34m(\u001b[0m\u001b[0;34m)\u001b[0m\u001b[0;34m\u001b[0m\u001b[0;34m\u001b[0m\u001b[0m\n\u001b[1;32m    161\u001b[0m \u001b[0;34m\u001b[0m\u001b[0m\n\u001b[0;32m--> 162\u001b[0;31m     \u001b[0m_check_marginalized_parameters_not_sampled\u001b[0m\u001b[0;34m(\u001b[0m\u001b[0mlikelihood\u001b[0m\u001b[0;34m,\u001b[0m \u001b[0mpriors\u001b[0m\u001b[0;34m)\u001b[0m\u001b[0;34m\u001b[0m\u001b[0;34m\u001b[0m\u001b[0m\n\u001b[0m\u001b[1;32m    163\u001b[0m \u001b[0;34m\u001b[0m\u001b[0m\n\u001b[1;32m    164\u001b[0m     \u001b[0;32mif\u001b[0m \u001b[0mtype\u001b[0m\u001b[0;34m(\u001b[0m\u001b[0mpriors\u001b[0m\u001b[0;34m)\u001b[0m \u001b[0;32min\u001b[0m \u001b[0;34m[\u001b[0m\u001b[0mdict\u001b[0m\u001b[0;34m,\u001b[0m \u001b[0mOrderedDict\u001b[0m\u001b[0;34m]\u001b[0m\u001b[0;34m:\u001b[0m\u001b[0;34m\u001b[0m\u001b[0;34m\u001b[0m\u001b[0m\n",
      "\u001b[0;32m/data/wiay/johnny/phd1/phd1/lib/python3.7/site-packages/bilby/core/sampler/__init__.py\u001b[0m in \u001b[0;36m_check_marginalized_parameters_not_sampled\u001b[0;34m(likelihood, priors)\u001b[0m\n\u001b[1;32m    284\u001b[0m \u001b[0;34m\u001b[0m\u001b[0m\n\u001b[1;32m    285\u001b[0m \u001b[0;32mdef\u001b[0m \u001b[0m_check_marginalized_parameters_not_sampled\u001b[0m\u001b[0;34m(\u001b[0m\u001b[0mlikelihood\u001b[0m\u001b[0;34m,\u001b[0m \u001b[0mpriors\u001b[0m\u001b[0;34m)\u001b[0m\u001b[0;34m:\u001b[0m\u001b[0;34m\u001b[0m\u001b[0;34m\u001b[0m\u001b[0m\n\u001b[0;32m--> 286\u001b[0;31m     \u001b[0;32mfor\u001b[0m \u001b[0mkey\u001b[0m \u001b[0;32min\u001b[0m \u001b[0mlikelihood\u001b[0m\u001b[0;34m.\u001b[0m\u001b[0mmarginalized_parameters\u001b[0m\u001b[0;34m:\u001b[0m\u001b[0;34m\u001b[0m\u001b[0;34m\u001b[0m\u001b[0m\n\u001b[0m\u001b[1;32m    287\u001b[0m         \u001b[0;32mif\u001b[0m \u001b[0mkey\u001b[0m \u001b[0;32min\u001b[0m \u001b[0mpriors\u001b[0m\u001b[0;34m:\u001b[0m\u001b[0;34m\u001b[0m\u001b[0;34m\u001b[0m\u001b[0m\n\u001b[1;32m    288\u001b[0m             \u001b[0;32mif\u001b[0m \u001b[0;32mnot\u001b[0m \u001b[0misinstance\u001b[0m\u001b[0;34m(\u001b[0m\u001b[0mpriors\u001b[0m\u001b[0;34m[\u001b[0m\u001b[0mkey\u001b[0m\u001b[0;34m]\u001b[0m\u001b[0;34m,\u001b[0m \u001b[0;34m(\u001b[0m\u001b[0mfloat\u001b[0m\u001b[0;34m,\u001b[0m \u001b[0mDeltaFunction\u001b[0m\u001b[0;34m)\u001b[0m\u001b[0;34m)\u001b[0m\u001b[0;34m:\u001b[0m\u001b[0;34m\u001b[0m\u001b[0;34m\u001b[0m\u001b[0m\n",
      "\u001b[0;31mTypeError\u001b[0m: 'property' object is not iterable"
     ]
    }
   ],
   "source": [
    "bb.run_sampler(bb.core.likelihood.GaussianLikelihood, PP_result.priors, sampler='dynesty', nlive=250)"
   ]
  },
  {
   "cell_type": "code",
   "execution_count": null,
   "id": "f64c95c5-8a52-401c-b61a-2c37fa731556",
   "metadata": {},
   "outputs": [],
   "source": []
  }
 ],
 "metadata": {
  "kernelspec": {
   "display_name": "phd1",
   "language": "python",
   "name": "phd1"
  },
  "language_info": {
   "codemirror_mode": {
    "name": "ipython",
    "version": 3
   },
   "file_extension": ".py",
   "mimetype": "text/x-python",
   "name": "python",
   "nbconvert_exporter": "python",
   "pygments_lexer": "ipython3",
   "version": "3.7.3"
  }
 },
 "nbformat": 4,
 "nbformat_minor": 5
}
