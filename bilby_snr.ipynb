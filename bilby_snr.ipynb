{
 "cells": [
  {
   "cell_type": "code",
   "execution_count": 22,
   "metadata": {},
   "outputs": [],
   "source": [
    "import bilby\n",
    "from bilby import gw\n",
    "from bilby.gw import detector as det\n",
    "from bilby.gw import utils\n",
    "\n",
    "psd_path = '/data/wiay/johnny/phd1/phd1/lib/python3.7/site-packages/bilby/gw/detector/noise_curves/aLIGO_ZERO_DET_high_P_psd.txt'\n",
    "psd = det.psd.PowerSpectralDensity.from_power_spectral_density_file(psd_path)\n",
    "\n",
    "snr = utils.optimal_snr_squared(signal=, power_spectral_density=psd, )"
   ]
  },
  {
   "cell_type": "markdown",
   "metadata": {},
   "source": [
    "An example generating an SNR, although this isn't using bilby or pycbc, just doing ffts:\n",
    "\n",
    "https://gilsay.physics.gla.ac.uk/gitlab/wei.changfeng/bilby_one_waveform_test/blob/master/snr_calculate.ipynb\n"
   ]
  },
  {
   "cell_type": "code",
   "execution_count": 24,
   "metadata": {},
   "outputs": [],
   "source": []
  },
  {
   "cell_type": "code",
   "execution_count": null,
   "metadata": {},
   "outputs": [],
   "source": []
  }
 ],
 "metadata": {
  "interpreter": {
   "hash": "05af7feea5480bf24e6d403440487bddf600da1c41836b21e06a13439b27007a"
  },
  "kernelspec": {
   "display_name": "Python 3.7.3 ('phd1': venv)",
   "language": "python",
   "name": "python3"
  },
  "language_info": {
   "codemirror_mode": {
    "name": "ipython",
    "version": 3
   },
   "file_extension": ".py",
   "mimetype": "text/x-python",
   "name": "python",
   "nbconvert_exporter": "python",
   "pygments_lexer": "ipython3",
   "version": "3.7.3"
  },
  "orig_nbformat": 4
 },
 "nbformat": 4,
 "nbformat_minor": 2
}
