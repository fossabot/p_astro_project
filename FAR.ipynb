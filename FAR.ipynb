{
 "cells": [
  {
   "cell_type": "markdown",
   "metadata": {},
   "source": [
    "---\n",
    "Following the Lynch et al paper https://iopscience.iop.org/article/10.3847/2041-8213/aacf9f\n",
    "\n",
    "\"We find that the gravitational-wave alert threshold change that would roughly double the number of detectable astrophysical events would increase the false-alarm rate by more than 5 orders of magnitude from 1 per 100 years to more than 1000 per year.\"\n",
    "\n",
    "\"We argue that EM follow-up thresholds for low-significance candidates should be set on the basis of alert purity (Pastro) and not false-alarm rate.\"\n",
    "\n",
    "$FAR = FAR_8 \\times [-\\frac{\\rho - 8}{\\alpha}]$\n",
    "\n",
    "* $FAR_8$ is the false alarm rate at a network ranking statistic $\\rho = 8$\n",
    "* $\\alpha$ is a scale parameter that determines the steepness of the fall off\n",
    "\n",
    "---\n",
    "From Nitz et al. 2017 https://doi.org/10.3847/1538-4357/aa8f50\n",
    "\n",
    "The SNR and signal consistency tests (Allen paper) result in the detection statistic.\n",
    "\n",
    "\"We present a new detection statistic that reduces the false alarm rate of the search across the entire target signal space: binary neutron stars, binary black holes, and neutron star–black hole binaries. This detection statistic uses information from both the physical parameters of the gravitational-wave signal and the expected distribution of the noise background to rescale the “combined effective signal-to-noise ratio” used previously by the PyCBC search.\"\n",
    "\n",
    "\"The detection statistic used in Advanced LIGO’s first observing run was the quadrature sum of the re-weighted signal-to-noise ratio $\\hat{\\rho}$ observed in each detector, denoted $\\hat{\\rho_c}$\"\n",
    "\n",
    "$\\hat{\\rho} = \\frac{\\rho}{[1+(\\chi^2)^3]^{1/6}}$\n",
    "\n",
    "\"The non-stationarity of the detectors’ noise means that it is impossible to construct an analytic model of the search’s false alarm rate.\"\n",
    "\n",
    "They look like they use PyCBC data to estimate the FAR for the run.\n",
    "\n",
    "---\n",
    "\n",
    "### Questions\n",
    "* How do I determine my own $\\alpha$ ?\n",
    "* How does $\\rho$ relate to the optimal SNR?\n",
    "* How do you detemrine $FAR_8$?\n",
    "\n",
    "### To do:\n",
    "* look for examples of FAR estimation for observing runs\n",
    "    * probably linked in LIGO papers"
   ]
  },
  {
   "cell_type": "markdown",
   "metadata": {},
   "source": []
  }
 ],
 "metadata": {
  "language_info": {
   "name": "python"
  },
  "orig_nbformat": 4
 },
 "nbformat": 4,
 "nbformat_minor": 2
}
