{
 "cells": [
  {
   "cell_type": "markdown",
   "metadata": {},
   "source": [
    "---\n",
    "Following the Lynch et al paper https://iopscience.iop.org/article/10.3847/2041-8213/aacf9f\n",
    "\n",
    "\"We find that the gravitational-wave alert threshold change that would roughly double the number of detectable astrophysical events would increase the false-alarm rate by more than 5 orders of magnitude from 1 per 100 years to more than 1000 per year.\"\n",
    "\n",
    "\"We argue that EM follow-up thresholds for low-significance candidates should be set on the basis of alert purity (Pastro) and not false-alarm rate.\"\n",
    "\n",
    "$FAR = FAR_8 \\times [-\\frac{\\rho - 8}{\\alpha}]$\n",
    "\n",
    "* $FAR_8$ is the false alarm rate at a network ranking statistic $\\rho = 8$\n",
    "* $\\alpha$ is a scale parameter that determines the steepness of the fall off\n",
    "\n",
    "\"For BBH we find α = 0.18 and FAR8 = 5500 yr−1\"\n",
    "\n",
    "---\n",
    "From Nitz et al. 2017 https://doi.org/10.3847/1538-4357/aa8f50\n",
    "\n",
    "The SNR and signal consistency tests (Allen paper) result in the detection statistic.\n",
    "\n",
    "\"We present a new detection statistic that reduces the false alarm rate of the search across the entire target signal space: binary neutron stars, binary black holes, and neutron star–black hole binaries. This detection statistic uses information from both the physical parameters of the gravitational-wave signal and the expected distribution of the noise background to rescale the “combined effective signal-to-noise ratio” used previously by the PyCBC search.\"\n",
    "\n",
    "\"The detection statistic used in Advanced LIGO’s first observing run was the quadrature sum of the re-weighted signal-to-noise ratio $\\hat{\\rho}$ observed in each detector, denoted $\\hat{\\rho_c}$\"\n",
    "\n",
    "$\\hat{\\rho} = \\frac{\\rho}{[1+(\\chi^2)^3]^{1/6}}$\n",
    "\n",
    "The $\\chi^2$ here is to test the `signal' against the waveform. This test is less effective in the high mass end of CBCs since these signals are shorter and can more easily resemble a noice event.\n",
    "* does that mean the relation between SNR and FAR has some spread that tracks the mass of the system?\n",
    "\n",
    "\"The non-stationarity of the detectors’ noise means that it is impossible to construct an analytic model of the search’s false alarm rate.\"\n",
    "\n",
    "They look like they use PyCBC data to estimate the FAR for the run.\n",
    "\n",
    "---\n",
    "\n",
    "### Questions to look into\n",
    "* How do I determine my own $\\alpha$ ?\n",
    "    * just fit the suggest model to the FAR/SNR\n",
    "    * maybe a new model\n",
    "* How does $\\rho$ relate to the optimal SNR?\n",
    "* How do you determine $FAR_8$?\n",
    "    * same as above for $\\alpha$\n",
    "\n",
    "### To do:\n",
    "* look for examples of FAR estimation for observing runs\n",
    "    * probably linked in LIGO papers\n",
    "\n",
    "The optimal matched filter signal-to-noise ratio squared:\n",
    "\n",
    "$\\rho^{2}_{opt} = <\\mu , \\mu>$\n",
    "\n",
    "The SNR that bilby outputs is the matched filter SNR.\n",
    "The comparisons done in the Lynch and Nitz papers use the ranking statictic $\\hat{\\rho}$.\n",
    "* What is the SNR provided in the data release?\n",
    "    * in the xml files they provide a $\\chi^2$ value and an SNR for each event in the sngl_inspiral table so I can calculate the $\\hat{\\rho}$ if that is desired\n",
    "\n",
    "\"The snr column MUST report the absolute value of the complex matched filter SNR of the best-matching template. It MUST NOT report a modified SNR-like quantity such as newSNR.\" from https://lscsoft.docs.ligo.org/ligo.skymap/interface.html \n",
    "* so these are the complex-matched filter snrs\n",
    "* therefore I am being consistent, the snrs from bilby are the same as those from the data release. I can therefore produce some kind of approximate relationship to take SNR to FAR, fitted to the data release info and apply this to my sampled SNRs."
   ]
  },
  {
   "cell_type": "code",
   "execution_count": 2,
   "metadata": {},
   "outputs": [],
   "source": [
    "import pandas as pd\n",
    "import numpy as np\n",
    "samples = pd.read_csv('params_inc_SNR.csv', index_col=0)\n",
    "samples['net_snr'] = np.sqrt(samples['H1_snr']**2 + samples['L1_snr']**2 +samples['V1_snr']**2)"
   ]
  },
  {
   "cell_type": "code",
   "execution_count": 3,
   "metadata": {},
   "outputs": [],
   "source": [
    "# ranking statistic function\n",
    "def rho(SNR, chi):\n",
    "    rho_hat = SNR/(1+(chi**2)**3)**(1/6)\n",
    "    return rho_hat"
   ]
  },
  {
   "cell_type": "code",
   "execution_count": 4,
   "metadata": {},
   "outputs": [
    {
     "data": {
      "text/html": [
       "<div>\n",
       "<style scoped>\n",
       "    .dataframe tbody tr th:only-of-type {\n",
       "        vertical-align: middle;\n",
       "    }\n",
       "\n",
       "    .dataframe tbody tr th {\n",
       "        vertical-align: top;\n",
       "    }\n",
       "\n",
       "    .dataframe thead th {\n",
       "        text-align: right;\n",
       "    }\n",
       "</style>\n",
       "<table border=\"1\" class=\"dataframe\">\n",
       "  <thead>\n",
       "    <tr style=\"text-align: right;\">\n",
       "      <th></th>\n",
       "      <th>net_snr</th>\n",
       "      <th>H1_snr</th>\n",
       "      <th>L1_snr</th>\n",
       "      <th>V1_snr</th>\n",
       "    </tr>\n",
       "  </thead>\n",
       "  <tbody>\n",
       "    <tr>\n",
       "      <th>0</th>\n",
       "      <td>4.715177</td>\n",
       "      <td>2.647601</td>\n",
       "      <td>3.696115</td>\n",
       "      <td>1.249735</td>\n",
       "    </tr>\n",
       "    <tr>\n",
       "      <th>1</th>\n",
       "      <td>0.762437</td>\n",
       "      <td>0.497399</td>\n",
       "      <td>0.437930</td>\n",
       "      <td>0.376991</td>\n",
       "    </tr>\n",
       "    <tr>\n",
       "      <th>2</th>\n",
       "      <td>1.630003</td>\n",
       "      <td>1.109248</td>\n",
       "      <td>0.902239</td>\n",
       "      <td>0.782588</td>\n",
       "    </tr>\n",
       "    <tr>\n",
       "      <th>3</th>\n",
       "      <td>0.953321</td>\n",
       "      <td>0.658860</td>\n",
       "      <td>0.642250</td>\n",
       "      <td>0.249479</td>\n",
       "    </tr>\n",
       "    <tr>\n",
       "      <th>4</th>\n",
       "      <td>1.492217</td>\n",
       "      <td>1.001577</td>\n",
       "      <td>0.942943</td>\n",
       "      <td>0.578285</td>\n",
       "    </tr>\n",
       "    <tr>\n",
       "      <th>...</th>\n",
       "      <td>...</td>\n",
       "      <td>...</td>\n",
       "      <td>...</td>\n",
       "      <td>...</td>\n",
       "    </tr>\n",
       "    <tr>\n",
       "      <th>994</th>\n",
       "      <td>2.149868</td>\n",
       "      <td>0.914275</td>\n",
       "      <td>1.272485</td>\n",
       "      <td>1.472011</td>\n",
       "    </tr>\n",
       "    <tr>\n",
       "      <th>995</th>\n",
       "      <td>1.126950</td>\n",
       "      <td>0.661138</td>\n",
       "      <td>0.693493</td>\n",
       "      <td>0.593278</td>\n",
       "    </tr>\n",
       "    <tr>\n",
       "      <th>996</th>\n",
       "      <td>2.122559</td>\n",
       "      <td>1.574888</td>\n",
       "      <td>1.418618</td>\n",
       "      <td>0.111846</td>\n",
       "    </tr>\n",
       "    <tr>\n",
       "      <th>997</th>\n",
       "      <td>1.292417</td>\n",
       "      <td>0.788730</td>\n",
       "      <td>0.648067</td>\n",
       "      <td>0.792626</td>\n",
       "    </tr>\n",
       "    <tr>\n",
       "      <th>998</th>\n",
       "      <td>2.145050</td>\n",
       "      <td>0.559532</td>\n",
       "      <td>0.232423</td>\n",
       "      <td>2.057704</td>\n",
       "    </tr>\n",
       "  </tbody>\n",
       "</table>\n",
       "<p>999 rows × 4 columns</p>\n",
       "</div>"
      ],
      "text/plain": [
       "      net_snr    H1_snr    L1_snr    V1_snr\n",
       "0    4.715177  2.647601  3.696115  1.249735\n",
       "1    0.762437  0.497399  0.437930  0.376991\n",
       "2    1.630003  1.109248  0.902239  0.782588\n",
       "3    0.953321  0.658860  0.642250  0.249479\n",
       "4    1.492217  1.001577  0.942943  0.578285\n",
       "..        ...       ...       ...       ...\n",
       "994  2.149868  0.914275  1.272485  1.472011\n",
       "995  1.126950  0.661138  0.693493  0.593278\n",
       "996  2.122559  1.574888  1.418618  0.111846\n",
       "997  1.292417  0.788730  0.648067  0.792626\n",
       "998  2.145050  0.559532  0.232423  2.057704\n",
       "\n",
       "[999 rows x 4 columns]"
      ]
     },
     "execution_count": 4,
     "metadata": {},
     "output_type": "execute_result"
    }
   ],
   "source": [
    "samples[['net_snr','H1_snr', 'L1_snr', 'V1_snr' ]]"
   ]
  },
  {
   "cell_type": "code",
   "execution_count": 5,
   "metadata": {},
   "outputs": [],
   "source": [
    "# write the FAR conversion as a function\n",
    "def SNR_to_FAR(snr, FAR8=5500, alpha=0.18):\n",
    "    \"\"\"Calculate the FAR using the parameterisations from the Lynch paper\"\"\"\n",
    "    FAR = FAR8*np.exp(-(snr-8)/alpha)\n",
    "    return FAR"
   ]
  },
  {
   "cell_type": "code",
   "execution_count": 6,
   "metadata": {},
   "outputs": [],
   "source": [
    "# use this parameterisation to estimate some FARs\n",
    "samples['FAR'] = SNR_to_FAR(samples['net_snr'])"
   ]
  },
  {
   "cell_type": "code",
   "execution_count": 7,
   "metadata": {},
   "outputs": [
    {
     "data": {
      "text/plain": [
       "0.08219936188629798"
      ]
     },
     "execution_count": 7,
     "metadata": {},
     "output_type": "execute_result"
    }
   ],
   "source": [
    "SNR_to_FAR(10)"
   ]
  },
  {
   "cell_type": "code",
   "execution_count": 8,
   "metadata": {},
   "outputs": [
    {
     "data": {
      "image/png": "[encoded data removed]",
      "text/plain": [
       "<Figure size 432x288 with 1 Axes>"
      ]
     },
     "metadata": {
      "needs_background": "light"
     },
     "output_type": "display_data"
    }
   ],
   "source": [
    "import matplotlib.pyplot as plt\n",
    "plt.semilogy(samples['net_snr'], samples['FAR'], '.', markersize=3)\n",
    "plt.ylabel('FAR, yr$^-1$')\n",
    "plt.xlabel('Network Combined optimal SNR')\n",
    "plt.grid()"
   ]
  },
  {
   "cell_type": "markdown",
   "metadata": {},
   "source": [
    "Up to here I've been using the combined SNR as my ranking statistic, this doesn't seem to quite be what is being used in the Nitz paper.\n",
    "\n",
    "Nitz uses the quadrature sum of the **reweighted SNR, $\\hat{\\rho}$**:\n",
    "\n",
    "$\\hat{\\rho} = \\frac{\\rho}{[1+(\\chi^2)^3]^{1/6}}$\n",
    "\n",
    "So I need to look at the chi_2 statistic:\n",
    "\n",
    "* check PyCBC documentation\n",
    "* check bilby documentation\n"
   ]
  },
  {
   "cell_type": "markdown",
   "metadata": {},
   "source": [
    "### Look at the data release SNRs and FARs"
   ]
  },
  {
   "cell_type": "code",
   "execution_count": 9,
   "metadata": {},
   "outputs": [
    {
     "data": {
      "text/html": [
       "<div>\n",
       "<style scoped>\n",
       "    .dataframe tbody tr th:only-of-type {\n",
       "        vertical-align: middle;\n",
       "    }\n",
       "\n",
       "    .dataframe tbody tr th {\n",
       "        vertical-align: top;\n",
       "    }\n",
       "\n",
       "    .dataframe thead th {\n",
       "        text-align: right;\n",
       "    }\n",
       "</style>\n",
       "<table border=\"1\" class=\"dataframe\">\n",
       "  <thead>\n",
       "    <tr style=\"text-align: right;\">\n",
       "      <th></th>\n",
       "      <th>commonName</th>\n",
       "      <th>version</th>\n",
       "      <th>catalog.shortName</th>\n",
       "      <th>GPS</th>\n",
       "      <th>reference</th>\n",
       "      <th>jsonurl</th>\n",
       "      <th>mass_1_source</th>\n",
       "      <th>mass_1_source_lower</th>\n",
       "      <th>mass_1_source_upper</th>\n",
       "      <th>mass_2_source</th>\n",
       "      <th>...</th>\n",
       "      <th>redshift_upper</th>\n",
       "      <th>far</th>\n",
       "      <th>far_lower</th>\n",
       "      <th>far_upper</th>\n",
       "      <th>p_astro</th>\n",
       "      <th>p_astro_lower</th>\n",
       "      <th>p_astro_upper</th>\n",
       "      <th>final_mass_source</th>\n",
       "      <th>final_mass_source_lower</th>\n",
       "      <th>final_mass_source_upper</th>\n",
       "    </tr>\n",
       "    <tr>\n",
       "      <th>id</th>\n",
       "      <th></th>\n",
       "      <th></th>\n",
       "      <th></th>\n",
       "      <th></th>\n",
       "      <th></th>\n",
       "      <th></th>\n",
       "      <th></th>\n",
       "      <th></th>\n",
       "      <th></th>\n",
       "      <th></th>\n",
       "      <th></th>\n",
       "      <th></th>\n",
       "      <th></th>\n",
       "      <th></th>\n",
       "      <th></th>\n",
       "      <th></th>\n",
       "      <th></th>\n",
       "      <th></th>\n",
       "      <th></th>\n",
       "      <th></th>\n",
       "      <th></th>\n",
       "    </tr>\n",
       "  </thead>\n",
       "  <tbody>\n",
       "    <tr>\n",
       "      <th>GW200306_093714-v1</th>\n",
       "      <td>GW200306_093714</td>\n",
       "      <td>1</td>\n",
       "      <td>GWTC-3-confident</td>\n",
       "      <td>1.267523e+09</td>\n",
       "      <td>/GWTC-3/</td>\n",
       "      <td>https://www.gw-openscience.org/eventapi/json/G...</td>\n",
       "      <td>28.3</td>\n",
       "      <td>-7.7</td>\n",
       "      <td>17.1</td>\n",
       "      <td>14.8</td>\n",
       "      <td>...</td>\n",
       "      <td>0.24</td>\n",
       "      <td>24.00000</td>\n",
       "      <td>NaN</td>\n",
       "      <td>NaN</td>\n",
       "      <td>0.240040</td>\n",
       "      <td>NaN</td>\n",
       "      <td>NaN</td>\n",
       "      <td>41.7</td>\n",
       "      <td>-6.9</td>\n",
       "      <td>12.3</td>\n",
       "    </tr>\n",
       "    <tr>\n",
       "      <th>GW200308_173609-v1</th>\n",
       "      <td>GW200308_173609</td>\n",
       "      <td>1</td>\n",
       "      <td>GWTC-3-confident</td>\n",
       "      <td>1.267724e+09</td>\n",
       "      <td>/GWTC-3/</td>\n",
       "      <td>https://www.gw-openscience.org/eventapi/json/G...</td>\n",
       "      <td>36.4</td>\n",
       "      <td>-9.6</td>\n",
       "      <td>11.2</td>\n",
       "      <td>13.8</td>\n",
       "      <td>...</td>\n",
       "      <td>0.32</td>\n",
       "      <td>2.40000</td>\n",
       "      <td>NaN</td>\n",
       "      <td>NaN</td>\n",
       "      <td>0.856600</td>\n",
       "      <td>NaN</td>\n",
       "      <td>NaN</td>\n",
       "      <td>47.4</td>\n",
       "      <td>-7.7</td>\n",
       "      <td>11.1</td>\n",
       "    </tr>\n",
       "    <tr>\n",
       "      <th>GW200311_115853-v1</th>\n",
       "      <td>GW200311_115853</td>\n",
       "      <td>1</td>\n",
       "      <td>GWTC-3-confident</td>\n",
       "      <td>1.267963e+09</td>\n",
       "      <td>/GWTC-3/</td>\n",
       "      <td>https://www.gw-openscience.org/eventapi/json/G...</td>\n",
       "      <td>34.2</td>\n",
       "      <td>-3.8</td>\n",
       "      <td>6.4</td>\n",
       "      <td>27.7</td>\n",
       "      <td>...</td>\n",
       "      <td>0.05</td>\n",
       "      <td>0.00001</td>\n",
       "      <td>NaN</td>\n",
       "      <td>NaN</td>\n",
       "      <td>0.990000</td>\n",
       "      <td>NaN</td>\n",
       "      <td>NaN</td>\n",
       "      <td>59.0</td>\n",
       "      <td>-3.9</td>\n",
       "      <td>4.8</td>\n",
       "    </tr>\n",
       "    <tr>\n",
       "      <th>GW200316_215756-v1</th>\n",
       "      <td>GW200316_215756</td>\n",
       "      <td>1</td>\n",
       "      <td>GWTC-3-confident</td>\n",
       "      <td>1.268431e+09</td>\n",
       "      <td>/GWTC-3/</td>\n",
       "      <td>https://www.gw-openscience.org/eventapi/json/G...</td>\n",
       "      <td>13.1</td>\n",
       "      <td>-2.9</td>\n",
       "      <td>10.2</td>\n",
       "      <td>7.8</td>\n",
       "      <td>...</td>\n",
       "      <td>0.08</td>\n",
       "      <td>0.00001</td>\n",
       "      <td>NaN</td>\n",
       "      <td>NaN</td>\n",
       "      <td>0.990000</td>\n",
       "      <td>NaN</td>\n",
       "      <td>NaN</td>\n",
       "      <td>20.2</td>\n",
       "      <td>-1.9</td>\n",
       "      <td>7.4</td>\n",
       "    </tr>\n",
       "    <tr>\n",
       "      <th>GW200322_091133-v1</th>\n",
       "      <td>GW200322_091133</td>\n",
       "      <td>1</td>\n",
       "      <td>GWTC-3-confident</td>\n",
       "      <td>1.268904e+09</td>\n",
       "      <td>/GWTC-3/</td>\n",
       "      <td>https://www.gw-openscience.org/eventapi/json/G...</td>\n",
       "      <td>34.0</td>\n",
       "      <td>-18.0</td>\n",
       "      <td>48.0</td>\n",
       "      <td>14.0</td>\n",
       "      <td>...</td>\n",
       "      <td>0.84</td>\n",
       "      <td>140.00000</td>\n",
       "      <td>NaN</td>\n",
       "      <td>NaN</td>\n",
       "      <td>0.077572</td>\n",
       "      <td>NaN</td>\n",
       "      <td>NaN</td>\n",
       "      <td>53.0</td>\n",
       "      <td>-26.0</td>\n",
       "      <td>38.0</td>\n",
       "    </tr>\n",
       "  </tbody>\n",
       "</table>\n",
       "<p>5 rows × 42 columns</p>\n",
       "</div>"
      ],
      "text/plain": [
       "                         commonName  version catalog.shortName           GPS  \\\n",
       "id                                                                             \n",
       "GW200306_093714-v1  GW200306_093714        1  GWTC-3-confident  1.267523e+09   \n",
       "GW200308_173609-v1  GW200308_173609        1  GWTC-3-confident  1.267724e+09   \n",
       "GW200311_115853-v1  GW200311_115853        1  GWTC-3-confident  1.267963e+09   \n",
       "GW200316_215756-v1  GW200316_215756        1  GWTC-3-confident  1.268431e+09   \n",
       "GW200322_091133-v1  GW200322_091133        1  GWTC-3-confident  1.268904e+09   \n",
       "\n",
       "                   reference  \\\n",
       "id                             \n",
       "GW200306_093714-v1  /GWTC-3/   \n",
       "GW200308_173609-v1  /GWTC-3/   \n",
       "GW200311_115853-v1  /GWTC-3/   \n",
       "GW200316_215756-v1  /GWTC-3/   \n",
       "GW200322_091133-v1  /GWTC-3/   \n",
       "\n",
       "                                                              jsonurl  \\\n",
       "id                                                                      \n",
       "GW200306_093714-v1  https://www.gw-openscience.org/eventapi/json/G...   \n",
       "GW200308_173609-v1  https://www.gw-openscience.org/eventapi/json/G...   \n",
       "GW200311_115853-v1  https://www.gw-openscience.org/eventapi/json/G...   \n",
       "GW200316_215756-v1  https://www.gw-openscience.org/eventapi/json/G...   \n",
       "GW200322_091133-v1  https://www.gw-openscience.org/eventapi/json/G...   \n",
       "\n",
       "                    mass_1_source  mass_1_source_lower  mass_1_source_upper  \\\n",
       "id                                                                            \n",
       "GW200306_093714-v1           28.3                 -7.7                 17.1   \n",
       "GW200308_173609-v1           36.4                 -9.6                 11.2   \n",
       "GW200311_115853-v1           34.2                 -3.8                  6.4   \n",
       "GW200316_215756-v1           13.1                 -2.9                 10.2   \n",
       "GW200322_091133-v1           34.0                -18.0                 48.0   \n",
       "\n",
       "                    mass_2_source  ...  redshift_upper        far  far_lower  \\\n",
       "id                                 ...                                         \n",
       "GW200306_093714-v1           14.8  ...            0.24   24.00000        NaN   \n",
       "GW200308_173609-v1           13.8  ...            0.32    2.40000        NaN   \n",
       "GW200311_115853-v1           27.7  ...            0.05    0.00001        NaN   \n",
       "GW200316_215756-v1            7.8  ...            0.08    0.00001        NaN   \n",
       "GW200322_091133-v1           14.0  ...            0.84  140.00000        NaN   \n",
       "\n",
       "                    far_upper   p_astro  p_astro_lower  p_astro_upper  \\\n",
       "id                                                                      \n",
       "GW200306_093714-v1        NaN  0.240040            NaN            NaN   \n",
       "GW200308_173609-v1        NaN  0.856600            NaN            NaN   \n",
       "GW200311_115853-v1        NaN  0.990000            NaN            NaN   \n",
       "GW200316_215756-v1        NaN  0.990000            NaN            NaN   \n",
       "GW200322_091133-v1        NaN  0.077572            NaN            NaN   \n",
       "\n",
       "                    final_mass_source  final_mass_source_lower  \\\n",
       "id                                                               \n",
       "GW200306_093714-v1               41.7                     -6.9   \n",
       "GW200308_173609-v1               47.4                     -7.7   \n",
       "GW200311_115853-v1               59.0                     -3.9   \n",
       "GW200316_215756-v1               20.2                     -1.9   \n",
       "GW200322_091133-v1               53.0                    -26.0   \n",
       "\n",
       "                    final_mass_source_upper  \n",
       "id                                           \n",
       "GW200306_093714-v1                     12.3  \n",
       "GW200308_173609-v1                     11.1  \n",
       "GW200311_115853-v1                      4.8  \n",
       "GW200316_215756-v1                      7.4  \n",
       "GW200322_091133-v1                     38.0  \n",
       "\n",
       "[5 rows x 42 columns]"
      ]
     },
     "execution_count": 9,
     "metadata": {},
     "output_type": "execute_result"
    }
   ],
   "source": [
    "#!wget -O ../data_release.csv https://www.gw-openscience.org/eventapi/csv/GWTC/ -P ..\n",
    "\n",
    "data_release = pd.read_csv('../data_release.csv', index_col=0)\n",
    "data_release.tail()"
   ]
  },
  {
   "cell_type": "code",
   "execution_count": 10,
   "metadata": {},
   "outputs": [
    {
     "data": {
      "text/plain": [
       "<matplotlib.legend.Legend at 0x7fde6d302400>"
      ]
     },
     "execution_count": 10,
     "metadata": {},
     "output_type": "execute_result"
    },
    {
     "data": {
      "image/png": "[encoded data removed]",
      "text/plain": [
       "<Figure size 648x432 with 2 Axes>"
      ]
     },
     "metadata": {
      "needs_background": "light"
     },
     "output_type": "display_data"
    }
   ],
   "source": [
    "fig, ax = plt.subplots(figsize = (9, 6))\n",
    "sc = ax.scatter(x=data_release['network_matched_filter_snr'], y=(data_release['far']), c=data_release['p_astro'], cmap='cool', label='real signals')\n",
    "ax.set_yscale(\"log\")\n",
    "plt.ylabel('FAR, yr$^-1$')\n",
    "plt.xlabel('Network matched filter SNR')\n",
    "plt.semilogy(samples['net_snr'], samples['FAR'], '-', markersize=3, label=r'samples, $\\alpha = 0.18$')\n",
    "plt.grid()\n",
    "plt.xlim((6,13))\n",
    "plt.ylim((1e-4,1e7))\n",
    "fig.colorbar(sc, label='$p_{astro}$')\n",
    "plt.legend()"
   ]
  },
  {
   "cell_type": "code",
   "execution_count": 11,
   "metadata": {},
   "outputs": [
    {
     "data": {
      "text/plain": [
       "Text(0.5, 1.0, 'Cumulative Histogram of SNRs')"
      ]
     },
     "execution_count": 11,
     "metadata": {},
     "output_type": "execute_result"
    },
    {
     "data": {
      "image/png": "[encoded data removed]",
      "text/plain": [
       "<Figure size 432x288 with 1 Axes>"
      ]
     },
     "metadata": {
      "needs_background": "light"
     },
     "output_type": "display_data"
    }
   ],
   "source": [
    "plt.hist(data_release['network_matched_filter_snr'], density=True, histtype='step', cumulative=True)\n",
    "plt.xlabel('SNR')\n",
    "plt.title('Cumulative Histogram of SNRs')"
   ]
  },
  {
   "cell_type": "code",
   "execution_count": 12,
   "metadata": {},
   "outputs": [
    {
     "data": {
      "text/plain": [
       "<AxesSubplot:ylabel='Density'>"
      ]
     },
     "execution_count": 12,
     "metadata": {},
     "output_type": "execute_result"
    },
    {
     "data": {
      "image/png": "[encoded data removed]",
      "text/plain": [
       "<Figure size 432x288 with 1 Axes>"
      ]
     },
     "metadata": {
      "needs_background": "light"
     },
     "output_type": "display_data"
    }
   ],
   "source": [
    "data_release['network_matched_filter_snr'].plot.kde()"
   ]
  },
  {
   "cell_type": "markdown",
   "metadata": {},
   "source": [
    "### Next steps\n",
    "* download the full catalogs, the events **do not** need to be actual signals, we are just interested in the relationship between FAR and SNR here\n",
    "* confirm the form of the detection statistic $\\rho$\n",
    "    * Maggiore, $\\chi^2$\n",
    "* fit the FAR, $\\rho$ relationship for a better $\\alpha$\n",
    "    * this will involve removing those which have saturated"
   ]
  },
  {
   "cell_type": "code",
   "execution_count": 13,
   "metadata": {},
   "outputs": [
    {
     "data": {
      "text/plain": [
       "329"
      ]
     },
     "execution_count": 13,
     "metadata": {},
     "output_type": "execute_result"
    }
   ],
   "source": [
    "#!wget -O ../gwtc3_candidates https://zenodo.org/record/5546665/files/search_data.tar.gz?download=1 -P ..\n",
    "\n",
    "# !tar -xvzf ../gwtc3_candidates -C ../GWTC3_search_prods\n",
    "\n",
    "pathToData = '/data/wiay/johnny/phd1/GWTC3_search_prods/search_data_products/pycbc_highmass/'\n",
    "full_list = os.listdir(pathToData)\n",
    "# import xml.etree.ElementTree\n",
    "len(full_list)"
   ]
  },
  {
   "cell_type": "code",
   "execution_count": 14,
   "metadata": {},
   "outputs": [
    {
     "name": "stdout",
     "output_type": "stream",
     "text": [
      "skymaps_ligolw\n",
      "skymaps\n",
      "o3a_pastro\n",
      "pastro\n"
     ]
    }
   ],
   "source": [
    "snr=[]\n",
    "far=[]\n",
    "combined_far=[]\n",
    "jul_yr = 31557600\n",
    "\n",
    "for file in full_list:\n",
    "    try:\n",
    "        # read from the xml the last object in the coinc_inspiral:table which is the snr\n",
    "        snr.append(float(pd.read_xml(pathToData+file)['Stream'][6].split(\",\")[-1]))\n",
    "        # we also want the combined_far[1] and the false_alarm_rate[4]\n",
    "        far.append(float(pd.read_xml(pathToData+file)['Stream'][6].split(\",\")[4]))\n",
    "        combined_far.append(float(pd.read_xml(pathToData+file)['Stream'][6].split(\",\")[1])*jul_yr)\n",
    "    except:\n",
    "        print(file)\n"
   ]
  },
  {
   "cell_type": "code",
   "execution_count": 15,
   "metadata": {},
   "outputs": [
    {
     "data": {
      "image/png": "[encoded data removed]",
      "text/plain": [
       "<Figure size 648x432 with 1 Axes>"
      ]
     },
     "metadata": {
      "needs_background": "light"
     },
     "output_type": "display_data"
    }
   ],
   "source": [
    "fig, ax = plt.subplots(figsize = (9, 6))\n",
    "sc = ax.scatter(x=snr, y=combined_far, label='real candidates: combined far')\n",
    "ax.set_yscale(\"log\")\n",
    "plt.ylabel('FAR, yr$^-1$')\n",
    "plt.xlabel('Network matched filter SNR')\n",
    "plt.semilogy(samples['net_snr'], samples['FAR'], '-', markersize=3, label=r'samples, $\\alpha = 0.18$')\n",
    "plt.scatter(snr, far, label='real candidates: far')\n",
    "plt.xlim((5,20))\n",
    "plt.ylim((1e-7,1e6))\n",
    "# fig.colorbar(sc, label='$p_{astro}$')\n",
    "plt.legend()\n",
    "plt.grid()"
   ]
  },
  {
   "cell_type": "code",
   "execution_count": 16,
   "metadata": {},
   "outputs": [
    {
     "data": {
      "text/plain": [
       "332"
      ]
     },
     "execution_count": 16,
     "metadata": {},
     "output_type": "execute_result"
    }
   ],
   "source": [
    "# !wget -O ../search_data_GWTC2p1.tar.gz https://zenodo.org/record/5759108/files/search_data_GWTC2p1.tar.gz?download=1 -P ..\n",
    "\n",
    "# !tar -xvzf ../search_data_GWTC2p1.tar.gz -C ../GWTC2p1_search_prods\n",
    "\n",
    "pathToData = '/data/wiay/johnny/phd1//GWTC2p1_search_prods/search_data_products/pycbc_highmass/'\n",
    "full_list = os.listdir(pathToData)\n",
    "len(full_list)"
   ]
  },
  {
   "cell_type": "code",
   "execution_count": 17,
   "metadata": {},
   "outputs": [
    {
     "name": "stdout",
     "output_type": "stream",
     "text": [
      "skymaps_ligolw\n",
      "skymaps\n",
      "pastro\n"
     ]
    }
   ],
   "source": [
    "snr_21=[]\n",
    "far_21=[]\n",
    "combined_far_21=[]\n",
    "jul_yr = 31557600\n",
    "\n",
    "for file in full_list:\n",
    "    try:\n",
    "        # read from the xml the last object in the coinc_inspiral:table which is the snr\n",
    "        snr_21.append(float(pd.read_xml(pathToData+file)['Stream'][6].split(\",\")[-1]))\n",
    "        # we also want the combined_far[1] and the false_alarm_rate[4]\n",
    "        far_21.append(float(pd.read_xml(pathToData+file)['Stream'][6].split(\",\")[4]))\n",
    "        combined_far_21.append(float(pd.read_xml(pathToData+file)['Stream'][6].split(\",\")[1])*jul_yr)\n",
    "    except:\n",
    "        print(file)"
   ]
  },
  {
   "cell_type": "code",
   "execution_count": 18,
   "metadata": {},
   "outputs": [
    {
     "data": {
      "image/png": "[encoded data removed]",
      "text/plain": [
       "<Figure size 648x432 with 1 Axes>"
      ]
     },
     "metadata": {
      "needs_background": "light"
     },
     "output_type": "display_data"
    }
   ],
   "source": [
    "fig, ax = plt.subplots(figsize = (9, 6))\n",
    "sc = ax.scatter(x=snr_21, y=combined_far_21, label='real candidates: combined far')\n",
    "ax.set_yscale(\"log\")\n",
    "plt.ylabel('FAR, yr$^-1$')\n",
    "plt.xlabel('Network matched filter SNR')\n",
    "plt.semilogy(samples['net_snr'], samples['FAR'], '-', markersize=3, label=r'samples, $\\alpha = 0.18$')\n",
    "plt.scatter(snr_21, far_21, label='real candidates: far')\n",
    "plt.xlim((5,20))\n",
    "plt.ylim((1e-7,1e6))\n",
    "# fig.colorbar(sc, label='$p_{astro}$')\n",
    "plt.legend()\n",
    "plt.grid()"
   ]
  },
  {
   "cell_type": "markdown",
   "metadata": {},
   "source": [
    "Now I need to:\n",
    "* combine the two datasets\n",
    "* remove duplicates as it says the GWTC3 set contain a subset of GWTC2.1\n",
    "* remove those which have saturated"
   ]
  },
  {
   "cell_type": "code",
   "execution_count": 19,
   "metadata": {},
   "outputs": [
    {
     "name": "stdout",
     "output_type": "stream",
     "text": [
      "654\n",
      "654\n",
      "647\n",
      "101\n"
     ]
    }
   ],
   "source": [
    "# combine the lists into a dataframe\n",
    "snr_all = snr + snr_21\n",
    "far_all = far + far_21\n",
    "combined_far_all = combined_far + combined_far_21\n",
    "data_release_snr_far = pd.DataFrame(list(zip(snr_all, far_all, combined_far_all)), columns=['snr', 'far', 'combined_far'])\n",
    "print(len(data_release_snr_far))\n",
    "\n",
    "# drop duplicates from this dataframe\n",
    "data_release_snr_far_drop = data_release_snr_far.drop_duplicates()\n",
    "print(len(data_release_snr_far_drop))\n",
    "# drop saturated far values from this dataframe\n",
    "data_release_snr_far_drop_sat = data_release_snr_far_drop.drop_duplicates(subset=['combined_far'], keep='first')\n",
    "print(len(data_release_snr_far_drop_sat))\n",
    "# drop rows close to far = 1\n",
    "data_release_snr_far_drop_sat = data_release_snr_far_drop_sat[data_release_snr_far_drop_sat.far < 0.99]\n",
    "print(len(data_release_snr_far_drop_sat))"
   ]
  },
  {
   "cell_type": "code",
   "execution_count": 20,
   "metadata": {},
   "outputs": [],
   "source": [
    "# later we use the combined far and drop out the far so I want to recreat this FAR > 0.99 cut in terms of combined far\n",
    "combined_far_cut = data_release_snr_far_drop_sat['combined_far'].max()"
   ]
  },
  {
   "cell_type": "code",
   "execution_count": 21,
   "metadata": {},
   "outputs": [
    {
     "data": {
      "image/png": "[encoded data removed]",
      "text/plain": [
       "<Figure size 648x432 with 1 Axes>"
      ]
     },
     "metadata": {
      "needs_background": "light"
     },
     "output_type": "display_data"
    }
   ],
   "source": [
    "fig, ax = plt.subplots(figsize = (9, 6))\n",
    "sc = ax.scatter(x=data_release_snr_far_drop_sat['snr'], y=data_release_snr_far_drop_sat['combined_far'], label='real candidates: combined far')\n",
    "ax.set_yscale(\"log\")\n",
    "plt.ylabel('FAR, yr$^-1$')\n",
    "plt.xlabel('Network matched filter SNR')\n",
    "plt.semilogy(samples['net_snr'], samples['FAR'], '-', markersize=3, label=r'samples, $\\alpha = 0.18$')\n",
    "plt.scatter(x=data_release_snr_far_drop_sat['snr'], y=data_release_snr_far_drop_sat['far'], label='real candidates: far')\n",
    "plt.xlim((5,20))\n",
    "plt.ylim((1e-7,1e6))\n",
    "# fig.colorbar(sc, label='$p_{astro}$')\n",
    "plt.legend()\n",
    "plt.grid()\n",
    "plt.savefig('snr_far_relationship.png')"
   ]
  },
  {
   "cell_type": "code",
   "execution_count": 22,
   "metadata": {},
   "outputs": [
    {
     "name": "stdout",
     "output_type": "stream",
     "text": [
      "22.765344123073156 1.7292183560461112\n"
     ]
    }
   ],
   "source": [
    "# we want to fit the snr_to_far relationship to the data and see if a different alpha (or FAR8) comes out\n",
    "from scipy.optimize import curve_fit\n",
    "\n",
    "def far_fn_both(snr, FAR8, alpha):\n",
    "    \"\"\"Calculate the FAR using the parameterisations from the Lynch paper\"\"\"\n",
    "    FAR = FAR8*np.exp(-(snr-8)/alpha)\n",
    "    return FAR\n",
    "\n",
    "parameters, covariance = curve_fit(far_fn_both, data_release_snr_far_drop_sat['snr'], data_release_snr_far_drop_sat['combined_far'])\n",
    "\n",
    "fit_FAR8_both = parameters[0]\n",
    "fit_alpha_both = parameters[1]\n",
    "print(fit_FAR8_both, fit_alpha_both)\n",
    "\n",
    "fitted_FAR_alpha_FAR8 = far_fn_both(data_release_snr_far_drop_sat['snr'], fit_FAR8_both, fit_alpha_both)"
   ]
  },
  {
   "cell_type": "code",
   "execution_count": 23,
   "metadata": {},
   "outputs": [
    {
     "name": "stdout",
     "output_type": "stream",
     "text": [
      "2.113663230696922\n"
     ]
    }
   ],
   "source": [
    "def far_fn(snr, alpha):\n",
    "    \"\"\"Calculate the FAR using the parameterisations from the Lynch paper\"\"\"\n",
    "    FAR = 5500*np.exp(-(snr-8)/alpha)\n",
    "    return FAR\n",
    "\n",
    "parameters, covariance = curve_fit(far_fn, data_release_snr_far_drop_sat['snr'], data_release_snr_far_drop_sat['combined_far'])\n",
    "\n",
    "fit_alpha = parameters[0]\n",
    "print(fit_alpha)\n",
    "\n",
    "fitted_FAR_alpha = far_fn(data_release_snr_far_drop_sat['snr'], fit_alpha)"
   ]
  },
  {
   "cell_type": "code",
   "execution_count": 24,
   "metadata": {},
   "outputs": [],
   "source": [
    "jul_yr = 31557600"
   ]
  },
  {
   "cell_type": "code",
   "execution_count": 25,
   "metadata": {},
   "outputs": [
    {
     "data": {
      "image/png": "[encoded data removed]",
      "text/plain": [
       "<Figure size 648x432 with 1 Axes>"
      ]
     },
     "metadata": {
      "needs_background": "light"
     },
     "output_type": "display_data"
    }
   ],
   "source": [
    "fig, ax = plt.subplots(figsize = (9, 6))\n",
    "sc = ax.scatter(x=data_release_snr_far_drop_sat['snr'], y=data_release_snr_far_drop_sat['combined_far'], label='real candidates: combined far', s=6)\n",
    "ax.set_yscale(\"log\")\n",
    "plt.ylabel('FAR, yr$^-1$')\n",
    "plt.xlabel('Network matched filter SNR')\n",
    "plt.semilogy(samples['net_snr'], samples['FAR'], '-', markersize=3, label=r'Lynch, $\\alpha = 0.18$, FAR8=5500 /yr')\n",
    "plt.semilogy(data_release_snr_far_drop_sat['snr'], fitted_FAR_alpha, '-', markersize=3, label=r'fit, $\\alpha = {}$, FAR8 = 5500 /yr'.format(np.round(fit_alpha, 4)))\n",
    "plt.semilogy(data_release_snr_far_drop_sat['snr'], fitted_FAR_alpha_FAR8, '-', markersize=3, label=r'fit, $\\alpha = {}$, FAR8 = {}/yr'.format(np.round(fit_alpha_both,4), np.round(fit_FAR8_both, 10)))\n",
    "#plt.scatter(x=data_release_snr_far_round_drop_sat['snr'], y=data_release_snr_far_round_drop_sat['far'], label='real candidates: false_alarm_rate', s=6)\n",
    "plt.scatter(x=data_release['network_matched_filter_snr'], y=(data_release['far']), label='real signals', s=6, c='purple')\n",
    "plt.xlim((5,25))\n",
    "plt.ylim((1e-8,1e6))\n",
    "# fig.colorbar(sc, label='$p_{astro}$')\n",
    "plt.legend()\n",
    "plt.grid()\n",
    "plt.savefig('snr_far_relationship.png')"
   ]
  },
  {
   "cell_type": "code",
   "execution_count": 26,
   "metadata": {},
   "outputs": [
    {
     "data": {
      "text/plain": [
       "Text(0.5, 0, 'FAR')"
      ]
     },
     "execution_count": 26,
     "metadata": {},
     "output_type": "execute_result"
    },
    {
     "data": {
      "image/png": "[encoded data removed]",
      "text/plain": [
       "<Figure size 432x288 with 1 Axes>"
      ]
     },
     "metadata": {
      "needs_background": "light"
     },
     "output_type": "display_data"
    }
   ],
   "source": [
    "def plot_loghist(x, bins):\n",
    "  hist, bins = np.histogram(x, bins=bins)\n",
    "  logbins = np.logspace(np.log10(bins[0]),np.log10(bins[-1]),len(bins))\n",
    "  plt.hist(x, bins=logbins)\n",
    "  plt.xscale('log')\n",
    "plot_loghist(data_release_snr_far_drop_sat['combined_far'], 50)\n",
    "plt.xlabel('FAR')"
   ]
  },
  {
   "cell_type": "markdown",
   "metadata": {},
   "source": [
    "Some notes:\n",
    "* the above fits are to the combined far not to the far\n",
    "* the FAR8 = 5500 looks like it's way off this dataset\n",
    "* my FAR cut to remove the saturated values also doesn't look strong enough, the fit is heavily skewed towards these\n",
    "* the SNRs from my samples are a combined SNR for HLV whereas the FAR and SNR from the true data are a mixture of combinations of HLV and single detectors\n",
    "    * **what is the relationship between FAR and combined FAR?**\n",
    "        *  it mostly looks like it's a shift from the plots but I would expect single detector candidates to have the same FAR and combined_FAR\n",
    "* what is the pyCBC broad SNR caluclation\n",
    "\n",
    "from GWTC3:\n",
    "\n",
    "\"PyCBC Live uses a more computationally simple ranking statistic than the one used in offline analyses. This simpler ranking statistic is used in order to maintain speed in a low latency en-vironment and does not contain all of the information used in the offline statistic. The reduced χ2-reweighted SNR [21] and a sine–Gaussian veto [386, 606] are used\n",
    "to assess significance of single-detector triggers. These\n",
    "single-detector triggers are then tested for coincidence,\n",
    "and the coincident ranking statistic is calculated. The\n",
    "ranking statistic is compared to the time-shifted back-\n",
    "ground from five hours of data to estimate FAR.\"\n",
    "\n",
    "from https://pycbc.org/pycbc/latest/html/formats/hdf_format.html?highlight=combined\n",
    "* looks like it describs the sngl_inspiral section of the xml files\n",
    "* I have checked these SNRs against the coinc_inspiral which is just the quadratic sum\n",
    "    * these snrs are the mangitude of the complex SNR\n",
    "* \"we keep its coincidence if its ranking statistic (newSNR) > 8.5\"\n",
    "    * these files have SNR<8.5 suggesting it's not newSNR\n",
    "\n",
    "far = [lal.YRJUL_SI * coinc_results['foreground/ifar']]$^{-1}$ = combined_far, where lal.YRJUL_SI is the julian year\n",
    "\n",
    "false_alarm_rate = 0\n",
    "\n",
    "It looks like these files are built from https://pycbc.org/pycbc/latest/html/_modules/pycbc/io/live.html, and more info at https://pycbc.org/pycbc/latest/html/_modules/pycbc/io/hdf.html \n",
    "* it looks like far is actually the fap, false alarm probability, which makes sense as the values have a maximum of 1\n",
    "* which means I want combined_far whis is 1/ifar\n",
    "\n",
    "false_alarm_rate = coinc_event_vals['fap']\n",
    "\n",
    "combined_far = [coinc_event_vals['ifar']]$^{-1}$\n"
   ]
  },
  {
   "cell_type": "markdown",
   "metadata": {},
   "source": [
    "Let's do the fit again but with the real signals and the candidates combined"
   ]
  },
  {
   "cell_type": "code",
   "execution_count": 27,
   "metadata": {},
   "outputs": [
    {
     "name": "stdout",
     "output_type": "stream",
     "text": [
      "747\n",
      "747\n",
      "703\n",
      "85\n",
      "1.01537516980206 0.9477480993104601\n",
      "0.43076168242541274\n"
     ]
    },
    {
     "data": {
      "image/png": "[encoded data removed]",
      "text/plain": [
       "<Figure size 648x432 with 1 Axes>"
      ]
     },
     "metadata": {
      "needs_background": "light"
     },
     "output_type": "display_data"
    }
   ],
   "source": [
    "# trimming\n",
    "# get the real signals as a list\n",
    "real_snr = data_release['network_matched_filter_snr'].tolist()\n",
    "real_far = data_release['far'].tolist()\n",
    "# combine the lists into a dataframe\n",
    "snr_all_real = snr + snr_21 + real_snr\n",
    "combined_far_all_real = combined_far + combined_far_21 + real_far\n",
    "data_release_snr_far_real = pd.DataFrame(list(zip(snr_all_real, combined_far_all_real)), columns=['snr', 'combined_far'])\n",
    "print(len(data_release_snr_far_real))\n",
    "\n",
    "# drop duplicates from this dataframe\n",
    "real_data_release_snr_far_drop = data_release_snr_far_real.drop_duplicates()\n",
    "print(len(real_data_release_snr_far_drop))\n",
    "# drop saturated far values from this dataframe\n",
    "real_data_release_snr_far_drop_sat = real_data_release_snr_far_drop.drop_duplicates(subset=['combined_far'], keep='first')\n",
    "print(len(real_data_release_snr_far_drop_sat))\n",
    "# drop rows close to far = 1\n",
    "real_data_release_snr_far_drop_sat = real_data_release_snr_far_drop_sat[real_data_release_snr_far_drop_sat.combined_far < 2]\n",
    "print(len(real_data_release_snr_far_drop_sat))\n",
    "\n",
    "\n",
    "# fitting\n",
    "# fitting the function with both free parameters\n",
    "parameters, covariance = curve_fit(far_fn_both, real_data_release_snr_far_drop_sat['snr'], real_data_release_snr_far_drop_sat['combined_far'])\n",
    "\n",
    "fit_FAR8_both = parameters[0]\n",
    "fit_alpha_both = parameters[1]\n",
    "print(fit_FAR8_both, fit_alpha_both)\n",
    "# feed the function the snr's and the fitted parameters\n",
    "fitted_FAR_alpha_FAR8 = far_fn_both(real_data_release_snr_far_drop_sat['snr'], fit_FAR8_both, fit_alpha_both)\n",
    "\n",
    "# the function with just one free parameter\n",
    "parameters1, covariance1 = curve_fit(far_fn, real_data_release_snr_far_drop_sat['snr'], real_data_release_snr_far_drop_sat['combined_far'])\n",
    "\n",
    "fit_alpha = parameters1[0]\n",
    "print(fit_alpha)\n",
    "\n",
    "fitted_FAR_alpha = far_fn(real_data_release_snr_far_drop_sat['snr'], fit_alpha)\n",
    "\n",
    "\n",
    "# plotting\n",
    "fig, ax = plt.subplots(figsize = (9, 6))\n",
    "sc = ax.scatter(x=real_data_release_snr_far_drop_sat['snr'], y=real_data_release_snr_far_drop_sat['combined_far'], label='real and candidates: combined far', s=6)\n",
    "ax.set_yscale(\"log\")\n",
    "plt.ylabel('FAR, yr$^-1$')\n",
    "plt.xlabel('Network matched filter SNR')\n",
    "plt.semilogy(samples['net_snr'], samples['FAR'], '-', markersize=3, label=r'Lynch, $\\alpha = 0.18$, FAR8=5500 /yr')\n",
    "plt.semilogy(real_data_release_snr_far_drop_sat['snr'], fitted_FAR_alpha, '-', markersize=3, label=r'fit, $\\alpha = {}$, FAR8 = 5500 /yr'.format(np.round(fit_alpha, 4)))\n",
    "plt.semilogy(real_data_release_snr_far_drop_sat['snr'], fitted_FAR_alpha_FAR8, '-', markersize=3, label=r'fit, $\\alpha = {}$, FAR8 = {}/yr'.format(np.round(fit_alpha_both,4), np.round(fit_FAR8_both, 10)))\n",
    "\n",
    "plt.xlim((5,25))\n",
    "plt.ylim((1e-8,1e3))\n",
    "# fig.colorbar(sc, label='$p_{astro}$')\n",
    "plt.legend()\n",
    "plt.grid()\n",
    "plt.savefig('snr_far_relationship_real_and_candidates.png')"
   ]
  },
  {
   "cell_type": "markdown",
   "metadata": {},
   "source": [
    "### Using the parameterisation\n",
    "I can proceed with this parameterisation for now and can always come back and update.\n",
    "So let's now convert SNRs into FARs.\n",
    "\n",
    "The above fit gives FAR8 to be 1.015, let's call this 1. $\\alpha = 0.9477$ lets call this 0.95.\n",
    "\n",
    "**have I introduced some sort of bias by cutting my FARs?**"
   ]
  },
  {
   "cell_type": "code",
   "execution_count": 28,
   "metadata": {},
   "outputs": [],
   "source": [
    "# my snr to far function\n",
    "def far_fn(snr, FAR8=1, alpha=0.95):\n",
    "    \"\"\"Calculate the FAR using the parameterisations from the Lynch paper\"\"\"\n",
    "    FAR = FAR8*np.exp(-(snr-8)/alpha)\n",
    "    return FAR"
   ]
  },
  {
   "cell_type": "code",
   "execution_count": 30,
   "metadata": {},
   "outputs": [],
   "source": [
    "samples['FAR'] = far_fn(samples['net_snr'])\n",
    "samples.to_csv('params_inc_FAR.csv')"
   ]
  },
  {
   "cell_type": "code",
   "execution_count": 31,
   "metadata": {},
   "outputs": [
    {
     "data": {
      "text/html": [
       "<div>\n",
       "<style scoped>\n",
       "    .dataframe tbody tr th:only-of-type {\n",
       "        vertical-align: middle;\n",
       "    }\n",
       "\n",
       "    .dataframe tbody tr th {\n",
       "        vertical-align: top;\n",
       "    }\n",
       "\n",
       "    .dataframe thead th {\n",
       "        text-align: right;\n",
       "    }\n",
       "</style>\n",
       "<table border=\"1\" class=\"dataframe\">\n",
       "  <thead>\n",
       "    <tr style=\"text-align: right;\">\n",
       "      <th></th>\n",
       "      <th>mass_1</th>\n",
       "      <th>mass_ratio</th>\n",
       "      <th>a_1</th>\n",
       "      <th>a_2</th>\n",
       "      <th>cos_tilt_1</th>\n",
       "      <th>cos_tilt_2</th>\n",
       "      <th>redshift</th>\n",
       "      <th>mass_2</th>\n",
       "      <th>chi_eff</th>\n",
       "      <th>tilt_1</th>\n",
       "      <th>...</th>\n",
       "      <th>V1_snr</th>\n",
       "      <th>theta_jn</th>\n",
       "      <th>psi</th>\n",
       "      <th>phase</th>\n",
       "      <th>ra</th>\n",
       "      <th>dec</th>\n",
       "      <th>phi_12</th>\n",
       "      <th>phi_jl</th>\n",
       "      <th>net_snr</th>\n",
       "      <th>FAR</th>\n",
       "    </tr>\n",
       "  </thead>\n",
       "  <tbody>\n",
       "    <tr>\n",
       "      <th>0</th>\n",
       "      <td>14.206189</td>\n",
       "      <td>0.753297</td>\n",
       "      <td>0.084464</td>\n",
       "      <td>0.150304</td>\n",
       "      <td>-0.261760</td>\n",
       "      <td>0.392646</td>\n",
       "      <td>0.906271</td>\n",
       "      <td>10.701485</td>\n",
       "      <td>0.012746</td>\n",
       "      <td>1.835642</td>\n",
       "      <td>...</td>\n",
       "      <td>1.249735</td>\n",
       "      <td>0.478923</td>\n",
       "      <td>2.518351</td>\n",
       "      <td>4.208321</td>\n",
       "      <td>3.068214</td>\n",
       "      <td>0.029949</td>\n",
       "      <td>1.709171</td>\n",
       "      <td>6.212235</td>\n",
       "      <td>4.715177</td>\n",
       "      <td>31.744143</td>\n",
       "    </tr>\n",
       "    <tr>\n",
       "      <th>1</th>\n",
       "      <td>7.631592</td>\n",
       "      <td>0.987168</td>\n",
       "      <td>0.301969</td>\n",
       "      <td>0.514466</td>\n",
       "      <td>-0.610410</td>\n",
       "      <td>-0.613718</td>\n",
       "      <td>1.837756</td>\n",
       "      <td>7.533664</td>\n",
       "      <td>-0.249606</td>\n",
       "      <td>2.227374</td>\n",
       "      <td>...</td>\n",
       "      <td>0.376991</td>\n",
       "      <td>2.060811</td>\n",
       "      <td>2.176761</td>\n",
       "      <td>3.695127</td>\n",
       "      <td>3.062258</td>\n",
       "      <td>0.902357</td>\n",
       "      <td>5.343215</td>\n",
       "      <td>3.462008</td>\n",
       "      <td>0.762437</td>\n",
       "      <td>2035.480706</td>\n",
       "    </tr>\n",
       "    <tr>\n",
       "      <th>2</th>\n",
       "      <td>6.088737</td>\n",
       "      <td>0.993740</td>\n",
       "      <td>0.235612</td>\n",
       "      <td>0.437827</td>\n",
       "      <td>0.873063</td>\n",
       "      <td>0.821194</td>\n",
       "      <td>2.090188</td>\n",
       "      <td>6.050621</td>\n",
       "      <td>0.282381</td>\n",
       "      <td>0.509347</td>\n",
       "      <td>...</td>\n",
       "      <td>0.782588</td>\n",
       "      <td>2.746061</td>\n",
       "      <td>0.839684</td>\n",
       "      <td>2.333354</td>\n",
       "      <td>5.323210</td>\n",
       "      <td>1.533282</td>\n",
       "      <td>3.987185</td>\n",
       "      <td>4.133948</td>\n",
       "      <td>1.630003</td>\n",
       "      <td>816.690300</td>\n",
       "    </tr>\n",
       "    <tr>\n",
       "      <th>3</th>\n",
       "      <td>13.368498</td>\n",
       "      <td>0.656860</td>\n",
       "      <td>0.519649</td>\n",
       "      <td>0.126563</td>\n",
       "      <td>0.212090</td>\n",
       "      <td>-0.385168</td>\n",
       "      <td>1.802572</td>\n",
       "      <td>8.781230</td>\n",
       "      <td>0.047193</td>\n",
       "      <td>1.357083</td>\n",
       "      <td>...</td>\n",
       "      <td>0.249479</td>\n",
       "      <td>1.376382</td>\n",
       "      <td>2.458206</td>\n",
       "      <td>0.808485</td>\n",
       "      <td>3.241303</td>\n",
       "      <td>0.622675</td>\n",
       "      <td>1.394951</td>\n",
       "      <td>0.676842</td>\n",
       "      <td>0.953321</td>\n",
       "      <td>1664.960105</td>\n",
       "    </tr>\n",
       "    <tr>\n",
       "      <th>4</th>\n",
       "      <td>23.997822</td>\n",
       "      <td>0.479771</td>\n",
       "      <td>0.313633</td>\n",
       "      <td>0.007355</td>\n",
       "      <td>0.270814</td>\n",
       "      <td>0.404514</td>\n",
       "      <td>1.759925</td>\n",
       "      <td>11.513460</td>\n",
       "      <td>0.058363</td>\n",
       "      <td>1.296558</td>\n",
       "      <td>...</td>\n",
       "      <td>0.578285</td>\n",
       "      <td>1.917434</td>\n",
       "      <td>0.655696</td>\n",
       "      <td>5.435143</td>\n",
       "      <td>1.227290</td>\n",
       "      <td>1.416742</td>\n",
       "      <td>0.354682</td>\n",
       "      <td>3.028431</td>\n",
       "      <td>1.492217</td>\n",
       "      <td>944.162258</td>\n",
       "    </tr>\n",
       "  </tbody>\n",
       "</table>\n",
       "<p>5 rows × 33 columns</p>\n",
       "</div>"
      ],
      "text/plain": [
       "      mass_1  mass_ratio       a_1       a_2  cos_tilt_1  cos_tilt_2  \\\n",
       "0  14.206189    0.753297  0.084464  0.150304   -0.261760    0.392646   \n",
       "1   7.631592    0.987168  0.301969  0.514466   -0.610410   -0.613718   \n",
       "2   6.088737    0.993740  0.235612  0.437827    0.873063    0.821194   \n",
       "3  13.368498    0.656860  0.519649  0.126563    0.212090   -0.385168   \n",
       "4  23.997822    0.479771  0.313633  0.007355    0.270814    0.404514   \n",
       "\n",
       "   redshift     mass_2   chi_eff    tilt_1  ...    V1_snr  theta_jn       psi  \\\n",
       "0  0.906271  10.701485  0.012746  1.835642  ...  1.249735  0.478923  2.518351   \n",
       "1  1.837756   7.533664 -0.249606  2.227374  ...  0.376991  2.060811  2.176761   \n",
       "2  2.090188   6.050621  0.282381  0.509347  ...  0.782588  2.746061  0.839684   \n",
       "3  1.802572   8.781230  0.047193  1.357083  ...  0.249479  1.376382  2.458206   \n",
       "4  1.759925  11.513460  0.058363  1.296558  ...  0.578285  1.917434  0.655696   \n",
       "\n",
       "      phase        ra       dec    phi_12    phi_jl   net_snr          FAR  \n",
       "0  4.208321  3.068214  0.029949  1.709171  6.212235  4.715177    31.744143  \n",
       "1  3.695127  3.062258  0.902357  5.343215  3.462008  0.762437  2035.480706  \n",
       "2  2.333354  5.323210  1.533282  3.987185  4.133948  1.630003   816.690300  \n",
       "3  0.808485  3.241303  0.622675  1.394951  0.676842  0.953321  1664.960105  \n",
       "4  5.435143  1.227290  1.416742  0.354682  3.028431  1.492217   944.162258  \n",
       "\n",
       "[5 rows x 33 columns]"
      ]
     },
     "execution_count": 31,
     "metadata": {},
     "output_type": "execute_result"
    }
   ],
   "source": [
    "samples.head()"
   ]
  },
  {
   "cell_type": "code",
   "execution_count": null,
   "metadata": {},
   "outputs": [],
   "source": []
  }
 ],
 "metadata": {
  "interpreter": {
   "hash": "05af7feea5480bf24e6d403440487bddf600da1c41836b21e06a13439b27007a"
  },
  "kernelspec": {
   "display_name": "Python 3.7.3 ('phd1': venv)",
   "language": "python",
   "name": "python3"
  },
  "language_info": {
   "codemirror_mode": {
    "name": "ipython",
    "version": 3
   },
   "file_extension": ".py",
   "mimetype": "text/x-python",
   "name": "python",
   "nbconvert_exporter": "python",
   "pygments_lexer": "ipython3",
   "version": "3.7.3"
  },
  "orig_nbformat": 4
 },
 "nbformat": 4,
 "nbformat_minor": 2
}
