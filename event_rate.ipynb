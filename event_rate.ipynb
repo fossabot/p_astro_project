{
 "cells": [
  {
   "cell_type": "markdown",
   "metadata": {},
   "source": [
    "### Obtaining event rates\n",
    "\n",
    "Now I want to create an GW event rate.\n",
    "\n",
    "From Lynch:\n",
    "\n",
    "GW event rate = $<V><R>$\n",
    "\n",
    "\"R is LIGO-Virgo’s empirically motivated rate-density estimate and ⟨V⟩ is the average sensitive volume of the epoch’s GW search. We estimate the cosmologically-corrected sensitive volume for each epoch at an SNR threshold of 8, ⟨V8⟩, using the online distance calculator provided by (Chen et al. 2017b), so that the average sensitive volume at a given ρ is given by:\"\n",
    "\n",
    "$<V> = <V_8> \\times (\\frac{\\rho}{8})^{-3}$\n",
    "\n",
    "Have a poke through Ben Farr's project to see how to go about event rate calculations https://git.ligo.org/post-o5/science-study .\n",
    "\n",
    "---\n",
    "\n",
    "From https://arxiv.org/abs/1709.08079\n",
    "\n",
    "$V_z = \\frac{\\int_{D_c \\lt d^h} \\frac{D_c^2}{1+z(D_c)}dD_c d\\Omega \\sin{\\iota} d\\iota d\\psi}{\\sin{\\iota}d\\iota d\\psi}$\n",
    "\n",
    "$d^h$ is the farthest luminosity distance that the BBH could be detected with an SNR>8 in an optimal orientation. BBH is defined as a $30-30 M_{\\odot}$ system (source frame). This is the comoving distance for an SNR at threshold.\n",
    "\n",
    "$D_c$ is the comoving distance.\n",
    "\n",
    "$V_z = \\frac{4}{3} \\pi R^3$ for R the range distance.\n",
    "\n",
    "Tool for calculating distances: https://github.com/hsinyuc/distancetool\n",
    "\n",
    "---\n",
    "\n",
    "Noise curves found here: https://dcc.ligo.org/LIGO-T2000012/public\n",
    "\n",
    "and post-O5: https://git.ligo.org/post-o5/sensitivity-curves\n",
    "\n",
    "---\n",
    "\n",
    "Check GWpopulation code for rate estimation stuff. TUTORIAL."
   ]
  },
  {
   "cell_type": "code",
   "execution_count": null,
   "metadata": {},
   "outputs": [],
   "source": []
  }
 ],
 "metadata": {
  "language_info": {
   "name": "python"
  },
  "orig_nbformat": 4
 },
 "nbformat": 4,
 "nbformat_minor": 2
}
