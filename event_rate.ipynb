{
 "cells": [
  {
   "cell_type": "markdown",
   "metadata": {},
   "source": [
    "Now I want to create an GW event rate\n",
    "\n",
    "GW event rate = $<V><R>$\n",
    "\n",
    "Have a poke through Ben Farr's project to see how to go about event rate calculations https://git.ligo.org/post-o5/science-study ."
   ]
  },
  {
   "cell_type": "code",
   "execution_count": null,
   "metadata": {},
   "outputs": [],
   "source": []
  }
 ],
 "metadata": {
  "language_info": {
   "name": "python"
  },
  "orig_nbformat": 4
 },
 "nbformat": 4,
 "nbformat_minor": 2
}
