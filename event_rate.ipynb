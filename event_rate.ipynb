{
 "cells": [
  {
   "cell_type": "markdown",
   "metadata": {},
   "source": [
    "### Obtaining event rates\n",
    "\n",
    "Now I want to create an GW event rate.\n",
    "\n",
    "From Lynch:\n",
    "\n",
    "GW event rate = $<V><R>$\n",
    "\n",
    "\"R is LIGO-Virgo’s empirically motivated rate-density estimate and ⟨V⟩ is the average sensitive volume of the epoch’s GW search. We estimate the cosmologically-corrected sensitive volume for each epoch at an SNR threshold of 8, ⟨V8⟩, using the online distance calculator provided by (Chen et al. 2017b), so that the average sensitive volume at a given ρ is given by:\"\n",
    "\n",
    "$<V> = <V_8> \\times (\\frac{\\rho}{8})^{-3}$\n",
    "\n",
    "Have a poke through Ben Farr's project to see how to go about event rate calculations https://git.ligo.org/post-o5/science-study .\n",
    "\n",
    "---\n",
    "\n",
    "From https://arxiv.org/abs/1709.08079\n",
    "\n",
    "$V_z = \\frac{\\int_{D_c \\lt d^h} \\frac{D_c^2}{1+z(D_c)}dD_c d\\Omega \\sin{\\iota} d\\iota d\\psi}{\\sin{\\iota}d\\iota d\\psi}$\n",
    "\n",
    "$d^h$ is the farthest luminosity distance that the BBH could be detected with an SNR>8 in an optimal orientation. BBH is defined as a $30-30 M_{\\odot}$ system (source frame). This is the comoving distance for an SNR at threshold.\n",
    "\n",
    "$D_c$ is the comoving distance.\n",
    "\n",
    "$V_z = \\frac{4}{3} \\pi R^3$ for R the range distance.\n",
    "\n",
    "Tool for calculating distances: https://github.com/hsinyuc/distancetool\n",
    "\n",
    "---\n",
    "\n",
    "Noise curves found here: https://dcc.ligo.org/LIGO-T2000012/public\n",
    "\n",
    "and post-O5: https://git.ligo.org/post-o5/sensitivity-curves\n",
    "\n",
    "---\n",
    "\n",
    "Check GWpopulation code for rate estimation stuff. TUTORIAL."
   ]
  },
  {
   "cell_type": "markdown",
   "metadata": {},
   "source": [
    "* To estimate the TAR we can take a set of hyperparameters, say the median of one population model, and assume this to be the true distribution.\n",
    "    * **STEP 0**: identiofy the normalisation constant that must have been required in making the plots in the GWTC-3 pops paper\n",
    "    * **STEP ONE**: assume a true model\n",
    "* The arrival of events follows a Poisson distribution from which we are interested in the rate $\\Lambda$.\n",
    "* When we draw from a population model, we obtain merger rate densities. \n",
    "* Taking the distribution of $m_1$ as an example; this is a probability distribution with the vertical axis given in terms of $\\frac{d\\mathcal{R}}{dm_1}[\\text{Gpc}^{-3}\\text{yr}^{-1}\\text{M}_{\\odot}^{-1}]$.\n",
    "* If we want to be left with a rate then we want to integrate over the co-moving volume and over the masses.\n",
    "* As per Mandel et al., drawing samples from a distribution for a given parameter and then averaging them is equivalent to integrating that parameter out of the distribution.\n",
    "* So if we want to be left with a rate in units of yr$^{-1}$ (in the observer frame), we want to draw samples for mass from the distribution and average over these, then draw samples for redshift to integrate out the comoving volume. \n",
    "    * **STEP TWO**: sample masses from the model and average over these\n",
    "    * **STEP THREE**: sample redshifts from the model and average over these\n",
    "        * the redshift step sounds a little trickier than just that, redshift to comoving volume and average\n",
    "* In doing this we need to be careful about the sampling procedure and ensure that samples are taken uniformly from the distribution. \n",
    "* When we assume a model and use it to obtain samples, we need to divide by the shape (in terms of areas of over and under density) of the model.\n",
    "* **NORMALISATION** of the model is important, I need to keep track of this or my rate will be determined by the number of samples"
   ]
  },
  {
   "cell_type": "code",
   "execution_count": 4,
   "metadata": {},
   "outputs": [
    {
     "name": "stderr",
     "output_type": "stream",
     "text": [
      "/tmp/ipykernel_3652571/508668751.py:172: UserWarning: This figure was using constrained_layout, but that is incompatible with subplots_adjust and/or tight_layout; disabling constrained_layout.\n",
      "  plt.tight_layout()\n"
     ]
    }
   ],
   "source": [
    "\n",
    "\"\"\"\n",
    "make_plpeak_mass_spectrum.py\n",
    "\n",
    "Part of the data release: https://zenodo.org/record/5650062\n",
    "\n",
    "Authors: Bruce Edelman on behalf of the LIGO Scientific Collaboration, Virgo Collaboration and KAGRA Collaboration\n",
    "\n",
    "This software is provided under license: Creative Commons Attribution 4.0\n",
    "International (https://creativecommons.org/licenses/by/4.0/legalcode) and  is provided as-is.\n",
    "\n",
    "This script creates Figure 10 in the companion paper\n",
    "\n",
    "JH: python make_plpeak_mass_spectrum.py ../analyses/PowerLawPeak/o1o2o3_mass_c_iid_mag_iid_tilt_powerlaw_redshift_mass_data.h5 output_name.png\n",
    "\n",
    "\"\"\"\n",
    "import numpy as np\n",
    "import matplotlib.pyplot as plt\n",
    "import mpl_utils\n",
    "import argparse\n",
    "import json\n",
    "import h5py\n",
    "\n",
    "fig_width = mpl_utils.widths[\"textwidth\"]\n",
    "\n",
    "# cli_parser = argparse.ArgumentParser()\n",
    "# cli_parser.add_argument('input_fname')\n",
    "# cli_parser.add_argument('output_fname')\n",
    "# cli_args = cli_parser.parse_args()\n",
    "\n",
    "input_fname = '../GWTC-3-population-data/analyses/PowerLawPeak/o1o2o3_mass_c_iid_mag_iid_tilt_powerlaw_redshift_mass_data.h5'\n",
    "\n",
    "color_plpeak = \"#1f78b4\"\n",
    "# O3a_PPD = \"o3a_population_data_release/Multiple-Fig-Data/mass_ppd/default/o1o2o3_mass_c_iid_mag_two_comp_iid_tilt_powerlaw_redshift_mass_data.h5\"\n",
    "O3a_PPD = '../GWTC-3-population-data/analyses/PowerLawPeak/o1o2o3_mass_c_iid_mag_iid_tilt_powerlaw_redshift_mass_data.h5'\n",
    "O3_only_PPD = input_fname\n",
    "O3_only_result = O3_only_PPD.replace(\"_mass_data.h5\", \"_result.json\")\n",
    "\n",
    "with open(O3_only_result, \"r\") as jfile:\n",
    "    plpeak_jf = json.load(jfile)\n",
    "\n",
    "posterior_samples_plpeak = plpeak_jf[\"posterior\"][\"content\"]\n",
    "peak_plp = posterior_samples_plpeak[\"mpp\"]\n",
    "peak_plp_05 = np.quantile(peak_plp, 0.05)\n",
    "peak_plp_95 = np.quantile(peak_plp, 0.95)\n",
    "\n",
    "mass_1 = np.linspace(2, 100, 1000)\n",
    "mass_ratio = np.linspace(0.1, 1, 500)\n",
    "\n",
    "fig, axs = plt.subplots(\n",
    "    nrows=1, ncols=2, figsize=(2 * fig_width, (9.0 / 16) * fig_width)\n",
    ")\n",
    "\n",
    "with h5py.File(O3_only_PPD, \"r\") as f:\n",
    "    mass_ppd = f[\"ppd\"]\n",
    "    mass_lines = f[\"lines\"]\n",
    "    mass_1_ppd = np.trapz(mass_ppd, mass_ratio, axis=0)\n",
    "    mass_r_ppd = np.trapz(mass_ppd, mass_1, axis=-1)\n",
    "    mass_1_lower = np.percentile(mass_lines[\"mass_1\"], 5, axis=0)\n",
    "    mass_1_upper = np.percentile(mass_lines[\"mass_1\"], 95, axis=0)\n",
    "    mass_r_lower = np.percentile(mass_lines[\"mass_ratio\"], 5, axis=0)\n",
    "    mass_r_upper = np.percentile(mass_lines[\"mass_ratio\"], 95, axis=0)\n",
    "\n",
    "ax = axs[0]\n",
    "ax.plot(\n",
    "    mass_1, mass_1_ppd, lw=1.8, color=color_plpeak, zorder=1, label=\"GWTC-3\"\n",
    ")\n",
    "ax.plot(mass_1, mass_1_lower, lw=0.2, color=color_plpeak, zorder=1, alpha=0.3)\n",
    "ax.plot(mass_1, mass_1_upper, lw=0.2, color=color_plpeak, zorder=1, alpha=0.3)\n",
    "ax.fill_between(\n",
    "    mass_1,\n",
    "    mass_1_lower,\n",
    "    mass_1_upper,\n",
    "    alpha=0.14,\n",
    "    color=color_plpeak,\n",
    "    zorder=0,\n",
    ")\n",
    "\n",
    "ax.set_xlim(2.0, 100.0)\n",
    "ax.set_yscale(\"log\")\n",
    "ax.set_ylim(1e-3, 10)\n",
    "ax.grid(True, dashes=(1, 3))\n",
    "ax.fill_betweenx(\n",
    "    [1e-5, 1e5],\n",
    "    peak_plp_05,\n",
    "    peak_plp_95,\n",
    "    zorder=-3,\n",
    "    facecolor=\"#ebebeb\",\n",
    "    edgecolor=\"grey\",\n",
    "    alpha=0.9,\n",
    "    linewidth=0,\n",
    ")\n",
    "ax.set_xlabel(r\"$m_{1}\\,[M_{\\odot}]$\")\n",
    "ax.set_ylabel(\n",
    "    r\"$\\frac{\\mathrm{d}R}{dm_{1}} [\\mathrm{Gpc}^{-3}\\,\\mathrm{yr}^{-1}\\,M_{\\odot}^{-1}]$\"\n",
    ")\n",
    "ax = axs[1]\n",
    "ax.plot(\n",
    "    mass_ratio,\n",
    "    mass_r_ppd,\n",
    "    lw=1.8,\n",
    "    color=color_plpeak,\n",
    "    zorder=1,\n",
    "    label=\"GWTC-3\",\n",
    ")\n",
    "ax.plot(\n",
    "    mass_ratio, mass_r_lower, lw=0.2, color=color_plpeak, zorder=1, alpha=0.3\n",
    ")\n",
    "ax.plot(\n",
    "    mass_ratio, mass_r_upper, lw=0.2, color=color_plpeak, zorder=1, alpha=0.3\n",
    ")\n",
    "ax.fill_between(\n",
    "    mass_ratio,\n",
    "    mass_r_lower,\n",
    "    mass_r_upper,\n",
    "    alpha=0.14,\n",
    "    color=color_plpeak,\n",
    "    zorder=0,\n",
    ")\n",
    "\n",
    "ax.set_xlim(0.1, 1)\n",
    "ax.set_yscale(\"log\")\n",
    "ax.set_ylim(0.1, 1000)\n",
    "ax.grid(True, dashes=(1, 3))\n",
    "ax.set_xlabel(r\"$q$\")\n",
    "ax.set_ylabel(\n",
    "    r\"$\\frac{\\mathrm{d}R}{dq} [\\mathrm{Gpc}^{-3}\\,\\mathrm{yr}^{-1}]$\"\n",
    ")\n",
    "\n",
    "mass_1 = np.linspace(3, 100, 1000)\n",
    "with h5py.File(O3a_PPD, \"r\") as f:\n",
    "    mass_ppd = f[\"ppd\"]\n",
    "    mass_lines = f[\"lines\"]\n",
    "\n",
    "    # Integrate the 2D PPD over mass ratio to get marginal m1 PPD\n",
    "    mass_1_ppd = np.trapz(mass_ppd, mass_ratio, axis=0)\n",
    "    mass_r_ppd = np.trapz(mass_ppd, mass_1, axis=-1)\n",
    "\n",
    "    # Get 0.05 and 0.95 percentiles at each m1\n",
    "    mass_1_lower = np.percentile(mass_lines[\"mass_1\"], 5, axis=0)\n",
    "    mass_1_upper = np.percentile(mass_lines[\"mass_1\"], 95, axis=0)\n",
    "    mass_r_lower = np.percentile(mass_lines[\"mass_ratio\"], 5, axis=0)\n",
    "    mass_r_upper = np.percentile(mass_lines[\"mass_ratio\"], 95, axis=0)\n",
    "\n",
    "ax = axs[0]\n",
    "ax.plot(\n",
    "    mass_1,\n",
    "    mass_1_lower,\n",
    "    lw=1,\n",
    "    ls=\"--\",\n",
    "    color=\"k\",\n",
    "    zorder=1,\n",
    "    alpha=1,\n",
    "    label=\"GWTC-2\",\n",
    ")\n",
    "ax.plot(mass_1, mass_1_upper, lw=1, ls=\"--\", color=\"k\", zorder=1, alpha=1)\n",
    "ax.plot(mass_1, mass_1_ppd, lw=1, color=\"k\", zorder=1, alpha=1)\n",
    "ax.legend(frameon=False)\n",
    "ax = axs[1]\n",
    "ax.plot(\n",
    "    mass_ratio,\n",
    "    mass_r_lower,\n",
    "    lw=1,\n",
    "    ls=\"--\",\n",
    "    color=\"k\",\n",
    "    zorder=1,\n",
    "    alpha=1,\n",
    "    label=\"GWTC-2\",\n",
    ")\n",
    "ax.plot(mass_ratio, mass_r_upper, lw=1, ls=\"--\", color=\"k\", zorder=1, alpha=1)\n",
    "ax.plot(mass_ratio, mass_r_ppd, lw=1, color=\"k\", zorder=1, alpha=1)\n",
    "ax.legend(frameon=False)\n",
    "plt.tight_layout()\n",
    "plt.savefig('plpeak_mass_spectrum.png')\n"
   ]
  },
  {
   "cell_type": "code",
   "execution_count": null,
   "metadata": {},
   "outputs": [],
   "source": [
    "%matplotlib inline\n",
    "plt.show()"
   ]
  },
  {
   "cell_type": "code",
   "execution_count": 26,
   "metadata": {},
   "outputs": [],
   "source": [
    "import h5py\n",
    "\n",
    "O3a_PPD = \"../GWTC-3-population-data/Multiple-Fig-Data/mass_ppd/default/o1o2o3_mass_c_iid_mag_two_comp_iid_tilt_powerlaw_redshift_mass_data.h5\"\n",
    "h5 = h5py.File(O3a_PPD,'r')"
   ]
  },
  {
   "cell_type": "code",
   "execution_count": 33,
   "metadata": {},
   "outputs": [
    {
     "data": {
      "text/plain": [
       "[<matplotlib.lines.Line2D at 0x7f90c2833e80>]"
      ]
     },
     "execution_count": 33,
     "metadata": {},
     "output_type": "execute_result"
    },
    {
     "data": {
      "image/png": "[encoded data removed]",
      "text/plain": [
       "<Figure size 432x288 with 1 Axes>"
      ]
     },
     "metadata": {
      "needs_background": "light"
     },
     "output_type": "display_data"
    }
   ],
   "source": [
    "plt.plot(h5['lines']['mass_1'][1])"
   ]
  },
  {
   "cell_type": "code",
   "execution_count": 7,
   "metadata": {},
   "outputs": [
    {
     "data": {
      "text/plain": [
       "<contextlib._GeneratorContextManager at 0x7f91059674a8>"
      ]
     },
     "execution_count": 7,
     "metadata": {},
     "output_type": "execute_result"
    }
   ],
   "source": [
    "dataset"
   ]
  },
  {
   "cell_type": "code",
   "execution_count": 18,
   "metadata": {},
   "outputs": [],
   "source": [
    "import argparse\n",
    "import json\n",
    "import h5py\n",
    "cli_parser = argparse.ArgumentParser()\n",
    "cli_parser.add_argument(\"input_fname\")\n",
    "cli_parser.add_argument(\"output_fname\")\n",
    "cli_args = cli_parser.parse_args\n",
    "\n",
    "# color_plpeak = \"#1f78b4\"\n",
    "# O3a_PPD = \"../GWTC-3-population-data/Multiple-Fig-Data/mass_ppd/default/o1o2o3_mass_c_iid_mag_two_comp_iid_tilt_powerlaw_redshift_mass_data.h5\"\n",
    "# O3_only_PPD = cli_args.input_fname\n",
    "# O3_only_result = O3_only_PPD.replace(\"_mass_data.h5\", \"_result.json\")"
   ]
  },
  {
   "cell_type": "code",
   "execution_count": null,
   "metadata": {},
   "outputs": [],
   "source": []
  }
 ],
 "metadata": {
  "interpreter": {
   "hash": "05af7feea5480bf24e6d403440487bddf600da1c41836b21e06a13439b27007a"
  },
  "kernelspec": {
   "display_name": "Python 3.7.3 ('phd1': venv)",
   "language": "python",
   "name": "python3"
  },
  "language_info": {
   "codemirror_mode": {
    "name": "ipython",
    "version": 3
   },
   "file_extension": ".py",
   "mimetype": "text/x-python",
   "name": "python",
   "nbconvert_exporter": "python",
   "pygments_lexer": "ipython3",
   "version": "3.9.10"
  },
  "orig_nbformat": 4
 },
 "nbformat": 4,
 "nbformat_minor": 2
}
